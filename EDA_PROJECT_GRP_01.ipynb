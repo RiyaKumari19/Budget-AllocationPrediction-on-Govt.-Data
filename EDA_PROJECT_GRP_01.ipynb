{
  "cells": [
    {
      "cell_type": "markdown",
      "metadata": {
        "id": "N3Vm1ATzZMYf"
      },
      "source": [
        "**SARVA SHIKSHA ABHIYAAN EXPLORATORY DATA ANALYSIS PROJECT**\n",
        "\n",
        "\n",
        "\n"
      ]
    },
    {
      "cell_type": "markdown",
      "metadata": {
        "id": "88Nzub2gjG5Q"
      },
      "source": [
        "#**CONTENTS**\n",
        "\n",
        "#**1.INTRODUCTION**\n",
        "\n",
        "1.1-->DESCRIPTION\n",
        "\n",
        "1.2--> ABBREVIATION USED\n",
        "\n",
        "\n",
        "#**2.DATASET**\n",
        "\n",
        "2.1-->SOURCE LINK\n",
        "\n",
        "2.2-->DATA DESCRIPTION\n",
        "\n",
        "\n",
        "#**3.DATA UNDERSTANDING**\n",
        "\n",
        "3.1-->IMPORTING THE RELEVANT LIBRARY\n",
        "\n",
        "3.2-->IMPORTING DATASET\n",
        "\n",
        "3.3-->READING COLUMNS IN THE DATASETS\n",
        "\n",
        "3.4-->RENAMING ALL COLUMN NAMES\n",
        "\n",
        "3.5-->COPYING DATA TO ssa DATAFRAME FROM ssa_df\n",
        "\n",
        "3.6-->DATA INFORMATION\n",
        "\n",
        "3.7-->DATASET SHAPE\n",
        "\n",
        "3.8-->DESCRIPTIVE ANALYSIS\n",
        "\n",
        "#**4.DATA CLEANING**\n",
        "\n",
        "**PART A: MISSING VALUE(INTERPRETING NUMERICALLLY)**\n",
        "\n",
        "4.1-->CHECKING FOR MISSING VALUES\n",
        "\n",
        "4.2-->CHECKING MISSING PERCENTAGE\n",
        "\n",
        "4.3-->REASON FOR MISSING 100% DATA\n",
        "\n",
        "4.4-->DROPPING ROWS/COLUMNS\n",
        "\n",
        "**PART B: VISUALIZING THE MISSING VALUES(INTERPRETING GRAPHICALLY)**\n",
        "\n",
        "4.5--> Visualize missing values as a matrix\n",
        "\n",
        "**PART C:DEALING WITH MISSING VALUES**\n",
        "\n",
        "4.6--> DROP/DELETE MISSING VALUES\n",
        "\n",
        "4.7--> PRINTING ALL ROWS WITH NULL VALUES\n",
        "\n",
        "**PART D:REASONS AND IMPUTING NULL VALUES**\n",
        "\n",
        "4.8--> REASON AND IMPUTING MISSING VALUE OF released_funds_in_state\n",
        "\n",
        "4.9--> REASON AND IMPUTING MISSING VALUE OF of total_funds\n",
        "\n",
        "4.10--> REASON AND IMPUTING MISSING VALUE OF funds_released_against_budgetapproved\n",
        "\n",
        "4.11--> DISPLAYING VALUES AFTER COMPUTING\n",
        "\n",
        "4.12--> CHECKING AGAIN TOTAL NUMBER OF NULL VALUES\n",
        "\n",
        "#**5.DATA VISUALIZATION**\n",
        "\n",
        "5.1-->BUBBLE CHART\n",
        "\n",
        "5.2-->HEATMAP\n",
        "\n",
        "5.3-->STACKED BAR CHART\n",
        "\n",
        "5.4-->DYNAMIC DASHBOARD\n",
        "      (POWER BI)\n",
        "#**6.DATA PREDICTION**\n",
        "\n",
        "**PART 1:**\n",
        "\n",
        "6.1-->FINDING CORRELATION\n",
        "\n",
        "6.2-->PREPROCESSING DATA FOR MODELING\n",
        "\n",
        "**PART B:MACHINE LEARNING MODELING**\n",
        "\n",
        "6.3-->OBJECTIVES\n",
        "\n",
        "6.4-->RESULT\n"
      ]
    },
    {
      "cell_type": "markdown",
      "metadata": {
        "id": "nel3NqFAf2T4"
      },
      "source": [
        "#**1. INTRODUCTION**\n"
      ]
    },
    {
      "cell_type": "markdown",
      "metadata": {
        "id": "0Odaj3M2mM_D"
      },
      "source": [
        "**1.1 DESCRIPTION**\n",
        "\n",
        "The EDA project in Sarva Shiksha Abhiyan financial data involves analyzing historical budget allocation and expenditure data to identify patterns and trends. Using this analysis, a predictive model is developed to estimate the budget allocation for the next year."
      ]
    },
    {
      "cell_type": "markdown",
      "metadata": {
        "id": "d3_rP5WhpTdQ"
      },
      "source": [
        "**1.2 ABBREVIATION USED**\n",
        "\n",
        "1. SMA - SARVA SHIKSHA ABHIYAN\n",
        "\n",
        "2. ssa_df =DATAFRAME NAME FROM INDEX 3.2 TO 3.4\n",
        "\n",
        "3. ssa - DATAFRAME NAME  "
      ]
    },
    {
      "cell_type": "markdown",
      "metadata": {
        "id": "Q2J5G0qsf8gm"
      },
      "source": [
        "#**2. DATASET**"
      ]
    },
    {
      "cell_type": "markdown",
      "metadata": {
        "id": "vLgmKN66gFwI"
      },
      "source": [
        "**2.1 SOURCE LINK**"
      ]
    },
    {
      "cell_type": "markdown",
      "metadata": {
        "id": "kzYKNAtmmQ9j"
      },
      "source": [
        "Data source - https://openbudgetsindia.org/dataset/sarva-shiksha-abhiyan-ssa-2015-16-to-2017-18"
      ]
    },
    {
      "cell_type": "markdown",
      "metadata": {
        "id": "57hOcnR1i_gu"
      },
      "source": [
        "**2.2 DATA DESCRIPTION**\n",
        "\n",
        "-->Overall narrative summary of data:-\n",
        "\n",
        "i)There are total 999 observation in our ssa dataset.\n",
        "\n",
        "ii)There are total 26 variable in our dataset.\n",
        "\n",
        "iii)In our final dataset we have found only 108 rows and 11 variables are usefull other rows and columns are null.\n",
        "\n",
        "iv)Below is the Data type of variables:-\n",
        "  \n",
        "    0   State --> object\n",
        "    \n",
        "    1   State_UT_Code --> float64\n",
        "    \n",
        "    2   Financial Year --> object\n",
        "    \n",
        "    3   Budget Approved --> float64\n",
        "    \n",
        "    4   Funds Released by the Government of India -->  float64\n",
        "    \n",
        "    5   Funds Released by the States/UTs  --> float64\n",
        "    \n",
        "    6   Total Funds Released (Government of India and States' Share) --> float64\n",
        "\n",
        "    7   Expenditure Incurred by the States/UTs  --> float64\n",
        "    \n",
        "    8   Unspent Balance --> float64\n",
        "    \n",
        "    9   Extent of Funds Released against Budget Approved --> float64\n",
        "    \n",
        "    10  Extent of Funds Utilised against Budget Approved --> float64t\n",
        "\n",
        "v)The Sarva Shiksha Abhiyan (SSA) dataset contains information on the budget, funds released, expenditure, and utilization of funds for elementary education in India. The dataset includes the following variables:\n",
        "\n",
        "    State: A categorical variable indicating the state in India for which the data is reported.\n",
        "\n",
        "    State_UT_Code: A numerical code for the state/UT (Union Territory).\n",
        "\n",
        "    Financial Year: The year for which the budget and expenditure data are reported.\n",
        "\n",
        "    Budget Approved: The budget approved for the SSA program in the given financial year.\n",
        "\n",
        "    Funds Released by the Government of India: The funds released by the central government for the SSA program in the given financial year.\n",
        "\n",
        "    Funds Released by the States/UTs: The funds released by the state/UT government for the SSA program in the given financial year.\n",
        "\n",
        "    Total Funds Released (Government of India and States' Share): The total funds released for the SSA program in the given financial year.\n",
        "\n",
        "    Expenditure Incurred by the States/UTs: The expenditure incurred by the state/UT government for the SSA program in the given financial year.\n",
        "\n",
        "    Unspent Balance: The unspent balance of the funds released for the SSA program in the given financial year.\n",
        "\n",
        "    Extent of Funds Released against Budget Approved(%): The extent to which the funds released for the SSA program match the budget approved for the given financial year.\n",
        "\n",
        "    Extent of Funds Utilised against Budget Approved(%): The extent to which the funds utilized for the SSA program match the budget approved for the given financial year.\n",
        "\n",
        "\n",
        "The SSA program aims to provide universal access to primary education in India and to improve the quality of education. This dataset can be used to analyze the implementation and effectiveness of the program in different states/UTs of India\n",
        "\n"
      ]
    },
    {
      "cell_type": "markdown",
      "metadata": {
        "id": "uJdcDdFiRmfS"
      },
      "source": [
        "# **3. DATA UNDERSTANDING**"
      ]
    },
    {
      "cell_type": "markdown",
      "metadata": {
        "id": "uauAq6hE7JpR"
      },
      "source": [
        "**3.1 IMPORTING THE RELEVANT LIBRARIES**"
      ]
    },
    {
      "cell_type": "code",
      "execution_count": null,
      "metadata": {
        "id": "Dhyoxow5mZCP"
      },
      "outputs": [],
      "source": [
        "import pandas as pd\n",
        "import numpy as np\n",
        "import matplotlib.pyplot as plt\n",
        "import missingno as msno         #for missing value plot\n",
        "\n",
        "import pandas as pd\n",
        "from sklearn.linear_model import LinearRegression\n",
        "from sklearn.model_selection import train_test_split\n",
        "from sklearn.metrics import mean_squared_error\n"
      ]
    },
    {
      "cell_type": "markdown",
      "metadata": {
        "id": "IgYSq9D-AIde"
      },
      "source": [
        "**3.2 IMPORTING DATASET FROM GIT**"
      ]
    },
    {
      "cell_type": "code",
      "execution_count": null,
      "metadata": {
        "id": "hxmFMbjhjQIF"
      },
      "outputs": [],
      "source": [
        "#IMPORTING DATASET\n",
        "#Data source - https://openbudgetsindia.org/dataset/sarva-shiksha-abhiyan-ssa-2015-16-to-2017-18\n",
        "ssa_df = pd.read_csv(\"https://raw.githubusercontent.com/Jatansahu/EDA-SHARVA-SHIKSHA-ABHIYAN/main/ssacsv.csv?token=GHSAT0AAAAAAB5J5GGWR277QD5INAQZ4MY4ZCJL4YA\")"
      ]
    },
    {
      "cell_type": "markdown",
      "metadata": {
        "id": "zoQ2B5bgJBhK"
      },
      "source": [
        "**3.3 READING COLUMNS IN THE DATASETS**"
      ]
    },
    {
      "cell_type": "code",
      "execution_count": null,
      "metadata": {
        "colab": {
          "base_uri": "https://localhost:8080/"
        },
        "id": "ghhqNxpSQymQ",
        "outputId": "faf87cfd-64f6-422c-b831-a704d93501ca"
      },
      "outputs": [
        {
          "data": {
            "text/plain": [
              "Index(['State', 'State_UT_Code', 'Financial Year', 'Budget Approved',\n",
              "       'Funds Released by the Government of India',\n",
              "       'Funds Released by the States/UTs',\n",
              "       'Total Funds Released (Government of India and States' Share)',\n",
              "       'Expenditure Incurred by the States/UTs ', 'Unspent Balance',\n",
              "       'Extent of Funds Released against Budget Approved',\n",
              "       'Extent of Funds Utilised against Budget Approved', 'Unnamed: 11',\n",
              "       'Unnamed: 12', 'Unnamed: 13', 'Unnamed: 14', 'Unnamed: 15',\n",
              "       'Unnamed: 16', 'Unnamed: 17', 'Unnamed: 18', 'Unnamed: 19',\n",
              "       'Unnamed: 20', 'Unnamed: 21', 'Unnamed: 22', 'Unnamed: 23',\n",
              "       'Unnamed: 24', 'Unnamed: 25'],\n",
              "      dtype='object')"
            ]
          },
          "execution_count": 3,
          "metadata": {},
          "output_type": "execute_result"
        }
      ],
      "source": [
        "ssa_df.columns"
      ]
    },
    {
      "cell_type": "markdown",
      "metadata": {
        "id": "e-Gcvx66QS72"
      },
      "source": [
        "**3.4 RENAMING ALL COLUMN NAMES**"
      ]
    },
    {
      "cell_type": "code",
      "execution_count": null,
      "metadata": {
        "colab": {
          "base_uri": "https://localhost:8080/"
        },
        "id": "o8REax48u1SN",
        "outputId": "b9bda102-3d2b-4c3d-e50c-ca314f8de418"
      },
      "outputs": [
        {
          "name": "stdout",
          "output_type": "stream",
          "text": [
            "<class 'pandas.core.frame.DataFrame'>\n",
            "RangeIndex: 999 entries, 0 to 998\n",
            "Data columns (total 26 columns):\n",
            " #   Column                                                        Non-Null Count  Dtype  \n",
            "---  ------                                                        --------------  -----  \n",
            " 0   State                                                         111 non-null    object \n",
            " 1   State_UT_Code                                                 111 non-null    float64\n",
            " 2   Financial Year                                                111 non-null    object \n",
            " 3   Budget Approved                                               108 non-null    float64\n",
            " 4   Funds Released by the Government of India                     108 non-null    float64\n",
            " 5   Funds Released by the States/UTs                              105 non-null    float64\n",
            " 6   Total Funds Released (Government of India and States' Share)  105 non-null    float64\n",
            " 7   Expenditure Incurred by the States/UTs                        108 non-null    float64\n",
            " 8   Unspent Balance                                               108 non-null    float64\n",
            " 9   Extent of Funds Released against Budget Approved              105 non-null    float64\n",
            " 10  Extent of Funds Utilised against Budget Approved              108 non-null    float64\n",
            " 11  Unnamed: 11                                                   0 non-null      float64\n",
            " 12  Unnamed: 12                                                   0 non-null      float64\n",
            " 13  Unnamed: 13                                                   0 non-null      float64\n",
            " 14  Unnamed: 14                                                   0 non-null      float64\n",
            " 15  Unnamed: 15                                                   0 non-null      float64\n",
            " 16  Unnamed: 16                                                   0 non-null      float64\n",
            " 17  Unnamed: 17                                                   0 non-null      float64\n",
            " 18  Unnamed: 18                                                   0 non-null      float64\n",
            " 19  Unnamed: 19                                                   0 non-null      float64\n",
            " 20  Unnamed: 20                                                   0 non-null      float64\n",
            " 21  Unnamed: 21                                                   0 non-null      float64\n",
            " 22  Unnamed: 22                                                   0 non-null      float64\n",
            " 23  Unnamed: 23                                                   0 non-null      float64\n",
            " 24  Unnamed: 24                                                   0 non-null      float64\n",
            " 25  Unnamed: 25                                                   0 non-null      float64\n",
            "dtypes: float64(24), object(2)\n",
            "memory usage: 203.0+ KB\n"
          ]
        }
      ],
      "source": [
        "ssa_df.info()"
      ]
    },
    {
      "cell_type": "code",
      "execution_count": null,
      "metadata": {
        "id": "SwamQs_uPzgn"
      },
      "outputs": [],
      "source": [
        "ssa_df.rename(columns = {'State': 'state','State_UT_Code': 'code',\n",
        "                          'Financial Year': 'year',\n",
        "                          'Budget Approved': 'budget_approved',\n",
        "                          'Funds Released by the Government of India':'released_funds_by_goi',\n",
        "                          'Funds Released by the States/UTs':'released_funds_by_states',\n",
        "                          \"Total Funds Released (Government of India and States' Share)\": 'total_funds_released',\n",
        "                          'Expenditure Incurred by the States/UTs ': 'expense_incurred_by_states',\n",
        "                          'Unspent Balance': 'unspent_balance',\n",
        "                          'Extent of Funds Released against Budget Approved': 'funds_released_against_budgetapproved(%)',\n",
        "                          'Extent of Funds Utilised against Budget Approved': 'funds_utilised_against_budgetapproved(%)'},inplace = True)"
      ]
    },
    {
      "cell_type": "markdown",
      "metadata": {
        "id": "8mCp6CpYoIhd"
      },
      "source": [
        "**3.5 COPYING DATA TO ssa DATAFRAME FROM ssa_df**"
      ]
    },
    {
      "cell_type": "code",
      "execution_count": null,
      "metadata": {
        "colab": {
          "base_uri": "https://localhost:8080/",
          "height": 592
        },
        "id": "bgXdZEgLmgRG",
        "outputId": "31657c47-2a88-4265-b976-ac9d65a8e3a9"
      },
      "outputs": [
        {
          "data": {
            "text/html": [
              "\n",
              "  <div id=\"df-49ffcf7c-c353-4ad3-ac3f-7c8dfb5711ac\">\n",
              "    <div class=\"colab-df-container\">\n",
              "      <div>\n",
              "<style scoped>\n",
              "    .dataframe tbody tr th:only-of-type {\n",
              "        vertical-align: middle;\n",
              "    }\n",
              "\n",
              "    .dataframe tbody tr th {\n",
              "        vertical-align: top;\n",
              "    }\n",
              "\n",
              "    .dataframe thead th {\n",
              "        text-align: right;\n",
              "    }\n",
              "</style>\n",
              "<table border=\"1\" class=\"dataframe\">\n",
              "  <thead>\n",
              "    <tr style=\"text-align: right;\">\n",
              "      <th></th>\n",
              "      <th>state</th>\n",
              "      <th>code</th>\n",
              "      <th>year</th>\n",
              "      <th>budget_approved</th>\n",
              "      <th>released_funds_by_goi</th>\n",
              "      <th>released_funds_by_states</th>\n",
              "      <th>total_funds_released</th>\n",
              "      <th>expense_incurred_by_states</th>\n",
              "      <th>unspent_balance</th>\n",
              "      <th>funds_released_against_budgetapproved(%)</th>\n",
              "      <th>...</th>\n",
              "      <th>Unnamed: 16</th>\n",
              "      <th>Unnamed: 17</th>\n",
              "      <th>Unnamed: 18</th>\n",
              "      <th>Unnamed: 19</th>\n",
              "      <th>Unnamed: 20</th>\n",
              "      <th>Unnamed: 21</th>\n",
              "      <th>Unnamed: 22</th>\n",
              "      <th>Unnamed: 23</th>\n",
              "      <th>Unnamed: 24</th>\n",
              "      <th>Unnamed: 25</th>\n",
              "    </tr>\n",
              "  </thead>\n",
              "  <tbody>\n",
              "    <tr>\n",
              "      <th>0</th>\n",
              "      <td>Andhra Pradesh</td>\n",
              "      <td>1.0</td>\n",
              "      <td>2015-2016</td>\n",
              "      <td>2116.062</td>\n",
              "      <td>723.748</td>\n",
              "      <td>447.030</td>\n",
              "      <td>1170.778</td>\n",
              "      <td>1610.515</td>\n",
              "      <td>297.883</td>\n",
              "      <td>55.328</td>\n",
              "      <td>...</td>\n",
              "      <td>NaN</td>\n",
              "      <td>NaN</td>\n",
              "      <td>NaN</td>\n",
              "      <td>NaN</td>\n",
              "      <td>NaN</td>\n",
              "      <td>NaN</td>\n",
              "      <td>NaN</td>\n",
              "      <td>NaN</td>\n",
              "      <td>NaN</td>\n",
              "      <td>NaN</td>\n",
              "    </tr>\n",
              "    <tr>\n",
              "      <th>1</th>\n",
              "      <td>Arunachal Pradesh</td>\n",
              "      <td>2.0</td>\n",
              "      <td>2015-2016</td>\n",
              "      <td>358.645</td>\n",
              "      <td>181.794</td>\n",
              "      <td>33.109</td>\n",
              "      <td>214.904</td>\n",
              "      <td>292.713</td>\n",
              "      <td>1.080</td>\n",
              "      <td>59.921</td>\n",
              "      <td>...</td>\n",
              "      <td>NaN</td>\n",
              "      <td>NaN</td>\n",
              "      <td>NaN</td>\n",
              "      <td>NaN</td>\n",
              "      <td>NaN</td>\n",
              "      <td>NaN</td>\n",
              "      <td>NaN</td>\n",
              "      <td>NaN</td>\n",
              "      <td>NaN</td>\n",
              "      <td>NaN</td>\n",
              "    </tr>\n",
              "    <tr>\n",
              "      <th>2</th>\n",
              "      <td>Assam</td>\n",
              "      <td>3.0</td>\n",
              "      <td>2015-2016</td>\n",
              "      <td>1682.157</td>\n",
              "      <td>1107.840</td>\n",
              "      <td>109.630</td>\n",
              "      <td>1217.470</td>\n",
              "      <td>1165.272</td>\n",
              "      <td>33.243</td>\n",
              "      <td>72.376</td>\n",
              "      <td>...</td>\n",
              "      <td>NaN</td>\n",
              "      <td>NaN</td>\n",
              "      <td>NaN</td>\n",
              "      <td>NaN</td>\n",
              "      <td>NaN</td>\n",
              "      <td>NaN</td>\n",
              "      <td>NaN</td>\n",
              "      <td>NaN</td>\n",
              "      <td>NaN</td>\n",
              "      <td>NaN</td>\n",
              "    </tr>\n",
              "    <tr>\n",
              "      <th>3</th>\n",
              "      <td>Bihar</td>\n",
              "      <td>4.0</td>\n",
              "      <td>2015-2016</td>\n",
              "      <td>7387.148</td>\n",
              "      <td>2515.573</td>\n",
              "      <td>2891.506</td>\n",
              "      <td>5407.079</td>\n",
              "      <td>5762.259</td>\n",
              "      <td>-4.126</td>\n",
              "      <td>73.196</td>\n",
              "      <td>...</td>\n",
              "      <td>NaN</td>\n",
              "      <td>NaN</td>\n",
              "      <td>NaN</td>\n",
              "      <td>NaN</td>\n",
              "      <td>NaN</td>\n",
              "      <td>NaN</td>\n",
              "      <td>NaN</td>\n",
              "      <td>NaN</td>\n",
              "      <td>NaN</td>\n",
              "      <td>NaN</td>\n",
              "    </tr>\n",
              "    <tr>\n",
              "      <th>4</th>\n",
              "      <td>Chhattisgarh</td>\n",
              "      <td>5.0</td>\n",
              "      <td>2015-2016</td>\n",
              "      <td>2149.343</td>\n",
              "      <td>622.197</td>\n",
              "      <td>NaN</td>\n",
              "      <td>NaN</td>\n",
              "      <td>1477.519</td>\n",
              "      <td>36.023</td>\n",
              "      <td>NaN</td>\n",
              "      <td>...</td>\n",
              "      <td>NaN</td>\n",
              "      <td>NaN</td>\n",
              "      <td>NaN</td>\n",
              "      <td>NaN</td>\n",
              "      <td>NaN</td>\n",
              "      <td>NaN</td>\n",
              "      <td>NaN</td>\n",
              "      <td>NaN</td>\n",
              "      <td>NaN</td>\n",
              "      <td>NaN</td>\n",
              "    </tr>\n",
              "    <tr>\n",
              "      <th>...</th>\n",
              "      <td>...</td>\n",
              "      <td>...</td>\n",
              "      <td>...</td>\n",
              "      <td>...</td>\n",
              "      <td>...</td>\n",
              "      <td>...</td>\n",
              "      <td>...</td>\n",
              "      <td>...</td>\n",
              "      <td>...</td>\n",
              "      <td>...</td>\n",
              "      <td>...</td>\n",
              "      <td>...</td>\n",
              "      <td>...</td>\n",
              "      <td>...</td>\n",
              "      <td>...</td>\n",
              "      <td>...</td>\n",
              "      <td>...</td>\n",
              "      <td>...</td>\n",
              "      <td>...</td>\n",
              "      <td>...</td>\n",
              "      <td>...</td>\n",
              "    </tr>\n",
              "    <tr>\n",
              "      <th>994</th>\n",
              "      <td>NaN</td>\n",
              "      <td>NaN</td>\n",
              "      <td>NaN</td>\n",
              "      <td>NaN</td>\n",
              "      <td>NaN</td>\n",
              "      <td>NaN</td>\n",
              "      <td>NaN</td>\n",
              "      <td>NaN</td>\n",
              "      <td>NaN</td>\n",
              "      <td>NaN</td>\n",
              "      <td>...</td>\n",
              "      <td>NaN</td>\n",
              "      <td>NaN</td>\n",
              "      <td>NaN</td>\n",
              "      <td>NaN</td>\n",
              "      <td>NaN</td>\n",
              "      <td>NaN</td>\n",
              "      <td>NaN</td>\n",
              "      <td>NaN</td>\n",
              "      <td>NaN</td>\n",
              "      <td>NaN</td>\n",
              "    </tr>\n",
              "    <tr>\n",
              "      <th>995</th>\n",
              "      <td>NaN</td>\n",
              "      <td>NaN</td>\n",
              "      <td>NaN</td>\n",
              "      <td>NaN</td>\n",
              "      <td>NaN</td>\n",
              "      <td>NaN</td>\n",
              "      <td>NaN</td>\n",
              "      <td>NaN</td>\n",
              "      <td>NaN</td>\n",
              "      <td>NaN</td>\n",
              "      <td>...</td>\n",
              "      <td>NaN</td>\n",
              "      <td>NaN</td>\n",
              "      <td>NaN</td>\n",
              "      <td>NaN</td>\n",
              "      <td>NaN</td>\n",
              "      <td>NaN</td>\n",
              "      <td>NaN</td>\n",
              "      <td>NaN</td>\n",
              "      <td>NaN</td>\n",
              "      <td>NaN</td>\n",
              "    </tr>\n",
              "    <tr>\n",
              "      <th>996</th>\n",
              "      <td>NaN</td>\n",
              "      <td>NaN</td>\n",
              "      <td>NaN</td>\n",
              "      <td>NaN</td>\n",
              "      <td>NaN</td>\n",
              "      <td>NaN</td>\n",
              "      <td>NaN</td>\n",
              "      <td>NaN</td>\n",
              "      <td>NaN</td>\n",
              "      <td>NaN</td>\n",
              "      <td>...</td>\n",
              "      <td>NaN</td>\n",
              "      <td>NaN</td>\n",
              "      <td>NaN</td>\n",
              "      <td>NaN</td>\n",
              "      <td>NaN</td>\n",
              "      <td>NaN</td>\n",
              "      <td>NaN</td>\n",
              "      <td>NaN</td>\n",
              "      <td>NaN</td>\n",
              "      <td>NaN</td>\n",
              "    </tr>\n",
              "    <tr>\n",
              "      <th>997</th>\n",
              "      <td>NaN</td>\n",
              "      <td>NaN</td>\n",
              "      <td>NaN</td>\n",
              "      <td>NaN</td>\n",
              "      <td>NaN</td>\n",
              "      <td>NaN</td>\n",
              "      <td>NaN</td>\n",
              "      <td>NaN</td>\n",
              "      <td>NaN</td>\n",
              "      <td>NaN</td>\n",
              "      <td>...</td>\n",
              "      <td>NaN</td>\n",
              "      <td>NaN</td>\n",
              "      <td>NaN</td>\n",
              "      <td>NaN</td>\n",
              "      <td>NaN</td>\n",
              "      <td>NaN</td>\n",
              "      <td>NaN</td>\n",
              "      <td>NaN</td>\n",
              "      <td>NaN</td>\n",
              "      <td>NaN</td>\n",
              "    </tr>\n",
              "    <tr>\n",
              "      <th>998</th>\n",
              "      <td>NaN</td>\n",
              "      <td>NaN</td>\n",
              "      <td>NaN</td>\n",
              "      <td>NaN</td>\n",
              "      <td>NaN</td>\n",
              "      <td>NaN</td>\n",
              "      <td>NaN</td>\n",
              "      <td>NaN</td>\n",
              "      <td>NaN</td>\n",
              "      <td>NaN</td>\n",
              "      <td>...</td>\n",
              "      <td>NaN</td>\n",
              "      <td>NaN</td>\n",
              "      <td>NaN</td>\n",
              "      <td>NaN</td>\n",
              "      <td>NaN</td>\n",
              "      <td>NaN</td>\n",
              "      <td>NaN</td>\n",
              "      <td>NaN</td>\n",
              "      <td>NaN</td>\n",
              "      <td>NaN</td>\n",
              "    </tr>\n",
              "  </tbody>\n",
              "</table>\n",
              "<p>999 rows × 26 columns</p>\n",
              "</div>\n",
              "      <button class=\"colab-df-convert\" onclick=\"convertToInteractive('df-49ffcf7c-c353-4ad3-ac3f-7c8dfb5711ac')\"\n",
              "              title=\"Convert this dataframe to an interactive table.\"\n",
              "              style=\"display:none;\">\n",
              "        \n",
              "  <svg xmlns=\"http://www.w3.org/2000/svg\" height=\"24px\"viewBox=\"0 0 24 24\"\n",
              "       width=\"24px\">\n",
              "    <path d=\"M0 0h24v24H0V0z\" fill=\"none\"/>\n",
              "    <path d=\"M18.56 5.44l.94 2.06.94-2.06 2.06-.94-2.06-.94-.94-2.06-.94 2.06-2.06.94zm-11 1L8.5 8.5l.94-2.06 2.06-.94-2.06-.94L8.5 2.5l-.94 2.06-2.06.94zm10 10l.94 2.06.94-2.06 2.06-.94-2.06-.94-.94-2.06-.94 2.06-2.06.94z\"/><path d=\"M17.41 7.96l-1.37-1.37c-.4-.4-.92-.59-1.43-.59-.52 0-1.04.2-1.43.59L10.3 9.45l-7.72 7.72c-.78.78-.78 2.05 0 2.83L4 21.41c.39.39.9.59 1.41.59.51 0 1.02-.2 1.41-.59l7.78-7.78 2.81-2.81c.8-.78.8-2.07 0-2.86zM5.41 20L4 18.59l7.72-7.72 1.47 1.35L5.41 20z\"/>\n",
              "  </svg>\n",
              "      </button>\n",
              "      \n",
              "  <style>\n",
              "    .colab-df-container {\n",
              "      display:flex;\n",
              "      flex-wrap:wrap;\n",
              "      gap: 12px;\n",
              "    }\n",
              "\n",
              "    .colab-df-convert {\n",
              "      background-color: #E8F0FE;\n",
              "      border: none;\n",
              "      border-radius: 50%;\n",
              "      cursor: pointer;\n",
              "      display: none;\n",
              "      fill: #1967D2;\n",
              "      height: 32px;\n",
              "      padding: 0 0 0 0;\n",
              "      width: 32px;\n",
              "    }\n",
              "\n",
              "    .colab-df-convert:hover {\n",
              "      background-color: #E2EBFA;\n",
              "      box-shadow: 0px 1px 2px rgba(60, 64, 67, 0.3), 0px 1px 3px 1px rgba(60, 64, 67, 0.15);\n",
              "      fill: #174EA6;\n",
              "    }\n",
              "\n",
              "    [theme=dark] .colab-df-convert {\n",
              "      background-color: #3B4455;\n",
              "      fill: #D2E3FC;\n",
              "    }\n",
              "\n",
              "    [theme=dark] .colab-df-convert:hover {\n",
              "      background-color: #434B5C;\n",
              "      box-shadow: 0px 1px 3px 1px rgba(0, 0, 0, 0.15);\n",
              "      filter: drop-shadow(0px 1px 2px rgba(0, 0, 0, 0.3));\n",
              "      fill: #FFFFFF;\n",
              "    }\n",
              "  </style>\n",
              "\n",
              "      <script>\n",
              "        const buttonEl =\n",
              "          document.querySelector('#df-49ffcf7c-c353-4ad3-ac3f-7c8dfb5711ac button.colab-df-convert');\n",
              "        buttonEl.style.display =\n",
              "          google.colab.kernel.accessAllowed ? 'block' : 'none';\n",
              "\n",
              "        async function convertToInteractive(key) {\n",
              "          const element = document.querySelector('#df-49ffcf7c-c353-4ad3-ac3f-7c8dfb5711ac');\n",
              "          const dataTable =\n",
              "            await google.colab.kernel.invokeFunction('convertToInteractive',\n",
              "                                                     [key], {});\n",
              "          if (!dataTable) return;\n",
              "\n",
              "          const docLinkHtml = 'Like what you see? Visit the ' +\n",
              "            '<a target=\"_blank\" href=https://colab.research.google.com/notebooks/data_table.ipynb>data table notebook</a>'\n",
              "            + ' to learn more about interactive tables.';\n",
              "          element.innerHTML = '';\n",
              "          dataTable['output_type'] = 'display_data';\n",
              "          await google.colab.output.renderOutput(dataTable, element);\n",
              "          const docLink = document.createElement('div');\n",
              "          docLink.innerHTML = docLinkHtml;\n",
              "          element.appendChild(docLink);\n",
              "        }\n",
              "      </script>\n",
              "    </div>\n",
              "  </div>\n",
              "  "
            ],
            "text/plain": [
              "                 state  code       year  budget_approved  \\\n",
              "0       Andhra Pradesh   1.0  2015-2016         2116.062   \n",
              "1    Arunachal Pradesh   2.0  2015-2016          358.645   \n",
              "2                Assam   3.0  2015-2016         1682.157   \n",
              "3                Bihar   4.0  2015-2016         7387.148   \n",
              "4         Chhattisgarh   5.0  2015-2016         2149.343   \n",
              "..                 ...   ...        ...              ...   \n",
              "994                NaN   NaN        NaN              NaN   \n",
              "995                NaN   NaN        NaN              NaN   \n",
              "996                NaN   NaN        NaN              NaN   \n",
              "997                NaN   NaN        NaN              NaN   \n",
              "998                NaN   NaN        NaN              NaN   \n",
              "\n",
              "     released_funds_by_goi  released_funds_by_states  total_funds_released  \\\n",
              "0                  723.748                   447.030              1170.778   \n",
              "1                  181.794                    33.109               214.904   \n",
              "2                 1107.840                   109.630              1217.470   \n",
              "3                 2515.573                  2891.506              5407.079   \n",
              "4                  622.197                       NaN                   NaN   \n",
              "..                     ...                       ...                   ...   \n",
              "994                    NaN                       NaN                   NaN   \n",
              "995                    NaN                       NaN                   NaN   \n",
              "996                    NaN                       NaN                   NaN   \n",
              "997                    NaN                       NaN                   NaN   \n",
              "998                    NaN                       NaN                   NaN   \n",
              "\n",
              "     expense_incurred_by_states  unspent_balance  \\\n",
              "0                      1610.515          297.883   \n",
              "1                       292.713            1.080   \n",
              "2                      1165.272           33.243   \n",
              "3                      5762.259           -4.126   \n",
              "4                      1477.519           36.023   \n",
              "..                          ...              ...   \n",
              "994                         NaN              NaN   \n",
              "995                         NaN              NaN   \n",
              "996                         NaN              NaN   \n",
              "997                         NaN              NaN   \n",
              "998                         NaN              NaN   \n",
              "\n",
              "     funds_released_against_budgetapproved(%)  ...  Unnamed: 16  Unnamed: 17  \\\n",
              "0                                      55.328  ...          NaN          NaN   \n",
              "1                                      59.921  ...          NaN          NaN   \n",
              "2                                      72.376  ...          NaN          NaN   \n",
              "3                                      73.196  ...          NaN          NaN   \n",
              "4                                         NaN  ...          NaN          NaN   \n",
              "..                                        ...  ...          ...          ...   \n",
              "994                                       NaN  ...          NaN          NaN   \n",
              "995                                       NaN  ...          NaN          NaN   \n",
              "996                                       NaN  ...          NaN          NaN   \n",
              "997                                       NaN  ...          NaN          NaN   \n",
              "998                                       NaN  ...          NaN          NaN   \n",
              "\n",
              "     Unnamed: 18  Unnamed: 19  Unnamed: 20  Unnamed: 21  Unnamed: 22  \\\n",
              "0            NaN          NaN          NaN          NaN          NaN   \n",
              "1            NaN          NaN          NaN          NaN          NaN   \n",
              "2            NaN          NaN          NaN          NaN          NaN   \n",
              "3            NaN          NaN          NaN          NaN          NaN   \n",
              "4            NaN          NaN          NaN          NaN          NaN   \n",
              "..           ...          ...          ...          ...          ...   \n",
              "994          NaN          NaN          NaN          NaN          NaN   \n",
              "995          NaN          NaN          NaN          NaN          NaN   \n",
              "996          NaN          NaN          NaN          NaN          NaN   \n",
              "997          NaN          NaN          NaN          NaN          NaN   \n",
              "998          NaN          NaN          NaN          NaN          NaN   \n",
              "\n",
              "     Unnamed: 23  Unnamed: 24  Unnamed: 25  \n",
              "0            NaN          NaN          NaN  \n",
              "1            NaN          NaN          NaN  \n",
              "2            NaN          NaN          NaN  \n",
              "3            NaN          NaN          NaN  \n",
              "4            NaN          NaN          NaN  \n",
              "..           ...          ...          ...  \n",
              "994          NaN          NaN          NaN  \n",
              "995          NaN          NaN          NaN  \n",
              "996          NaN          NaN          NaN  \n",
              "997          NaN          NaN          NaN  \n",
              "998          NaN          NaN          NaN  \n",
              "\n",
              "[999 rows x 26 columns]"
            ]
          },
          "execution_count": 6,
          "metadata": {},
          "output_type": "execute_result"
        }
      ],
      "source": [
        "#Working with  SSA\n",
        "ssa = ssa_df.copy()\n",
        "ssa"
      ]
    },
    {
      "cell_type": "markdown",
      "metadata": {
        "id": "lCTrIm0vPp2b"
      },
      "source": [
        "**3.6 DATA INFORMATION**"
      ]
    },
    {
      "cell_type": "code",
      "execution_count": null,
      "metadata": {
        "colab": {
          "base_uri": "https://localhost:8080/"
        },
        "id": "tBFwb0WMPnxC",
        "outputId": "7705ec69-865f-408a-dc8b-6e4662fec588"
      },
      "outputs": [
        {
          "name": "stdout",
          "output_type": "stream",
          "text": [
            "<class 'pandas.core.frame.DataFrame'>\n",
            "RangeIndex: 999 entries, 0 to 998\n",
            "Data columns (total 26 columns):\n",
            " #   Column                                    Non-Null Count  Dtype  \n",
            "---  ------                                    --------------  -----  \n",
            " 0   state                                     111 non-null    object \n",
            " 1   code                                      111 non-null    float64\n",
            " 2   year                                      111 non-null    object \n",
            " 3   budget_approved                           108 non-null    float64\n",
            " 4   released_funds_by_goi                     108 non-null    float64\n",
            " 5   released_funds_by_states                  105 non-null    float64\n",
            " 6   total_funds_released                      105 non-null    float64\n",
            " 7   expense_incurred_by_states                108 non-null    float64\n",
            " 8   unspent_balance                           108 non-null    float64\n",
            " 9   funds_released_against_budgetapproved(%)  105 non-null    float64\n",
            " 10  funds_utilised_against_budgetapproved(%)  108 non-null    float64\n",
            " 11  Unnamed: 11                               0 non-null      float64\n",
            " 12  Unnamed: 12                               0 non-null      float64\n",
            " 13  Unnamed: 13                               0 non-null      float64\n",
            " 14  Unnamed: 14                               0 non-null      float64\n",
            " 15  Unnamed: 15                               0 non-null      float64\n",
            " 16  Unnamed: 16                               0 non-null      float64\n",
            " 17  Unnamed: 17                               0 non-null      float64\n",
            " 18  Unnamed: 18                               0 non-null      float64\n",
            " 19  Unnamed: 19                               0 non-null      float64\n",
            " 20  Unnamed: 20                               0 non-null      float64\n",
            " 21  Unnamed: 21                               0 non-null      float64\n",
            " 22  Unnamed: 22                               0 non-null      float64\n",
            " 23  Unnamed: 23                               0 non-null      float64\n",
            " 24  Unnamed: 24                               0 non-null      float64\n",
            " 25  Unnamed: 25                               0 non-null      float64\n",
            "dtypes: float64(24), object(2)\n",
            "memory usage: 203.0+ KB\n"
          ]
        }
      ],
      "source": [
        "ssa.info()"
      ]
    },
    {
      "cell_type": "markdown",
      "metadata": {
        "id": "CddjFvjuSSEG"
      },
      "source": [
        "**3.7 DATASET SHAPE**"
      ]
    },
    {
      "cell_type": "code",
      "execution_count": null,
      "metadata": {
        "colab": {
          "base_uri": "https://localhost:8080/"
        },
        "id": "XXG_9pZiSWzM",
        "outputId": "6e93f5e6-8e20-4d63-ea91-5238d5e616ee"
      },
      "outputs": [
        {
          "data": {
            "text/plain": [
              "(999, 26)"
            ]
          },
          "execution_count": 8,
          "metadata": {},
          "output_type": "execute_result"
        }
      ],
      "source": [
        "#Shape of the dataset\n",
        "ssa.shape"
      ]
    },
    {
      "cell_type": "markdown",
      "metadata": {
        "id": "N6roLFfEgi_S"
      },
      "source": [
        "**3.8 DESCRIPTIVE ANALYSIS**"
      ]
    },
    {
      "cell_type": "code",
      "execution_count": null,
      "metadata": {
        "colab": {
          "base_uri": "https://localhost:8080/",
          "height": 411
        },
        "id": "bzTdqIoIgpC7",
        "outputId": "904a7ec5-9d20-43a7-b47f-bca793c6e0d3"
      },
      "outputs": [
        {
          "data": {
            "text/html": [
              "\n",
              "  <div id=\"df-95b0e228-e6cf-4e79-8ce5-e522693cfc7e\">\n",
              "    <div class=\"colab-df-container\">\n",
              "      <div>\n",
              "<style scoped>\n",
              "    .dataframe tbody tr th:only-of-type {\n",
              "        vertical-align: middle;\n",
              "    }\n",
              "\n",
              "    .dataframe tbody tr th {\n",
              "        vertical-align: top;\n",
              "    }\n",
              "\n",
              "    .dataframe thead th {\n",
              "        text-align: right;\n",
              "    }\n",
              "</style>\n",
              "<table border=\"1\" class=\"dataframe\">\n",
              "  <thead>\n",
              "    <tr style=\"text-align: right;\">\n",
              "      <th></th>\n",
              "      <th>budget_approved</th>\n",
              "      <th>released_funds_by_goi</th>\n",
              "      <th>released_funds_by_states</th>\n",
              "      <th>total_funds_released</th>\n",
              "      <th>expense_incurred_by_states</th>\n",
              "      <th>unspent_balance</th>\n",
              "      <th>funds_released_against_budgetapproved(%)</th>\n",
              "      <th>funds_utilised_against_budgetapproved(%)</th>\n",
              "      <th>Unnamed: 11</th>\n",
              "      <th>Unnamed: 12</th>\n",
              "      <th>...</th>\n",
              "      <th>Unnamed: 16</th>\n",
              "      <th>Unnamed: 17</th>\n",
              "      <th>Unnamed: 18</th>\n",
              "      <th>Unnamed: 19</th>\n",
              "      <th>Unnamed: 20</th>\n",
              "      <th>Unnamed: 21</th>\n",
              "      <th>Unnamed: 22</th>\n",
              "      <th>Unnamed: 23</th>\n",
              "      <th>Unnamed: 24</th>\n",
              "      <th>Unnamed: 25</th>\n",
              "    </tr>\n",
              "  </thead>\n",
              "  <tbody>\n",
              "    <tr>\n",
              "      <th>count</th>\n",
              "      <td>108.000000</td>\n",
              "      <td>108.000000</td>\n",
              "      <td>105.000000</td>\n",
              "      <td>105.000000</td>\n",
              "      <td>108.000000</td>\n",
              "      <td>108.00000</td>\n",
              "      <td>105.000000</td>\n",
              "      <td>108.000000</td>\n",
              "      <td>0.0</td>\n",
              "      <td>0.0</td>\n",
              "      <td>...</td>\n",
              "      <td>0.0</td>\n",
              "      <td>0.0</td>\n",
              "      <td>0.0</td>\n",
              "      <td>0.0</td>\n",
              "      <td>0.0</td>\n",
              "      <td>0.0</td>\n",
              "      <td>0.0</td>\n",
              "      <td>0.0</td>\n",
              "      <td>0.0</td>\n",
              "      <td>0.0</td>\n",
              "    </tr>\n",
              "    <tr>\n",
              "      <th>mean</th>\n",
              "      <td>2027.298472</td>\n",
              "      <td>609.993204</td>\n",
              "      <td>598.864952</td>\n",
              "      <td>1213.097905</td>\n",
              "      <td>1295.056259</td>\n",
              "      <td>112.89813</td>\n",
              "      <td>60.241124</td>\n",
              "      <td>67.474259</td>\n",
              "      <td>NaN</td>\n",
              "      <td>NaN</td>\n",
              "      <td>...</td>\n",
              "      <td>NaN</td>\n",
              "      <td>NaN</td>\n",
              "      <td>NaN</td>\n",
              "      <td>NaN</td>\n",
              "      <td>NaN</td>\n",
              "      <td>NaN</td>\n",
              "      <td>NaN</td>\n",
              "      <td>NaN</td>\n",
              "      <td>NaN</td>\n",
              "      <td>NaN</td>\n",
              "    </tr>\n",
              "    <tr>\n",
              "      <th>std</th>\n",
              "      <td>3424.095576</td>\n",
              "      <td>898.557443</td>\n",
              "      <td>1415.677913</td>\n",
              "      <td>2274.724619</td>\n",
              "      <td>2257.073192</td>\n",
              "      <td>240.84146</td>\n",
              "      <td>22.306260</td>\n",
              "      <td>19.544425</td>\n",
              "      <td>NaN</td>\n",
              "      <td>NaN</td>\n",
              "      <td>...</td>\n",
              "      <td>NaN</td>\n",
              "      <td>NaN</td>\n",
              "      <td>NaN</td>\n",
              "      <td>NaN</td>\n",
              "      <td>NaN</td>\n",
              "      <td>NaN</td>\n",
              "      <td>NaN</td>\n",
              "      <td>NaN</td>\n",
              "      <td>NaN</td>\n",
              "      <td>NaN</td>\n",
              "    </tr>\n",
              "    <tr>\n",
              "      <th>min</th>\n",
              "      <td>3.118000</td>\n",
              "      <td>0.784000</td>\n",
              "      <td>0.000000</td>\n",
              "      <td>0.784000</td>\n",
              "      <td>2.305000</td>\n",
              "      <td>-364.90800</td>\n",
              "      <td>12.986000</td>\n",
              "      <td>27.800000</td>\n",
              "      <td>NaN</td>\n",
              "      <td>NaN</td>\n",
              "      <td>...</td>\n",
              "      <td>NaN</td>\n",
              "      <td>NaN</td>\n",
              "      <td>NaN</td>\n",
              "      <td>NaN</td>\n",
              "      <td>NaN</td>\n",
              "      <td>NaN</td>\n",
              "      <td>NaN</td>\n",
              "      <td>NaN</td>\n",
              "      <td>NaN</td>\n",
              "      <td>NaN</td>\n",
              "    </tr>\n",
              "    <tr>\n",
              "      <th>25%</th>\n",
              "      <td>195.194750</td>\n",
              "      <td>80.341500</td>\n",
              "      <td>10.794000</td>\n",
              "      <td>92.595000</td>\n",
              "      <td>123.583000</td>\n",
              "      <td>2.93350</td>\n",
              "      <td>44.969000</td>\n",
              "      <td>55.840000</td>\n",
              "      <td>NaN</td>\n",
              "      <td>NaN</td>\n",
              "      <td>...</td>\n",
              "      <td>NaN</td>\n",
              "      <td>NaN</td>\n",
              "      <td>NaN</td>\n",
              "      <td>NaN</td>\n",
              "      <td>NaN</td>\n",
              "      <td>NaN</td>\n",
              "      <td>NaN</td>\n",
              "      <td>NaN</td>\n",
              "      <td>NaN</td>\n",
              "      <td>NaN</td>\n",
              "    </tr>\n",
              "    <tr>\n",
              "      <th>50%</th>\n",
              "      <td>953.287500</td>\n",
              "      <td>311.795000</td>\n",
              "      <td>110.855000</td>\n",
              "      <td>408.910000</td>\n",
              "      <td>535.006000</td>\n",
              "      <td>32.50450</td>\n",
              "      <td>58.923000</td>\n",
              "      <td>68.315000</td>\n",
              "      <td>NaN</td>\n",
              "      <td>NaN</td>\n",
              "      <td>...</td>\n",
              "      <td>NaN</td>\n",
              "      <td>NaN</td>\n",
              "      <td>NaN</td>\n",
              "      <td>NaN</td>\n",
              "      <td>NaN</td>\n",
              "      <td>NaN</td>\n",
              "      <td>NaN</td>\n",
              "      <td>NaN</td>\n",
              "      <td>NaN</td>\n",
              "      <td>NaN</td>\n",
              "    </tr>\n",
              "    <tr>\n",
              "      <th>75%</th>\n",
              "      <td>2323.564000</td>\n",
              "      <td>777.405000</td>\n",
              "      <td>518.270000</td>\n",
              "      <td>1305.036000</td>\n",
              "      <td>1453.842250</td>\n",
              "      <td>128.23375</td>\n",
              "      <td>72.553000</td>\n",
              "      <td>77.857500</td>\n",
              "      <td>NaN</td>\n",
              "      <td>NaN</td>\n",
              "      <td>...</td>\n",
              "      <td>NaN</td>\n",
              "      <td>NaN</td>\n",
              "      <td>NaN</td>\n",
              "      <td>NaN</td>\n",
              "      <td>NaN</td>\n",
              "      <td>NaN</td>\n",
              "      <td>NaN</td>\n",
              "      <td>NaN</td>\n",
              "      <td>NaN</td>\n",
              "      <td>NaN</td>\n",
              "    </tr>\n",
              "    <tr>\n",
              "      <th>max</th>\n",
              "      <td>20688.135000</td>\n",
              "      <td>5043.183000</td>\n",
              "      <td>9404.330000</td>\n",
              "      <td>14447.513000</td>\n",
              "      <td>14588.360000</td>\n",
              "      <td>1195.14400</td>\n",
              "      <td>165.908000</td>\n",
              "      <td>161.390000</td>\n",
              "      <td>NaN</td>\n",
              "      <td>NaN</td>\n",
              "      <td>...</td>\n",
              "      <td>NaN</td>\n",
              "      <td>NaN</td>\n",
              "      <td>NaN</td>\n",
              "      <td>NaN</td>\n",
              "      <td>NaN</td>\n",
              "      <td>NaN</td>\n",
              "      <td>NaN</td>\n",
              "      <td>NaN</td>\n",
              "      <td>NaN</td>\n",
              "      <td>NaN</td>\n",
              "    </tr>\n",
              "  </tbody>\n",
              "</table>\n",
              "<p>8 rows × 23 columns</p>\n",
              "</div>\n",
              "      <button class=\"colab-df-convert\" onclick=\"convertToInteractive('df-95b0e228-e6cf-4e79-8ce5-e522693cfc7e')\"\n",
              "              title=\"Convert this dataframe to an interactive table.\"\n",
              "              style=\"display:none;\">\n",
              "        \n",
              "  <svg xmlns=\"http://www.w3.org/2000/svg\" height=\"24px\"viewBox=\"0 0 24 24\"\n",
              "       width=\"24px\">\n",
              "    <path d=\"M0 0h24v24H0V0z\" fill=\"none\"/>\n",
              "    <path d=\"M18.56 5.44l.94 2.06.94-2.06 2.06-.94-2.06-.94-.94-2.06-.94 2.06-2.06.94zm-11 1L8.5 8.5l.94-2.06 2.06-.94-2.06-.94L8.5 2.5l-.94 2.06-2.06.94zm10 10l.94 2.06.94-2.06 2.06-.94-2.06-.94-.94-2.06-.94 2.06-2.06.94z\"/><path d=\"M17.41 7.96l-1.37-1.37c-.4-.4-.92-.59-1.43-.59-.52 0-1.04.2-1.43.59L10.3 9.45l-7.72 7.72c-.78.78-.78 2.05 0 2.83L4 21.41c.39.39.9.59 1.41.59.51 0 1.02-.2 1.41-.59l7.78-7.78 2.81-2.81c.8-.78.8-2.07 0-2.86zM5.41 20L4 18.59l7.72-7.72 1.47 1.35L5.41 20z\"/>\n",
              "  </svg>\n",
              "      </button>\n",
              "      \n",
              "  <style>\n",
              "    .colab-df-container {\n",
              "      display:flex;\n",
              "      flex-wrap:wrap;\n",
              "      gap: 12px;\n",
              "    }\n",
              "\n",
              "    .colab-df-convert {\n",
              "      background-color: #E8F0FE;\n",
              "      border: none;\n",
              "      border-radius: 50%;\n",
              "      cursor: pointer;\n",
              "      display: none;\n",
              "      fill: #1967D2;\n",
              "      height: 32px;\n",
              "      padding: 0 0 0 0;\n",
              "      width: 32px;\n",
              "    }\n",
              "\n",
              "    .colab-df-convert:hover {\n",
              "      background-color: #E2EBFA;\n",
              "      box-shadow: 0px 1px 2px rgba(60, 64, 67, 0.3), 0px 1px 3px 1px rgba(60, 64, 67, 0.15);\n",
              "      fill: #174EA6;\n",
              "    }\n",
              "\n",
              "    [theme=dark] .colab-df-convert {\n",
              "      background-color: #3B4455;\n",
              "      fill: #D2E3FC;\n",
              "    }\n",
              "\n",
              "    [theme=dark] .colab-df-convert:hover {\n",
              "      background-color: #434B5C;\n",
              "      box-shadow: 0px 1px 3px 1px rgba(0, 0, 0, 0.15);\n",
              "      filter: drop-shadow(0px 1px 2px rgba(0, 0, 0, 0.3));\n",
              "      fill: #FFFFFF;\n",
              "    }\n",
              "  </style>\n",
              "\n",
              "      <script>\n",
              "        const buttonEl =\n",
              "          document.querySelector('#df-95b0e228-e6cf-4e79-8ce5-e522693cfc7e button.colab-df-convert');\n",
              "        buttonEl.style.display =\n",
              "          google.colab.kernel.accessAllowed ? 'block' : 'none';\n",
              "\n",
              "        async function convertToInteractive(key) {\n",
              "          const element = document.querySelector('#df-95b0e228-e6cf-4e79-8ce5-e522693cfc7e');\n",
              "          const dataTable =\n",
              "            await google.colab.kernel.invokeFunction('convertToInteractive',\n",
              "                                                     [key], {});\n",
              "          if (!dataTable) return;\n",
              "\n",
              "          const docLinkHtml = 'Like what you see? Visit the ' +\n",
              "            '<a target=\"_blank\" href=https://colab.research.google.com/notebooks/data_table.ipynb>data table notebook</a>'\n",
              "            + ' to learn more about interactive tables.';\n",
              "          element.innerHTML = '';\n",
              "          dataTable['output_type'] = 'display_data';\n",
              "          await google.colab.output.renderOutput(dataTable, element);\n",
              "          const docLink = document.createElement('div');\n",
              "          docLink.innerHTML = docLinkHtml;\n",
              "          element.appendChild(docLink);\n",
              "        }\n",
              "      </script>\n",
              "    </div>\n",
              "  </div>\n",
              "  "
            ],
            "text/plain": [
              "       budget_approved  released_funds_by_goi  released_funds_by_states  \\\n",
              "count       108.000000             108.000000                105.000000   \n",
              "mean       2027.298472             609.993204                598.864952   \n",
              "std        3424.095576             898.557443               1415.677913   \n",
              "min           3.118000               0.784000                  0.000000   \n",
              "25%         195.194750              80.341500                 10.794000   \n",
              "50%         953.287500             311.795000                110.855000   \n",
              "75%        2323.564000             777.405000                518.270000   \n",
              "max       20688.135000            5043.183000               9404.330000   \n",
              "\n",
              "       total_funds_released  expense_incurred_by_states  unspent_balance  \\\n",
              "count            105.000000                  108.000000        108.00000   \n",
              "mean            1213.097905                 1295.056259        112.89813   \n",
              "std             2274.724619                 2257.073192        240.84146   \n",
              "min                0.784000                    2.305000       -364.90800   \n",
              "25%               92.595000                  123.583000          2.93350   \n",
              "50%              408.910000                  535.006000         32.50450   \n",
              "75%             1305.036000                 1453.842250        128.23375   \n",
              "max            14447.513000                14588.360000       1195.14400   \n",
              "\n",
              "       funds_released_against_budgetapproved(%)  \\\n",
              "count                                105.000000   \n",
              "mean                                  60.241124   \n",
              "std                                   22.306260   \n",
              "min                                   12.986000   \n",
              "25%                                   44.969000   \n",
              "50%                                   58.923000   \n",
              "75%                                   72.553000   \n",
              "max                                  165.908000   \n",
              "\n",
              "       funds_utilised_against_budgetapproved(%)  Unnamed: 11  Unnamed: 12  \\\n",
              "count                                108.000000          0.0          0.0   \n",
              "mean                                  67.474259          NaN          NaN   \n",
              "std                                   19.544425          NaN          NaN   \n",
              "min                                   27.800000          NaN          NaN   \n",
              "25%                                   55.840000          NaN          NaN   \n",
              "50%                                   68.315000          NaN          NaN   \n",
              "75%                                   77.857500          NaN          NaN   \n",
              "max                                  161.390000          NaN          NaN   \n",
              "\n",
              "       ...  Unnamed: 16  Unnamed: 17  Unnamed: 18  Unnamed: 19  Unnamed: 20  \\\n",
              "count  ...          0.0          0.0          0.0          0.0          0.0   \n",
              "mean   ...          NaN          NaN          NaN          NaN          NaN   \n",
              "std    ...          NaN          NaN          NaN          NaN          NaN   \n",
              "min    ...          NaN          NaN          NaN          NaN          NaN   \n",
              "25%    ...          NaN          NaN          NaN          NaN          NaN   \n",
              "50%    ...          NaN          NaN          NaN          NaN          NaN   \n",
              "75%    ...          NaN          NaN          NaN          NaN          NaN   \n",
              "max    ...          NaN          NaN          NaN          NaN          NaN   \n",
              "\n",
              "       Unnamed: 21  Unnamed: 22  Unnamed: 23  Unnamed: 24  Unnamed: 25  \n",
              "count          0.0          0.0          0.0          0.0          0.0  \n",
              "mean           NaN          NaN          NaN          NaN          NaN  \n",
              "std            NaN          NaN          NaN          NaN          NaN  \n",
              "min            NaN          NaN          NaN          NaN          NaN  \n",
              "25%            NaN          NaN          NaN          NaN          NaN  \n",
              "50%            NaN          NaN          NaN          NaN          NaN  \n",
              "75%            NaN          NaN          NaN          NaN          NaN  \n",
              "max            NaN          NaN          NaN          NaN          NaN  \n",
              "\n",
              "[8 rows x 23 columns]"
            ]
          },
          "execution_count": 9,
          "metadata": {},
          "output_type": "execute_result"
        }
      ],
      "source": [
        "#Removing state, code and date columns and describing data\n",
        "ssa.iloc[:,3:].describe()"
      ]
    },
    {
      "cell_type": "markdown",
      "metadata": {
        "id": "pUtYOqOFrHHz"
      },
      "source": [
        "# **4. DATA CLEANING**"
      ]
    },
    {
      "cell_type": "markdown",
      "metadata": {
        "id": "8CdOYPs40xrL"
      },
      "source": [
        "**PART A:MISSING VALUES(INTERPRETING NUMERICALLY)**\n",
        "\n",
        "\n",
        "\n",
        "\n"
      ]
    },
    {
      "cell_type": "markdown",
      "metadata": {
        "id": "05jwiuvxSmL5"
      },
      "source": [
        "**4.1.CHECKING FOR MISSING VALUES**"
      ]
    },
    {
      "cell_type": "code",
      "execution_count": null,
      "metadata": {
        "colab": {
          "base_uri": "https://localhost:8080/"
        },
        "id": "6BV-G7xPnplJ",
        "outputId": "1ed14e18-7b6b-48b7-942c-fa2689cd3c43"
      },
      "outputs": [
        {
          "data": {
            "text/plain": [
              "state                                       888\n",
              "code                                        888\n",
              "year                                        888\n",
              "budget_approved                             891\n",
              "released_funds_by_goi                       891\n",
              "released_funds_by_states                    894\n",
              "total_funds_released                        894\n",
              "expense_incurred_by_states                  891\n",
              "unspent_balance                             891\n",
              "funds_released_against_budgetapproved(%)    894\n",
              "funds_utilised_against_budgetapproved(%)    891\n",
              "Unnamed: 11                                 999\n",
              "Unnamed: 12                                 999\n",
              "Unnamed: 13                                 999\n",
              "Unnamed: 14                                 999\n",
              "Unnamed: 15                                 999\n",
              "Unnamed: 16                                 999\n",
              "Unnamed: 17                                 999\n",
              "Unnamed: 18                                 999\n",
              "Unnamed: 19                                 999\n",
              "Unnamed: 20                                 999\n",
              "Unnamed: 21                                 999\n",
              "Unnamed: 22                                 999\n",
              "Unnamed: 23                                 999\n",
              "Unnamed: 24                                 999\n",
              "Unnamed: 25                                 999\n",
              "dtype: int64"
            ]
          },
          "execution_count": 10,
          "metadata": {},
          "output_type": "execute_result"
        }
      ],
      "source": [
        "#Checking null values (NUMERICAL)\n",
        "ssa.isna().sum()"
      ]
    },
    {
      "cell_type": "markdown",
      "metadata": {
        "id": "sMLGEWnjlgeR"
      },
      "source": [
        "**4.2CHECKING MISSING PERCENTAGE**"
      ]
    },
    {
      "cell_type": "code",
      "execution_count": null,
      "metadata": {
        "colab": {
          "base_uri": "https://localhost:8080/"
        },
        "id": "f0AqGtN7lepG",
        "outputId": "5c9155d6-e146-4cf4-96bf-0258309a6220"
      },
      "outputs": [
        {
          "name": "stdout",
          "output_type": "stream",
          "text": [
            "\n",
            "\n",
            "Missing percentage:\n",
            "\n",
            " state                                        88.888889\n",
            "code                                         88.888889\n",
            "year                                         88.888889\n",
            "budget_approved                              89.189189\n",
            "released_funds_by_goi                        89.189189\n",
            "released_funds_by_states                     89.489489\n",
            "total_funds_released                         89.489489\n",
            "expense_incurred_by_states                   89.189189\n",
            "unspent_balance                              89.189189\n",
            "funds_released_against_budgetapproved(%)     89.489489\n",
            "funds_utilised_against_budgetapproved(%)     89.189189\n",
            "Unnamed: 11                                 100.000000\n",
            "Unnamed: 12                                 100.000000\n",
            "Unnamed: 13                                 100.000000\n",
            "Unnamed: 14                                 100.000000\n",
            "Unnamed: 15                                 100.000000\n",
            "Unnamed: 16                                 100.000000\n",
            "Unnamed: 17                                 100.000000\n",
            "Unnamed: 18                                 100.000000\n",
            "Unnamed: 19                                 100.000000\n",
            "Unnamed: 20                                 100.000000\n",
            "Unnamed: 21                                 100.000000\n",
            "Unnamed: 22                                 100.000000\n",
            "Unnamed: 23                                 100.000000\n",
            "Unnamed: 24                                 100.000000\n",
            "Unnamed: 25                                 100.000000\n",
            "dtype: float64\n"
          ]
        }
      ],
      "source": [
        "ssa.isnull().mean()*100\n",
        "ssa_mis_pcent=100*ssa.isnull().sum()/len(ssa)\n",
        "print('\\n\\nMissing percentage:\\n\\n', ssa_mis_pcent)"
      ]
    },
    {
      "cell_type": "markdown",
      "metadata": {
        "id": "6rLRrUR6ovY1"
      },
      "source": [
        "**4.3 REASON FOR MISSING 100% DATA**\n"
      ]
    },
    {
      "cell_type": "markdown",
      "metadata": {
        "id": "oJW9x83gpMFo"
      },
      "source": [
        "Data is Missing Completely at Random **(MCAR)**\n",
        "\n",
        "The probability of a value being missing is unrelated to both observed and unobserved data. In this case, the missingness is not related to any other variable in the dataset, and there is no systematic reason why certain values are missing. This means that the missing values are truly random, and there is no underlying pattern to their distribution.\n",
        "\n",
        "Droping those missing values are the best solution"
      ]
    },
    {
      "cell_type": "markdown",
      "metadata": {
        "id": "Q46WoWmgRSPV"
      },
      "source": [
        "**4.4 DROPPING ROWS/COLUMNS**"
      ]
    },
    {
      "cell_type": "code",
      "execution_count": null,
      "metadata": {
        "colab": {
          "base_uri": "https://localhost:8080/"
        },
        "id": "yr2K1jlupogL",
        "outputId": "bc00ff75-2a0f-4683-c65f-bb573df5324a"
      },
      "outputs": [
        {
          "data": {
            "text/plain": [
              "(999, 11)"
            ]
          },
          "execution_count": 12,
          "metadata": {},
          "output_type": "execute_result"
        }
      ],
      "source": [
        "# Delete columns containing either 90% or more than 90% NaN Values\n",
        "perc = 90.0\n",
        "min_count =  int(((100-perc)/100)*ssa.shape[0] + 1)\n",
        "\n",
        "#axis=1 : Drop columns which contain missing value.\n",
        "#thresh=min_count : Delete columns which contains less than min_count number of non-NaN values.\n",
        "ssa = ssa.dropna( axis=1, thresh=min_count)\n",
        "ssa.shape"
      ]
    },
    {
      "cell_type": "code",
      "execution_count": null,
      "metadata": {
        "colab": {
          "base_uri": "https://localhost:8080/"
        },
        "id": "2vIsPOBAr_Cv",
        "outputId": "984daa03-b0a7-4117-e67f-15b3acff1dc5"
      },
      "outputs": [
        {
          "data": {
            "text/plain": [
              "(111, 11)"
            ]
          },
          "execution_count": 13,
          "metadata": {},
          "output_type": "execute_result"
        }
      ],
      "source": [
        "# Delete Rows containing either 90% or more than 90% NaN Values\n",
        "perc = 90\n",
        "min_count =  int(((100-perc)/100)*ssa.shape[1] + 1)\n",
        "\n",
        "#axis=0 : Drop rows  which contain missing value.\n",
        "#thresh=min_count : Delete rows which contains less than min_count number of non-NaN values.\n",
        "ssa = ssa.dropna( axis=0, thresh=min_count)\n",
        "ssa.shape"
      ]
    },
    {
      "cell_type": "markdown",
      "metadata": {
        "id": "m-YLl5XR02h-"
      },
      "source": [
        "**PART B:VISUALIZING THE MISSING VALUES(INTERPRETING GRAPHICALLY)**"
      ]
    },
    {
      "cell_type": "markdown",
      "metadata": {
        "id": "z5ms6LTOl9nE"
      },
      "source": [
        "#### Visualizing the locations of the missing data\n",
        "\n",
        "1. The plot appears white wherever there are missing values.\n",
        "\n",
        "2. The sparkline on the right gives an idea of the general shape of the completeness of the data and points out the row with the minimum nullities and the total number of columns in a given dataset, at the bottom."
      ]
    },
    {
      "cell_type": "markdown",
      "metadata": {
        "id": "HCnPFGNIsiTP"
      },
      "source": [
        "**4.5 Visualize missing values as a matrix**"
      ]
    },
    {
      "cell_type": "code",
      "execution_count": null,
      "metadata": {
        "colab": {
          "base_uri": "https://localhost:8080/",
          "height": 816
        },
        "id": "EPqauQZoVwZz",
        "outputId": "e439c291-4ffe-4593-e81e-5dea9edb9dc2"
      },
      "outputs": [
        {
          "data": {
            "text/plain": [
              "<Axes: >"
            ]
          },
          "execution_count": 14,
          "metadata": {},
          "output_type": "execute_result"
        },
        {
          "data": {
            "image/png": "[encoded data removed]",
            "text/plain": [
              "<Figure size 2500x1000 with 2 Axes>"
            ]
          },
          "metadata": {},
          "output_type": "display_data"
        }
      ],
      "source": [
        "msno.matrix(ssa)"
      ]
    },
    {
      "cell_type": "markdown",
      "metadata": {
        "id": "k3zqNcTNW7Ag"
      },
      "source": [
        "**PART C:DEALING WITH MISSING VALUES**"
      ]
    },
    {
      "cell_type": "markdown",
      "metadata": {
        "id": "vl9YBs5QXfBh"
      },
      "source": [
        "**4.6 DROP/DELETE MISSING VALUES**"
      ]
    },
    {
      "cell_type": "code",
      "execution_count": null,
      "metadata": {
        "colab": {
          "base_uri": "https://localhost:8080/",
          "height": 259
        },
        "id": "cGOFLWaDXmwo",
        "outputId": "884897b5-8c5f-4497-9022-b2a992b2edf6"
      },
      "outputs": [
        {
          "data": {
            "text/html": [
              "\n",
              "  <div id=\"df-236d3c20-50e2-4d97-8b30-76b37f99094d\">\n",
              "    <div class=\"colab-df-container\">\n",
              "      <div>\n",
              "<style scoped>\n",
              "    .dataframe tbody tr th:only-of-type {\n",
              "        vertical-align: middle;\n",
              "    }\n",
              "\n",
              "    .dataframe tbody tr th {\n",
              "        vertical-align: top;\n",
              "    }\n",
              "\n",
              "    .dataframe thead th {\n",
              "        text-align: right;\n",
              "    }\n",
              "</style>\n",
              "<table border=\"1\" class=\"dataframe\">\n",
              "  <thead>\n",
              "    <tr style=\"text-align: right;\">\n",
              "      <th></th>\n",
              "      <th>state</th>\n",
              "      <th>code</th>\n",
              "      <th>year</th>\n",
              "      <th>budget_approved</th>\n",
              "      <th>released_funds_by_goi</th>\n",
              "      <th>released_funds_by_states</th>\n",
              "      <th>total_funds_released</th>\n",
              "      <th>expense_incurred_by_states</th>\n",
              "      <th>unspent_balance</th>\n",
              "      <th>funds_released_against_budgetapproved(%)</th>\n",
              "      <th>funds_utilised_against_budgetapproved(%)</th>\n",
              "    </tr>\n",
              "  </thead>\n",
              "  <tbody>\n",
              "    <tr>\n",
              "      <th>34</th>\n",
              "      <td>Ladakh</td>\n",
              "      <td>35.0</td>\n",
              "      <td>2015-2016</td>\n",
              "      <td>NaN</td>\n",
              "      <td>NaN</td>\n",
              "      <td>NaN</td>\n",
              "      <td>NaN</td>\n",
              "      <td>NaN</td>\n",
              "      <td>NaN</td>\n",
              "      <td>NaN</td>\n",
              "      <td>NaN</td>\n",
              "    </tr>\n",
              "    <tr>\n",
              "      <th>71</th>\n",
              "      <td>Ladakh</td>\n",
              "      <td>35.0</td>\n",
              "      <td>2016-2017</td>\n",
              "      <td>NaN</td>\n",
              "      <td>NaN</td>\n",
              "      <td>NaN</td>\n",
              "      <td>NaN</td>\n",
              "      <td>NaN</td>\n",
              "      <td>NaN</td>\n",
              "      <td>NaN</td>\n",
              "      <td>NaN</td>\n",
              "    </tr>\n",
              "    <tr>\n",
              "      <th>108</th>\n",
              "      <td>Ladakh</td>\n",
              "      <td>35.0</td>\n",
              "      <td>2017-2018</td>\n",
              "      <td>NaN</td>\n",
              "      <td>NaN</td>\n",
              "      <td>NaN</td>\n",
              "      <td>NaN</td>\n",
              "      <td>NaN</td>\n",
              "      <td>NaN</td>\n",
              "      <td>NaN</td>\n",
              "      <td>NaN</td>\n",
              "    </tr>\n",
              "  </tbody>\n",
              "</table>\n",
              "</div>\n",
              "      <button class=\"colab-df-convert\" onclick=\"convertToInteractive('df-236d3c20-50e2-4d97-8b30-76b37f99094d')\"\n",
              "              title=\"Convert this dataframe to an interactive table.\"\n",
              "              style=\"display:none;\">\n",
              "        \n",
              "  <svg xmlns=\"http://www.w3.org/2000/svg\" height=\"24px\"viewBox=\"0 0 24 24\"\n",
              "       width=\"24px\">\n",
              "    <path d=\"M0 0h24v24H0V0z\" fill=\"none\"/>\n",
              "    <path d=\"M18.56 5.44l.94 2.06.94-2.06 2.06-.94-2.06-.94-.94-2.06-.94 2.06-2.06.94zm-11 1L8.5 8.5l.94-2.06 2.06-.94-2.06-.94L8.5 2.5l-.94 2.06-2.06.94zm10 10l.94 2.06.94-2.06 2.06-.94-2.06-.94-.94-2.06-.94 2.06-2.06.94z\"/><path d=\"M17.41 7.96l-1.37-1.37c-.4-.4-.92-.59-1.43-.59-.52 0-1.04.2-1.43.59L10.3 9.45l-7.72 7.72c-.78.78-.78 2.05 0 2.83L4 21.41c.39.39.9.59 1.41.59.51 0 1.02-.2 1.41-.59l7.78-7.78 2.81-2.81c.8-.78.8-2.07 0-2.86zM5.41 20L4 18.59l7.72-7.72 1.47 1.35L5.41 20z\"/>\n",
              "  </svg>\n",
              "      </button>\n",
              "      \n",
              "  <style>\n",
              "    .colab-df-container {\n",
              "      display:flex;\n",
              "      flex-wrap:wrap;\n",
              "      gap: 12px;\n",
              "    }\n",
              "\n",
              "    .colab-df-convert {\n",
              "      background-color: #E8F0FE;\n",
              "      border: none;\n",
              "      border-radius: 50%;\n",
              "      cursor: pointer;\n",
              "      display: none;\n",
              "      fill: #1967D2;\n",
              "      height: 32px;\n",
              "      padding: 0 0 0 0;\n",
              "      width: 32px;\n",
              "    }\n",
              "\n",
              "    .colab-df-convert:hover {\n",
              "      background-color: #E2EBFA;\n",
              "      box-shadow: 0px 1px 2px rgba(60, 64, 67, 0.3), 0px 1px 3px 1px rgba(60, 64, 67, 0.15);\n",
              "      fill: #174EA6;\n",
              "    }\n",
              "\n",
              "    [theme=dark] .colab-df-convert {\n",
              "      background-color: #3B4455;\n",
              "      fill: #D2E3FC;\n",
              "    }\n",
              "\n",
              "    [theme=dark] .colab-df-convert:hover {\n",
              "      background-color: #434B5C;\n",
              "      box-shadow: 0px 1px 3px 1px rgba(0, 0, 0, 0.15);\n",
              "      filter: drop-shadow(0px 1px 2px rgba(0, 0, 0, 0.3));\n",
              "      fill: #FFFFFF;\n",
              "    }\n",
              "  </style>\n",
              "\n",
              "      <script>\n",
              "        const buttonEl =\n",
              "          document.querySelector('#df-236d3c20-50e2-4d97-8b30-76b37f99094d button.colab-df-convert');\n",
              "        buttonEl.style.display =\n",
              "          google.colab.kernel.accessAllowed ? 'block' : 'none';\n",
              "\n",
              "        async function convertToInteractive(key) {\n",
              "          const element = document.querySelector('#df-236d3c20-50e2-4d97-8b30-76b37f99094d');\n",
              "          const dataTable =\n",
              "            await google.colab.kernel.invokeFunction('convertToInteractive',\n",
              "                                                     [key], {});\n",
              "          if (!dataTable) return;\n",
              "\n",
              "          const docLinkHtml = 'Like what you see? Visit the ' +\n",
              "            '<a target=\"_blank\" href=https://colab.research.google.com/notebooks/data_table.ipynb>data table notebook</a>'\n",
              "            + ' to learn more about interactive tables.';\n",
              "          element.innerHTML = '';\n",
              "          dataTable['output_type'] = 'display_data';\n",
              "          await google.colab.output.renderOutput(dataTable, element);\n",
              "          const docLink = document.createElement('div');\n",
              "          docLink.innerHTML = docLinkHtml;\n",
              "          element.appendChild(docLink);\n",
              "        }\n",
              "      </script>\n",
              "    </div>\n",
              "  </div>\n",
              "  "
            ],
            "text/plain": [
              "      state  code       year  budget_approved  released_funds_by_goi  \\\n",
              "34   Ladakh  35.0  2015-2016              NaN                    NaN   \n",
              "71   Ladakh  35.0  2016-2017              NaN                    NaN   \n",
              "108  Ladakh  35.0  2017-2018              NaN                    NaN   \n",
              "\n",
              "     released_funds_by_states  total_funds_released  \\\n",
              "34                        NaN                   NaN   \n",
              "71                        NaN                   NaN   \n",
              "108                       NaN                   NaN   \n",
              "\n",
              "     expense_incurred_by_states  unspent_balance  \\\n",
              "34                          NaN              NaN   \n",
              "71                          NaN              NaN   \n",
              "108                         NaN              NaN   \n",
              "\n",
              "     funds_released_against_budgetapproved(%)  \\\n",
              "34                                        NaN   \n",
              "71                                        NaN   \n",
              "108                                       NaN   \n",
              "\n",
              "     funds_utilised_against_budgetapproved(%)  \n",
              "34                                        NaN  \n",
              "71                                        NaN  \n",
              "108                                       NaN  "
            ]
          },
          "execution_count": 15,
          "metadata": {},
          "output_type": "execute_result"
        }
      ],
      "source": [
        "ssa_null  = ssa[ssa['budget_approved'].isna()]\n",
        "ssa_null"
      ]
    },
    {
      "cell_type": "code",
      "execution_count": null,
      "metadata": {
        "id": "yCDVNss2Xt8n"
      },
      "outputs": [],
      "source": [
        "#DELETING ALL THE ROWS WHERE STATE = Ladakh\n",
        "ssa = ssa.query(\"state!='Ladakh'\")"
      ]
    },
    {
      "cell_type": "markdown",
      "metadata": {
        "id": "5JY3Pw0vY0WD"
      },
      "source": [
        "**4.7 PRINTING ALL ROWS WITH NULL VALUES**"
      ]
    },
    {
      "cell_type": "code",
      "execution_count": null,
      "metadata": {
        "colab": {
          "base_uri": "https://localhost:8080/"
        },
        "id": "l2KpdMWtYw0y",
        "outputId": "fe7aadb2-90ac-44e5-afd0-c6e3f904595b"
      },
      "outputs": [
        {
          "data": {
            "text/plain": [
              "['released_funds_by_states',\n",
              " 'total_funds_released',\n",
              " 'funds_released_against_budgetapproved(%)']"
            ]
          },
          "execution_count": 17,
          "metadata": {},
          "output_type": "execute_result"
        }
      ],
      "source": [
        "null_columns = ssa.columns[ssa.isna().any()].tolist()\n",
        "null_columns"
      ]
    },
    {
      "cell_type": "code",
      "execution_count": null,
      "metadata": {
        "colab": {
          "base_uri": "https://localhost:8080/",
          "height": 259
        },
        "id": "W5kfau0GY_Xo",
        "outputId": "b70ae0a9-4f2c-4d5e-e6a5-4bd8fefab873"
      },
      "outputs": [
        {
          "data": {
            "text/html": [
              "\n",
              "  <div id=\"df-8f152140-2ae6-4f89-b9f6-23459ef13d6d\">\n",
              "    <div class=\"colab-df-container\">\n",
              "      <div>\n",
              "<style scoped>\n",
              "    .dataframe tbody tr th:only-of-type {\n",
              "        vertical-align: middle;\n",
              "    }\n",
              "\n",
              "    .dataframe tbody tr th {\n",
              "        vertical-align: top;\n",
              "    }\n",
              "\n",
              "    .dataframe thead th {\n",
              "        text-align: right;\n",
              "    }\n",
              "</style>\n",
              "<table border=\"1\" class=\"dataframe\">\n",
              "  <thead>\n",
              "    <tr style=\"text-align: right;\">\n",
              "      <th></th>\n",
              "      <th>state</th>\n",
              "      <th>code</th>\n",
              "      <th>year</th>\n",
              "      <th>budget_approved</th>\n",
              "      <th>released_funds_by_goi</th>\n",
              "      <th>released_funds_by_states</th>\n",
              "      <th>total_funds_released</th>\n",
              "      <th>expense_incurred_by_states</th>\n",
              "      <th>unspent_balance</th>\n",
              "      <th>funds_released_against_budgetapproved(%)</th>\n",
              "      <th>funds_utilised_against_budgetapproved(%)</th>\n",
              "    </tr>\n",
              "  </thead>\n",
              "  <tbody>\n",
              "    <tr>\n",
              "      <th>4</th>\n",
              "      <td>Chhattisgarh</td>\n",
              "      <td>5.0</td>\n",
              "      <td>2015-2016</td>\n",
              "      <td>2149.343</td>\n",
              "      <td>622.197</td>\n",
              "      <td>NaN</td>\n",
              "      <td>NaN</td>\n",
              "      <td>1477.519</td>\n",
              "      <td>36.023</td>\n",
              "      <td>NaN</td>\n",
              "      <td>68.74</td>\n",
              "    </tr>\n",
              "    <tr>\n",
              "      <th>7</th>\n",
              "      <td>Haryana</td>\n",
              "      <td>8.0</td>\n",
              "      <td>2015-2016</td>\n",
              "      <td>1120.583</td>\n",
              "      <td>345.012</td>\n",
              "      <td>NaN</td>\n",
              "      <td>NaN</td>\n",
              "      <td>529.163</td>\n",
              "      <td>99.413</td>\n",
              "      <td>NaN</td>\n",
              "      <td>47.22</td>\n",
              "    </tr>\n",
              "    <tr>\n",
              "      <th>10</th>\n",
              "      <td>Karnataka</td>\n",
              "      <td>11.0</td>\n",
              "      <td>2015-2016</td>\n",
              "      <td>1545.808</td>\n",
              "      <td>417.593</td>\n",
              "      <td>NaN</td>\n",
              "      <td>NaN</td>\n",
              "      <td>1196.365</td>\n",
              "      <td>38.156</td>\n",
              "      <td>NaN</td>\n",
              "      <td>77.39</td>\n",
              "    </tr>\n",
              "  </tbody>\n",
              "</table>\n",
              "</div>\n",
              "      <button class=\"colab-df-convert\" onclick=\"convertToInteractive('df-8f152140-2ae6-4f89-b9f6-23459ef13d6d')\"\n",
              "              title=\"Convert this dataframe to an interactive table.\"\n",
              "              style=\"display:none;\">\n",
              "        \n",
              "  <svg xmlns=\"http://www.w3.org/2000/svg\" height=\"24px\"viewBox=\"0 0 24 24\"\n",
              "       width=\"24px\">\n",
              "    <path d=\"M0 0h24v24H0V0z\" fill=\"none\"/>\n",
              "    <path d=\"M18.56 5.44l.94 2.06.94-2.06 2.06-.94-2.06-.94-.94-2.06-.94 2.06-2.06.94zm-11 1L8.5 8.5l.94-2.06 2.06-.94-2.06-.94L8.5 2.5l-.94 2.06-2.06.94zm10 10l.94 2.06.94-2.06 2.06-.94-2.06-.94-.94-2.06-.94 2.06-2.06.94z\"/><path d=\"M17.41 7.96l-1.37-1.37c-.4-.4-.92-.59-1.43-.59-.52 0-1.04.2-1.43.59L10.3 9.45l-7.72 7.72c-.78.78-.78 2.05 0 2.83L4 21.41c.39.39.9.59 1.41.59.51 0 1.02-.2 1.41-.59l7.78-7.78 2.81-2.81c.8-.78.8-2.07 0-2.86zM5.41 20L4 18.59l7.72-7.72 1.47 1.35L5.41 20z\"/>\n",
              "  </svg>\n",
              "      </button>\n",
              "      \n",
              "  <style>\n",
              "    .colab-df-container {\n",
              "      display:flex;\n",
              "      flex-wrap:wrap;\n",
              "      gap: 12px;\n",
              "    }\n",
              "\n",
              "    .colab-df-convert {\n",
              "      background-color: #E8F0FE;\n",
              "      border: none;\n",
              "      border-radius: 50%;\n",
              "      cursor: pointer;\n",
              "      display: none;\n",
              "      fill: #1967D2;\n",
              "      height: 32px;\n",
              "      padding: 0 0 0 0;\n",
              "      width: 32px;\n",
              "    }\n",
              "\n",
              "    .colab-df-convert:hover {\n",
              "      background-color: #E2EBFA;\n",
              "      box-shadow: 0px 1px 2px rgba(60, 64, 67, 0.3), 0px 1px 3px 1px rgba(60, 64, 67, 0.15);\n",
              "      fill: #174EA6;\n",
              "    }\n",
              "\n",
              "    [theme=dark] .colab-df-convert {\n",
              "      background-color: #3B4455;\n",
              "      fill: #D2E3FC;\n",
              "    }\n",
              "\n",
              "    [theme=dark] .colab-df-convert:hover {\n",
              "      background-color: #434B5C;\n",
              "      box-shadow: 0px 1px 3px 1px rgba(0, 0, 0, 0.15);\n",
              "      filter: drop-shadow(0px 1px 2px rgba(0, 0, 0, 0.3));\n",
              "      fill: #FFFFFF;\n",
              "    }\n",
              "  </style>\n",
              "\n",
              "      <script>\n",
              "        const buttonEl =\n",
              "          document.querySelector('#df-8f152140-2ae6-4f89-b9f6-23459ef13d6d button.colab-df-convert');\n",
              "        buttonEl.style.display =\n",
              "          google.colab.kernel.accessAllowed ? 'block' : 'none';\n",
              "\n",
              "        async function convertToInteractive(key) {\n",
              "          const element = document.querySelector('#df-8f152140-2ae6-4f89-b9f6-23459ef13d6d');\n",
              "          const dataTable =\n",
              "            await google.colab.kernel.invokeFunction('convertToInteractive',\n",
              "                                                     [key], {});\n",
              "          if (!dataTable) return;\n",
              "\n",
              "          const docLinkHtml = 'Like what you see? Visit the ' +\n",
              "            '<a target=\"_blank\" href=https://colab.research.google.com/notebooks/data_table.ipynb>data table notebook</a>'\n",
              "            + ' to learn more about interactive tables.';\n",
              "          element.innerHTML = '';\n",
              "          dataTable['output_type'] = 'display_data';\n",
              "          await google.colab.output.renderOutput(dataTable, element);\n",
              "          const docLink = document.createElement('div');\n",
              "          docLink.innerHTML = docLinkHtml;\n",
              "          element.appendChild(docLink);\n",
              "        }\n",
              "      </script>\n",
              "    </div>\n",
              "  </div>\n",
              "  "
            ],
            "text/plain": [
              "           state  code       year  budget_approved  released_funds_by_goi  \\\n",
              "4   Chhattisgarh   5.0  2015-2016         2149.343                622.197   \n",
              "7        Haryana   8.0  2015-2016         1120.583                345.012   \n",
              "10     Karnataka  11.0  2015-2016         1545.808                417.593   \n",
              "\n",
              "    released_funds_by_states  total_funds_released  \\\n",
              "4                        NaN                   NaN   \n",
              "7                        NaN                   NaN   \n",
              "10                       NaN                   NaN   \n",
              "\n",
              "    expense_incurred_by_states  unspent_balance  \\\n",
              "4                     1477.519           36.023   \n",
              "7                      529.163           99.413   \n",
              "10                    1196.365           38.156   \n",
              "\n",
              "    funds_released_against_budgetapproved(%)  \\\n",
              "4                                        NaN   \n",
              "7                                        NaN   \n",
              "10                                       NaN   \n",
              "\n",
              "    funds_utilised_against_budgetapproved(%)  \n",
              "4                                      68.74  \n",
              "7                                      47.22  \n",
              "10                                     77.39  "
            ]
          },
          "execution_count": 18,
          "metadata": {},
          "output_type": "execute_result"
        }
      ],
      "source": [
        "# Rows which have null values\n",
        "ssa_row= ssa[ssa.isna().any(axis=1)]\n",
        "ssa_row"
      ]
    },
    {
      "cell_type": "code",
      "execution_count": null,
      "metadata": {
        "colab": {
          "base_uri": "https://localhost:8080/"
        },
        "id": "-2Cula37Y-GO",
        "outputId": "92800901-1198-42e6-9f7b-139beb9bf694"
      },
      "outputs": [
        {
          "data": {
            "text/plain": [
              "['Chhattisgarh', 'Haryana', 'Karnataka']"
            ]
          },
          "execution_count": 19,
          "metadata": {},
          "output_type": "execute_result"
        }
      ],
      "source": [
        "null_states = ssa_row.state.tolist()\n",
        "null_states"
      ]
    },
    {
      "cell_type": "markdown",
      "metadata": {
        "id": "m7gi5b_1Bl7l"
      },
      "source": [
        "We can see that for States Chhattisgarh, Haryana and Karnataka we have missing values in any of the columns."
      ]
    },
    {
      "cell_type": "markdown",
      "metadata": {
        "id": "aT_kC31A1PX4"
      },
      "source": [
        "**PART D:REASONS AND IMPUTING NULL VALUES**"
      ]
    },
    {
      "cell_type": "markdown",
      "metadata": {
        "id": "xpjaIARR1yYk"
      },
      "source": [
        "1.Missing Completely At Random (MCAR): In this mechanism, the missingness is completely random and unrelated to any variables in the dataset, whether observed or unobserved.\n",
        "\n",
        "2.Missing At Random (MAR): In this mechanism, the missingness depends on other observed variables in the dataset, but not on the missing variable itself.\n",
        "\n",
        "3.Missing Not At Random (MNAR): In this mechanism, the missingness depends on the value of the missing variable itself, or on other variables that are not observed"
      ]
    },
    {
      "cell_type": "markdown",
      "metadata": {
        "id": "LZOAJdxWGz0S"
      },
      "source": [
        "**4.8 REASON AND IMPUTING MISSING VALUE OF released_funds_in_state**"
      ]
    },
    {
      "cell_type": "markdown",
      "metadata": {
        "id": "9cX38B_iCdlV"
      },
      "source": [
        "**REASON:**\n",
        "\n",
        "DATA IS MAR: To impute the missing values for the columns 'funds_released_by_the_states',for Chhattisgarh, Haryana, and Karnataka for the year 2015-2016, we can use a mean for other two years."
      ]
    },
    {
      "cell_type": "markdown",
      "metadata": {
        "id": "5m4fgg-K8fUC"
      },
      "source": [
        "#IMPUTATION"
      ]
    },
    {
      "cell_type": "code",
      "execution_count": null,
      "metadata": {
        "colab": {
          "base_uri": "https://localhost:8080/"
        },
        "id": "vrlqHrhG77ff",
        "outputId": "7363f8b7-000d-4794-994b-719d5ef2efd1"
      },
      "outputs": [
        {
          "name": "stderr",
          "output_type": "stream",
          "text": [
            "<ipython-input-20-f37c9d742f2d>:2: SettingWithCopyWarning: \n",
            "A value is trying to be set on a copy of a slice from a DataFrame\n",
            "\n",
            "See the caveats in the documentation: https://pandas.pydata.org/pandas-docs/stable/user_guide/indexing.html#returning-a-view-versus-a-copy\n",
            "  ssa['released_funds_by_states'].loc[7] =   ssa[ssa.state == \"Haryana\" ][\"released_funds_by_states\"].mean()\n",
            "<ipython-input-20-f37c9d742f2d>:3: SettingWithCopyWarning: \n",
            "A value is trying to be set on a copy of a slice from a DataFrame\n",
            "\n",
            "See the caveats in the documentation: https://pandas.pydata.org/pandas-docs/stable/user_guide/indexing.html#returning-a-view-versus-a-copy\n",
            "  ssa['released_funds_by_states'].loc[10] =   ssa[ssa.state == \"Karnataka\" ][\"released_funds_by_states\"].mean()\n"
          ]
        }
      ],
      "source": [
        "ssa['released_funds_by_states'].loc[4] =   ssa[ssa.state == \"Chhattisgarh\" ][\"released_funds_by_states\"].mean()\n",
        "ssa['released_funds_by_states'].loc[7] =   ssa[ssa.state == \"Haryana\" ][\"released_funds_by_states\"].mean()\n",
        "ssa['released_funds_by_states'].loc[10] =   ssa[ssa.state == \"Karnataka\" ][\"released_funds_by_states\"].mean()"
      ]
    },
    {
      "cell_type": "markdown",
      "metadata": {
        "id": "qGjYZwtVHDbk"
      },
      "source": [
        "**4.9 REASON AND IMPUTING MISSING VALUE OF of total_funds**"
      ]
    },
    {
      "cell_type": "markdown",
      "metadata": {
        "id": "FhKYYLdS5swp"
      },
      "source": [
        "**REASON:**\n",
        "\n",
        "DATA IS MAR\n",
        "\n",
        "$$\\begin{equation}\n",
        "\\text{total_funds_released} = \\text{released_funds_by_goi} + \\text{released_funds_by_states}\n",
        "\\end{equation}$$"
      ]
    },
    {
      "cell_type": "markdown",
      "metadata": {
        "id": "im6sgnvTITQT"
      },
      "source": [
        "#IMPUTATION"
      ]
    },
    {
      "cell_type": "code",
      "execution_count": null,
      "metadata": {
        "colab": {
          "base_uri": "https://localhost:8080/"
        },
        "id": "9acJ2oj1KG-Z",
        "outputId": "aa71e0d6-d0c6-4021-c74e-f0ae2fd2f952"
      },
      "outputs": [
        {
          "name": "stderr",
          "output_type": "stream",
          "text": [
            "<ipython-input-21-a42d01690669>:3: SettingWithCopyWarning: \n",
            "A value is trying to be set on a copy of a slice from a DataFrame\n",
            "\n",
            "See the caveats in the documentation: https://pandas.pydata.org/pandas-docs/stable/user_guide/indexing.html#returning-a-view-versus-a-copy\n",
            "  ssa['total_funds_released'].loc[7]  = ssa['released_funds_by_goi'].loc[7] + ssa['released_funds_by_states'].loc[7]\n",
            "<ipython-input-21-a42d01690669>:4: SettingWithCopyWarning: \n",
            "A value is trying to be set on a copy of a slice from a DataFrame\n",
            "\n",
            "See the caveats in the documentation: https://pandas.pydata.org/pandas-docs/stable/user_guide/indexing.html#returning-a-view-versus-a-copy\n",
            "  ssa['total_funds_released'].loc[10]  = ssa['released_funds_by_goi'].loc[10] + ssa['released_funds_by_states'].loc[10]\n"
          ]
        }
      ],
      "source": [
        "#IMPUTATION\n",
        "ssa['total_funds_released'].loc[4]  = ssa['released_funds_by_goi'].loc[4] + ssa['released_funds_by_states'].loc[4]\n",
        "ssa['total_funds_released'].loc[7]  = ssa['released_funds_by_goi'].loc[7] + ssa['released_funds_by_states'].loc[7]\n",
        "ssa['total_funds_released'].loc[10]  = ssa['released_funds_by_goi'].loc[10] + ssa['released_funds_by_states'].loc[10]"
      ]
    },
    {
      "cell_type": "markdown",
      "metadata": {
        "id": "_3nknM_OLOMU"
      },
      "source": [
        "**4.10 REASON AND IMPUTING MISSING VALUE OF funds_released_against_budgetapproved**"
      ]
    },
    {
      "cell_type": "markdown",
      "metadata": {
        "id": "whuG9QDk6Fod"
      },
      "source": [
        "**REASON:**\n",
        "\n",
        "DATA IS MISSING AT MAR\n",
        "\n",
        "$$\\begin{equation}\n",
        "\\text{funds_released_against_budget_approved} = \\frac{\\text{total_funds_released} \\times 100}{\\text{budget_approved}}\n",
        "\\end{equation}$$"
      ]
    },
    {
      "cell_type": "markdown",
      "metadata": {
        "id": "is-DaWT2IXmX"
      },
      "source": [
        "#IMPUTATION"
      ]
    },
    {
      "cell_type": "code",
      "execution_count": null,
      "metadata": {
        "colab": {
          "base_uri": "https://localhost:8080/"
        },
        "id": "6sJlFZm679lW",
        "outputId": "42d4c650-3330-4731-c655-7e1a8540d0ad"
      },
      "outputs": [
        {
          "name": "stderr",
          "output_type": "stream",
          "text": [
            "<ipython-input-22-631e9950aaca>:2: SettingWithCopyWarning: \n",
            "A value is trying to be set on a copy of a slice from a DataFrame\n",
            "\n",
            "See the caveats in the documentation: https://pandas.pydata.org/pandas-docs/stable/user_guide/indexing.html#returning-a-view-versus-a-copy\n",
            "  ssa['funds_released_against_budgetapproved(%)'].loc[7] =   (ssa['total_funds_released'].loc[7]  * 100) /  ssa['budget_approved'].loc[7]\n",
            "<ipython-input-22-631e9950aaca>:3: SettingWithCopyWarning: \n",
            "A value is trying to be set on a copy of a slice from a DataFrame\n",
            "\n",
            "See the caveats in the documentation: https://pandas.pydata.org/pandas-docs/stable/user_guide/indexing.html#returning-a-view-versus-a-copy\n",
            "  ssa['funds_released_against_budgetapproved(%)'].loc[10]  =  (ssa['total_funds_released'].loc[10]  * 100) /  ssa['budget_approved'].loc[10]\n"
          ]
        }
      ],
      "source": [
        "ssa['funds_released_against_budgetapproved(%)'].loc[4] =  (ssa['total_funds_released'].loc[4]  * 100) /  ssa['budget_approved'].loc[4]\n",
        "ssa['funds_released_against_budgetapproved(%)'].loc[7] =   (ssa['total_funds_released'].loc[7]  * 100) /  ssa['budget_approved'].loc[7]\n",
        "ssa['funds_released_against_budgetapproved(%)'].loc[10]  =  (ssa['total_funds_released'].loc[10]  * 100) /  ssa['budget_approved'].loc[10]"
      ]
    },
    {
      "cell_type": "markdown",
      "metadata": {
        "id": "xJepJUkYgI_e"
      },
      "source": [
        "**4.11 DISPLAYING VALUES AFTER COMPUTING**"
      ]
    },
    {
      "cell_type": "code",
      "execution_count": null,
      "metadata": {
        "colab": {
          "base_uri": "https://localhost:8080/",
          "height": 259
        },
        "id": "GBYr42xlfgQ2",
        "outputId": "99bfc6a0-dcb9-468f-967d-ea9b89e70b6b"
      },
      "outputs": [
        {
          "data": {
            "text/html": [
              "\n",
              "  <div id=\"df-dbed7790-8cf7-42c5-ac66-3debef79f302\">\n",
              "    <div class=\"colab-df-container\">\n",
              "      <div>\n",
              "<style scoped>\n",
              "    .dataframe tbody tr th:only-of-type {\n",
              "        vertical-align: middle;\n",
              "    }\n",
              "\n",
              "    .dataframe tbody tr th {\n",
              "        vertical-align: top;\n",
              "    }\n",
              "\n",
              "    .dataframe thead th {\n",
              "        text-align: right;\n",
              "    }\n",
              "</style>\n",
              "<table border=\"1\" class=\"dataframe\">\n",
              "  <thead>\n",
              "    <tr style=\"text-align: right;\">\n",
              "      <th></th>\n",
              "      <th>state</th>\n",
              "      <th>code</th>\n",
              "      <th>year</th>\n",
              "      <th>budget_approved</th>\n",
              "      <th>released_funds_by_goi</th>\n",
              "      <th>released_funds_by_states</th>\n",
              "      <th>total_funds_released</th>\n",
              "      <th>expense_incurred_by_states</th>\n",
              "      <th>unspent_balance</th>\n",
              "      <th>funds_released_against_budgetapproved(%)</th>\n",
              "      <th>funds_utilised_against_budgetapproved(%)</th>\n",
              "    </tr>\n",
              "  </thead>\n",
              "  <tbody>\n",
              "    <tr>\n",
              "      <th>4</th>\n",
              "      <td>Chhattisgarh</td>\n",
              "      <td>5.0</td>\n",
              "      <td>2015-2016</td>\n",
              "      <td>2149.343</td>\n",
              "      <td>622.197</td>\n",
              "      <td>959.418</td>\n",
              "      <td>1581.615</td>\n",
              "      <td>1477.519</td>\n",
              "      <td>36.023</td>\n",
              "      <td>73.585975</td>\n",
              "      <td>68.74</td>\n",
              "    </tr>\n",
              "    <tr>\n",
              "      <th>41</th>\n",
              "      <td>Chhattisgarh</td>\n",
              "      <td>5.0</td>\n",
              "      <td>2016-2017</td>\n",
              "      <td>2351.113</td>\n",
              "      <td>592.628</td>\n",
              "      <td>1213.880</td>\n",
              "      <td>1806.508</td>\n",
              "      <td>1702.295</td>\n",
              "      <td>187.822</td>\n",
              "      <td>76.836000</td>\n",
              "      <td>72.40</td>\n",
              "    </tr>\n",
              "    <tr>\n",
              "      <th>78</th>\n",
              "      <td>Chhattisgarh</td>\n",
              "      <td>5.0</td>\n",
              "      <td>2017-2018</td>\n",
              "      <td>2269.452</td>\n",
              "      <td>674.129</td>\n",
              "      <td>704.956</td>\n",
              "      <td>1379.085</td>\n",
              "      <td>1601.000</td>\n",
              "      <td>31.766</td>\n",
              "      <td>60.767000</td>\n",
              "      <td>70.55</td>\n",
              "    </tr>\n",
              "  </tbody>\n",
              "</table>\n",
              "</div>\n",
              "      <button class=\"colab-df-convert\" onclick=\"convertToInteractive('df-dbed7790-8cf7-42c5-ac66-3debef79f302')\"\n",
              "              title=\"Convert this dataframe to an interactive table.\"\n",
              "              style=\"display:none;\">\n",
              "        \n",
              "  <svg xmlns=\"http://www.w3.org/2000/svg\" height=\"24px\"viewBox=\"0 0 24 24\"\n",
              "       width=\"24px\">\n",
              "    <path d=\"M0 0h24v24H0V0z\" fill=\"none\"/>\n",
              "    <path d=\"M18.56 5.44l.94 2.06.94-2.06 2.06-.94-2.06-.94-.94-2.06-.94 2.06-2.06.94zm-11 1L8.5 8.5l.94-2.06 2.06-.94-2.06-.94L8.5 2.5l-.94 2.06-2.06.94zm10 10l.94 2.06.94-2.06 2.06-.94-2.06-.94-.94-2.06-.94 2.06-2.06.94z\"/><path d=\"M17.41 7.96l-1.37-1.37c-.4-.4-.92-.59-1.43-.59-.52 0-1.04.2-1.43.59L10.3 9.45l-7.72 7.72c-.78.78-.78 2.05 0 2.83L4 21.41c.39.39.9.59 1.41.59.51 0 1.02-.2 1.41-.59l7.78-7.78 2.81-2.81c.8-.78.8-2.07 0-2.86zM5.41 20L4 18.59l7.72-7.72 1.47 1.35L5.41 20z\"/>\n",
              "  </svg>\n",
              "      </button>\n",
              "      \n",
              "  <style>\n",
              "    .colab-df-container {\n",
              "      display:flex;\n",
              "      flex-wrap:wrap;\n",
              "      gap: 12px;\n",
              "    }\n",
              "\n",
              "    .colab-df-convert {\n",
              "      background-color: #E8F0FE;\n",
              "      border: none;\n",
              "      border-radius: 50%;\n",
              "      cursor: pointer;\n",
              "      display: none;\n",
              "      fill: #1967D2;\n",
              "      height: 32px;\n",
              "      padding: 0 0 0 0;\n",
              "      width: 32px;\n",
              "    }\n",
              "\n",
              "    .colab-df-convert:hover {\n",
              "      background-color: #E2EBFA;\n",
              "      box-shadow: 0px 1px 2px rgba(60, 64, 67, 0.3), 0px 1px 3px 1px rgba(60, 64, 67, 0.15);\n",
              "      fill: #174EA6;\n",
              "    }\n",
              "\n",
              "    [theme=dark] .colab-df-convert {\n",
              "      background-color: #3B4455;\n",
              "      fill: #D2E3FC;\n",
              "    }\n",
              "\n",
              "    [theme=dark] .colab-df-convert:hover {\n",
              "      background-color: #434B5C;\n",
              "      box-shadow: 0px 1px 3px 1px rgba(0, 0, 0, 0.15);\n",
              "      filter: drop-shadow(0px 1px 2px rgba(0, 0, 0, 0.3));\n",
              "      fill: #FFFFFF;\n",
              "    }\n",
              "  </style>\n",
              "\n",
              "      <script>\n",
              "        const buttonEl =\n",
              "          document.querySelector('#df-dbed7790-8cf7-42c5-ac66-3debef79f302 button.colab-df-convert');\n",
              "        buttonEl.style.display =\n",
              "          google.colab.kernel.accessAllowed ? 'block' : 'none';\n",
              "\n",
              "        async function convertToInteractive(key) {\n",
              "          const element = document.querySelector('#df-dbed7790-8cf7-42c5-ac66-3debef79f302');\n",
              "          const dataTable =\n",
              "            await google.colab.kernel.invokeFunction('convertToInteractive',\n",
              "                                                     [key], {});\n",
              "          if (!dataTable) return;\n",
              "\n",
              "          const docLinkHtml = 'Like what you see? Visit the ' +\n",
              "            '<a target=\"_blank\" href=https://colab.research.google.com/notebooks/data_table.ipynb>data table notebook</a>'\n",
              "            + ' to learn more about interactive tables.';\n",
              "          element.innerHTML = '';\n",
              "          dataTable['output_type'] = 'display_data';\n",
              "          await google.colab.output.renderOutput(dataTable, element);\n",
              "          const docLink = document.createElement('div');\n",
              "          docLink.innerHTML = docLinkHtml;\n",
              "          element.appendChild(docLink);\n",
              "        }\n",
              "      </script>\n",
              "    </div>\n",
              "  </div>\n",
              "  "
            ],
            "text/plain": [
              "           state  code       year  budget_approved  released_funds_by_goi  \\\n",
              "4   Chhattisgarh   5.0  2015-2016         2149.343                622.197   \n",
              "41  Chhattisgarh   5.0  2016-2017         2351.113                592.628   \n",
              "78  Chhattisgarh   5.0  2017-2018         2269.452                674.129   \n",
              "\n",
              "    released_funds_by_states  total_funds_released  \\\n",
              "4                    959.418              1581.615   \n",
              "41                  1213.880              1806.508   \n",
              "78                   704.956              1379.085   \n",
              "\n",
              "    expense_incurred_by_states  unspent_balance  \\\n",
              "4                     1477.519           36.023   \n",
              "41                    1702.295          187.822   \n",
              "78                    1601.000           31.766   \n",
              "\n",
              "    funds_released_against_budgetapproved(%)  \\\n",
              "4                                  73.585975   \n",
              "41                                 76.836000   \n",
              "78                                 60.767000   \n",
              "\n",
              "    funds_utilised_against_budgetapproved(%)  \n",
              "4                                      68.74  \n",
              "41                                     72.40  \n",
              "78                                     70.55  "
            ]
          },
          "execution_count": 23,
          "metadata": {},
          "output_type": "execute_result"
        }
      ],
      "source": [
        "#After computing for null values for states'\n",
        "ssa[ssa.state=='Chhattisgarh']"
      ]
    },
    {
      "cell_type": "code",
      "execution_count": null,
      "metadata": {
        "colab": {
          "base_uri": "https://localhost:8080/",
          "height": 259
        },
        "id": "yX1T7mWdfi1p",
        "outputId": "808d6729-f7dd-4a26-afb5-0697c65fa234"
      },
      "outputs": [
        {
          "data": {
            "text/html": [
              "\n",
              "  <div id=\"df-1e24a323-a2d4-4f76-bc62-23ff0e4ec0c4\">\n",
              "    <div class=\"colab-df-container\">\n",
              "      <div>\n",
              "<style scoped>\n",
              "    .dataframe tbody tr th:only-of-type {\n",
              "        vertical-align: middle;\n",
              "    }\n",
              "\n",
              "    .dataframe tbody tr th {\n",
              "        vertical-align: top;\n",
              "    }\n",
              "\n",
              "    .dataframe thead th {\n",
              "        text-align: right;\n",
              "    }\n",
              "</style>\n",
              "<table border=\"1\" class=\"dataframe\">\n",
              "  <thead>\n",
              "    <tr style=\"text-align: right;\">\n",
              "      <th></th>\n",
              "      <th>state</th>\n",
              "      <th>code</th>\n",
              "      <th>year</th>\n",
              "      <th>budget_approved</th>\n",
              "      <th>released_funds_by_goi</th>\n",
              "      <th>released_funds_by_states</th>\n",
              "      <th>total_funds_released</th>\n",
              "      <th>expense_incurred_by_states</th>\n",
              "      <th>unspent_balance</th>\n",
              "      <th>funds_released_against_budgetapproved(%)</th>\n",
              "      <th>funds_utilised_against_budgetapproved(%)</th>\n",
              "    </tr>\n",
              "  </thead>\n",
              "  <tbody>\n",
              "    <tr>\n",
              "      <th>7</th>\n",
              "      <td>Haryana</td>\n",
              "      <td>8.0</td>\n",
              "      <td>2015-2016</td>\n",
              "      <td>1120.583</td>\n",
              "      <td>345.012</td>\n",
              "      <td>227.8495</td>\n",
              "      <td>572.8615</td>\n",
              "      <td>529.163</td>\n",
              "      <td>99.413</td>\n",
              "      <td>51.121738</td>\n",
              "      <td>47.22</td>\n",
              "    </tr>\n",
              "    <tr>\n",
              "      <th>44</th>\n",
              "      <td>Haryana</td>\n",
              "      <td>8.0</td>\n",
              "      <td>2016-2017</td>\n",
              "      <td>1062.383</td>\n",
              "      <td>320.010</td>\n",
              "      <td>186.4190</td>\n",
              "      <td>506.4290</td>\n",
              "      <td>682.654</td>\n",
              "      <td>-0.497</td>\n",
              "      <td>47.669000</td>\n",
              "      <td>64.26</td>\n",
              "    </tr>\n",
              "    <tr>\n",
              "      <th>81</th>\n",
              "      <td>Haryana</td>\n",
              "      <td>8.0</td>\n",
              "      <td>2017-2018</td>\n",
              "      <td>1144.678</td>\n",
              "      <td>363.550</td>\n",
              "      <td>269.2800</td>\n",
              "      <td>632.8300</td>\n",
              "      <td>712.963</td>\n",
              "      <td>132.027</td>\n",
              "      <td>55.285000</td>\n",
              "      <td>62.29</td>\n",
              "    </tr>\n",
              "  </tbody>\n",
              "</table>\n",
              "</div>\n",
              "      <button class=\"colab-df-convert\" onclick=\"convertToInteractive('df-1e24a323-a2d4-4f76-bc62-23ff0e4ec0c4')\"\n",
              "              title=\"Convert this dataframe to an interactive table.\"\n",
              "              style=\"display:none;\">\n",
              "        \n",
              "  <svg xmlns=\"http://www.w3.org/2000/svg\" height=\"24px\"viewBox=\"0 0 24 24\"\n",
              "       width=\"24px\">\n",
              "    <path d=\"M0 0h24v24H0V0z\" fill=\"none\"/>\n",
              "    <path d=\"M18.56 5.44l.94 2.06.94-2.06 2.06-.94-2.06-.94-.94-2.06-.94 2.06-2.06.94zm-11 1L8.5 8.5l.94-2.06 2.06-.94-2.06-.94L8.5 2.5l-.94 2.06-2.06.94zm10 10l.94 2.06.94-2.06 2.06-.94-2.06-.94-.94-2.06-.94 2.06-2.06.94z\"/><path d=\"M17.41 7.96l-1.37-1.37c-.4-.4-.92-.59-1.43-.59-.52 0-1.04.2-1.43.59L10.3 9.45l-7.72 7.72c-.78.78-.78 2.05 0 2.83L4 21.41c.39.39.9.59 1.41.59.51 0 1.02-.2 1.41-.59l7.78-7.78 2.81-2.81c.8-.78.8-2.07 0-2.86zM5.41 20L4 18.59l7.72-7.72 1.47 1.35L5.41 20z\"/>\n",
              "  </svg>\n",
              "      </button>\n",
              "      \n",
              "  <style>\n",
              "    .colab-df-container {\n",
              "      display:flex;\n",
              "      flex-wrap:wrap;\n",
              "      gap: 12px;\n",
              "    }\n",
              "\n",
              "    .colab-df-convert {\n",
              "      background-color: #E8F0FE;\n",
              "      border: none;\n",
              "      border-radius: 50%;\n",
              "      cursor: pointer;\n",
              "      display: none;\n",
              "      fill: #1967D2;\n",
              "      height: 32px;\n",
              "      padding: 0 0 0 0;\n",
              "      width: 32px;\n",
              "    }\n",
              "\n",
              "    .colab-df-convert:hover {\n",
              "      background-color: #E2EBFA;\n",
              "      box-shadow: 0px 1px 2px rgba(60, 64, 67, 0.3), 0px 1px 3px 1px rgba(60, 64, 67, 0.15);\n",
              "      fill: #174EA6;\n",
              "    }\n",
              "\n",
              "    [theme=dark] .colab-df-convert {\n",
              "      background-color: #3B4455;\n",
              "      fill: #D2E3FC;\n",
              "    }\n",
              "\n",
              "    [theme=dark] .colab-df-convert:hover {\n",
              "      background-color: #434B5C;\n",
              "      box-shadow: 0px 1px 3px 1px rgba(0, 0, 0, 0.15);\n",
              "      filter: drop-shadow(0px 1px 2px rgba(0, 0, 0, 0.3));\n",
              "      fill: #FFFFFF;\n",
              "    }\n",
              "  </style>\n",
              "\n",
              "      <script>\n",
              "        const buttonEl =\n",
              "          document.querySelector('#df-1e24a323-a2d4-4f76-bc62-23ff0e4ec0c4 button.colab-df-convert');\n",
              "        buttonEl.style.display =\n",
              "          google.colab.kernel.accessAllowed ? 'block' : 'none';\n",
              "\n",
              "        async function convertToInteractive(key) {\n",
              "          const element = document.querySelector('#df-1e24a323-a2d4-4f76-bc62-23ff0e4ec0c4');\n",
              "          const dataTable =\n",
              "            await google.colab.kernel.invokeFunction('convertToInteractive',\n",
              "                                                     [key], {});\n",
              "          if (!dataTable) return;\n",
              "\n",
              "          const docLinkHtml = 'Like what you see? Visit the ' +\n",
              "            '<a target=\"_blank\" href=https://colab.research.google.com/notebooks/data_table.ipynb>data table notebook</a>'\n",
              "            + ' to learn more about interactive tables.';\n",
              "          element.innerHTML = '';\n",
              "          dataTable['output_type'] = 'display_data';\n",
              "          await google.colab.output.renderOutput(dataTable, element);\n",
              "          const docLink = document.createElement('div');\n",
              "          docLink.innerHTML = docLinkHtml;\n",
              "          element.appendChild(docLink);\n",
              "        }\n",
              "      </script>\n",
              "    </div>\n",
              "  </div>\n",
              "  "
            ],
            "text/plain": [
              "      state  code       year  budget_approved  released_funds_by_goi  \\\n",
              "7   Haryana   8.0  2015-2016         1120.583                345.012   \n",
              "44  Haryana   8.0  2016-2017         1062.383                320.010   \n",
              "81  Haryana   8.0  2017-2018         1144.678                363.550   \n",
              "\n",
              "    released_funds_by_states  total_funds_released  \\\n",
              "7                   227.8495              572.8615   \n",
              "44                  186.4190              506.4290   \n",
              "81                  269.2800              632.8300   \n",
              "\n",
              "    expense_incurred_by_states  unspent_balance  \\\n",
              "7                      529.163           99.413   \n",
              "44                     682.654           -0.497   \n",
              "81                     712.963          132.027   \n",
              "\n",
              "    funds_released_against_budgetapproved(%)  \\\n",
              "7                                  51.121738   \n",
              "44                                 47.669000   \n",
              "81                                 55.285000   \n",
              "\n",
              "    funds_utilised_against_budgetapproved(%)  \n",
              "7                                      47.22  \n",
              "44                                     64.26  \n",
              "81                                     62.29  "
            ]
          },
          "execution_count": 24,
          "metadata": {},
          "output_type": "execute_result"
        }
      ],
      "source": [
        "ssa[ssa.state=='Haryana']"
      ]
    },
    {
      "cell_type": "code",
      "execution_count": null,
      "metadata": {
        "colab": {
          "base_uri": "https://localhost:8080/",
          "height": 259
        },
        "id": "GfKQ5s62fk8P",
        "outputId": "0693609e-2bf6-415f-c571-528e0f124732"
      },
      "outputs": [
        {
          "data": {
            "text/html": [
              "\n",
              "  <div id=\"df-4d708491-78d9-4762-b1ba-4b3e3c44b67c\">\n",
              "    <div class=\"colab-df-container\">\n",
              "      <div>\n",
              "<style scoped>\n",
              "    .dataframe tbody tr th:only-of-type {\n",
              "        vertical-align: middle;\n",
              "    }\n",
              "\n",
              "    .dataframe tbody tr th {\n",
              "        vertical-align: top;\n",
              "    }\n",
              "\n",
              "    .dataframe thead th {\n",
              "        text-align: right;\n",
              "    }\n",
              "</style>\n",
              "<table border=\"1\" class=\"dataframe\">\n",
              "  <thead>\n",
              "    <tr style=\"text-align: right;\">\n",
              "      <th></th>\n",
              "      <th>state</th>\n",
              "      <th>code</th>\n",
              "      <th>year</th>\n",
              "      <th>budget_approved</th>\n",
              "      <th>released_funds_by_goi</th>\n",
              "      <th>released_funds_by_states</th>\n",
              "      <th>total_funds_released</th>\n",
              "      <th>expense_incurred_by_states</th>\n",
              "      <th>unspent_balance</th>\n",
              "      <th>funds_released_against_budgetapproved(%)</th>\n",
              "      <th>funds_utilised_against_budgetapproved(%)</th>\n",
              "    </tr>\n",
              "  </thead>\n",
              "  <tbody>\n",
              "    <tr>\n",
              "      <th>10</th>\n",
              "      <td>Karnataka</td>\n",
              "      <td>11.0</td>\n",
              "      <td>2015-2016</td>\n",
              "      <td>1545.808</td>\n",
              "      <td>417.593</td>\n",
              "      <td>571.3505</td>\n",
              "      <td>988.9435</td>\n",
              "      <td>1196.365</td>\n",
              "      <td>38.156</td>\n",
              "      <td>63.97583</td>\n",
              "      <td>77.39</td>\n",
              "    </tr>\n",
              "    <tr>\n",
              "      <th>47</th>\n",
              "      <td>Karnataka</td>\n",
              "      <td>11.0</td>\n",
              "      <td>2016-2017</td>\n",
              "      <td>1878.970</td>\n",
              "      <td>544.955</td>\n",
              "      <td>300.0000</td>\n",
              "      <td>844.9550</td>\n",
              "      <td>1286.860</td>\n",
              "      <td>46.930</td>\n",
              "      <td>44.96900</td>\n",
              "      <td>68.49</td>\n",
              "    </tr>\n",
              "    <tr>\n",
              "      <th>84</th>\n",
              "      <td>Karnataka</td>\n",
              "      <td>11.0</td>\n",
              "      <td>2017-2018</td>\n",
              "      <td>1809.880</td>\n",
              "      <td>548.820</td>\n",
              "      <td>842.7010</td>\n",
              "      <td>1391.5210</td>\n",
              "      <td>1617.764</td>\n",
              "      <td>83.196</td>\n",
              "      <td>76.88500</td>\n",
              "      <td>89.39</td>\n",
              "    </tr>\n",
              "  </tbody>\n",
              "</table>\n",
              "</div>\n",
              "      <button class=\"colab-df-convert\" onclick=\"convertToInteractive('df-4d708491-78d9-4762-b1ba-4b3e3c44b67c')\"\n",
              "              title=\"Convert this dataframe to an interactive table.\"\n",
              "              style=\"display:none;\">\n",
              "        \n",
              "  <svg xmlns=\"http://www.w3.org/2000/svg\" height=\"24px\"viewBox=\"0 0 24 24\"\n",
              "       width=\"24px\">\n",
              "    <path d=\"M0 0h24v24H0V0z\" fill=\"none\"/>\n",
              "    <path d=\"M18.56 5.44l.94 2.06.94-2.06 2.06-.94-2.06-.94-.94-2.06-.94 2.06-2.06.94zm-11 1L8.5 8.5l.94-2.06 2.06-.94-2.06-.94L8.5 2.5l-.94 2.06-2.06.94zm10 10l.94 2.06.94-2.06 2.06-.94-2.06-.94-.94-2.06-.94 2.06-2.06.94z\"/><path d=\"M17.41 7.96l-1.37-1.37c-.4-.4-.92-.59-1.43-.59-.52 0-1.04.2-1.43.59L10.3 9.45l-7.72 7.72c-.78.78-.78 2.05 0 2.83L4 21.41c.39.39.9.59 1.41.59.51 0 1.02-.2 1.41-.59l7.78-7.78 2.81-2.81c.8-.78.8-2.07 0-2.86zM5.41 20L4 18.59l7.72-7.72 1.47 1.35L5.41 20z\"/>\n",
              "  </svg>\n",
              "      </button>\n",
              "      \n",
              "  <style>\n",
              "    .colab-df-container {\n",
              "      display:flex;\n",
              "      flex-wrap:wrap;\n",
              "      gap: 12px;\n",
              "    }\n",
              "\n",
              "    .colab-df-convert {\n",
              "      background-color: #E8F0FE;\n",
              "      border: none;\n",
              "      border-radius: 50%;\n",
              "      cursor: pointer;\n",
              "      display: none;\n",
              "      fill: #1967D2;\n",
              "      height: 32px;\n",
              "      padding: 0 0 0 0;\n",
              "      width: 32px;\n",
              "    }\n",
              "\n",
              "    .colab-df-convert:hover {\n",
              "      background-color: #E2EBFA;\n",
              "      box-shadow: 0px 1px 2px rgba(60, 64, 67, 0.3), 0px 1px 3px 1px rgba(60, 64, 67, 0.15);\n",
              "      fill: #174EA6;\n",
              "    }\n",
              "\n",
              "    [theme=dark] .colab-df-convert {\n",
              "      background-color: #3B4455;\n",
              "      fill: #D2E3FC;\n",
              "    }\n",
              "\n",
              "    [theme=dark] .colab-df-convert:hover {\n",
              "      background-color: #434B5C;\n",
              "      box-shadow: 0px 1px 3px 1px rgba(0, 0, 0, 0.15);\n",
              "      filter: drop-shadow(0px 1px 2px rgba(0, 0, 0, 0.3));\n",
              "      fill: #FFFFFF;\n",
              "    }\n",
              "  </style>\n",
              "\n",
              "      <script>\n",
              "        const buttonEl =\n",
              "          document.querySelector('#df-4d708491-78d9-4762-b1ba-4b3e3c44b67c button.colab-df-convert');\n",
              "        buttonEl.style.display =\n",
              "          google.colab.kernel.accessAllowed ? 'block' : 'none';\n",
              "\n",
              "        async function convertToInteractive(key) {\n",
              "          const element = document.querySelector('#df-4d708491-78d9-4762-b1ba-4b3e3c44b67c');\n",
              "          const dataTable =\n",
              "            await google.colab.kernel.invokeFunction('convertToInteractive',\n",
              "                                                     [key], {});\n",
              "          if (!dataTable) return;\n",
              "\n",
              "          const docLinkHtml = 'Like what you see? Visit the ' +\n",
              "            '<a target=\"_blank\" href=https://colab.research.google.com/notebooks/data_table.ipynb>data table notebook</a>'\n",
              "            + ' to learn more about interactive tables.';\n",
              "          element.innerHTML = '';\n",
              "          dataTable['output_type'] = 'display_data';\n",
              "          await google.colab.output.renderOutput(dataTable, element);\n",
              "          const docLink = document.createElement('div');\n",
              "          docLink.innerHTML = docLinkHtml;\n",
              "          element.appendChild(docLink);\n",
              "        }\n",
              "      </script>\n",
              "    </div>\n",
              "  </div>\n",
              "  "
            ],
            "text/plain": [
              "        state  code       year  budget_approved  released_funds_by_goi  \\\n",
              "10  Karnataka  11.0  2015-2016         1545.808                417.593   \n",
              "47  Karnataka  11.0  2016-2017         1878.970                544.955   \n",
              "84  Karnataka  11.0  2017-2018         1809.880                548.820   \n",
              "\n",
              "    released_funds_by_states  total_funds_released  \\\n",
              "10                  571.3505              988.9435   \n",
              "47                  300.0000              844.9550   \n",
              "84                  842.7010             1391.5210   \n",
              "\n",
              "    expense_incurred_by_states  unspent_balance  \\\n",
              "10                    1196.365           38.156   \n",
              "47                    1286.860           46.930   \n",
              "84                    1617.764           83.196   \n",
              "\n",
              "    funds_released_against_budgetapproved(%)  \\\n",
              "10                                  63.97583   \n",
              "47                                  44.96900   \n",
              "84                                  76.88500   \n",
              "\n",
              "    funds_utilised_against_budgetapproved(%)  \n",
              "10                                     77.39  \n",
              "47                                     68.49  \n",
              "84                                     89.39  "
            ]
          },
          "execution_count": 25,
          "metadata": {},
          "output_type": "execute_result"
        }
      ],
      "source": [
        "ssa[ssa.state=='Karnataka']"
      ]
    },
    {
      "cell_type": "markdown",
      "metadata": {
        "id": "6eu7Wso_MJhx"
      },
      "source": [
        "**4.12 CHECKING AGAIN TOTAL NUMBER OF NULL VALUES**"
      ]
    },
    {
      "cell_type": "code",
      "execution_count": null,
      "metadata": {
        "colab": {
          "base_uri": "https://localhost:8080/"
        },
        "id": "2YF7wlx-Gsxy",
        "outputId": "08c099a0-2543-4815-acae-ee5f146f5b3f"
      },
      "outputs": [
        {
          "data": {
            "text/plain": [
              "state                                       0\n",
              "code                                        0\n",
              "year                                        0\n",
              "budget_approved                             0\n",
              "released_funds_by_goi                       0\n",
              "released_funds_by_states                    0\n",
              "total_funds_released                        0\n",
              "expense_incurred_by_states                  0\n",
              "unspent_balance                             0\n",
              "funds_released_against_budgetapproved(%)    0\n",
              "funds_utilised_against_budgetapproved(%)    0\n",
              "dtype: int64"
            ]
          },
          "execution_count": 26,
          "metadata": {},
          "output_type": "execute_result"
        }
      ],
      "source": [
        "ssa.isnull().sum()"
      ]
    },
    {
      "cell_type": "markdown",
      "metadata": {
        "id": "sqUrojPb8-9a"
      },
      "source": [
        "****"
      ]
    },
    {
      "cell_type": "markdown",
      "metadata": {
        "id": "BkCpkcH9cZi-"
      },
      "source": [
        "#**5 DATA VISUALIZATION**"
      ]
    },
    {
      "cell_type": "code",
      "execution_count": null,
      "metadata": {
        "id": "iE6mKZnAe6a5"
      },
      "outputs": [],
      "source": [
        "df = ssa.copy()\n",
        "#encodeing for year\n",
        "df['year'] = df['year'].str.replace('-2016', '').str.replace('-2017', '').str.replace('-2018', '')\n",
        "df['year'] = df['year'].astype(int)"
      ]
    },
    {
      "cell_type": "code",
      "execution_count": null,
      "metadata": {
        "id": "T1rni-4He2o3"
      },
      "outputs": [],
      "source": [
        "#Creating dataframe for different years\n",
        "ssa_2015 = df.query(\"year == 2015\")\n",
        "ssa_2016 = df.query(\"year == 2016\")\n",
        "ssa_2017 = df.query(\"year == 2017\")\n",
        "ssa_2015_16 = pd.concat([ssa_2015, ssa_2016])"
      ]
    },
    {
      "cell_type": "markdown",
      "metadata": {
        "id": "kRhOHVHag9Xr"
      },
      "source": [
        "**5.1 BUBBLE CHART**"
      ]
    },
    {
      "cell_type": "code",
      "execution_count": null,
      "metadata": {
        "colab": {
          "base_uri": "https://localhost:8080/",
          "height": 542
        },
        "id": "lIMaW_AdcY0w",
        "outputId": "facc73cc-4d32-4639-ebe6-f85d107f556e"
      },
      "outputs": [
        {
          "data": {
            "text/html": [
              "<html>\n",
              "<head><meta charset=\"utf-8\" /></head>\n",
              "<body>\n",
              "    <div>            <script src=\"https://cdnjs.cloudflare.com/ajax/libs/mathjax/2.7.5/MathJax.js?config=TeX-AMS-MML_SVG\"></script><script type=\"text/javascript\">if (window.MathJax && window.MathJax.Hub && window.MathJax.Hub.Config) {window.MathJax.Hub.Config({SVG: {font: \"STIX-Web\"}});}</script>                <script type=\"text/javascript\">window.PlotlyConfig = {MathJaxConfig: 'local'};</script>\n",
              "        <script src=\"https://cdn.plot.ly/plotly-2.18.2.min.js\"></script>                <div id=\"898216f9-3e89-41d7-98cc-ebb177eeeb1d\" class=\"plotly-graph-div\" style=\"height:525px; width:100%;\"></div>            <script type=\"text/javascript\">                                    window.PLOTLYENV=window.PLOTLYENV || {};                                    if (document.getElementById(\"898216f9-3e89-41d7-98cc-ebb177eeeb1d\")) {                    Plotly.newPlot(                        \"898216f9-3e89-41d7-98cc-ebb177eeeb1d\",                        [{\"hovertemplate\":\"state=Andhra Pradesh<br>funds_released_against_budgetapproved(%)=%{x}<br>funds_utilised_against_budgetapproved(%)=%{y}<br>budget_approved=%{marker.size}<extra></extra>\",\"legendgroup\":\"Andhra Pradesh\",\"marker\":{\"color\":\"#636efa\",\"size\":[2116.062,2637.005],\"sizemode\":\"area\",\"sizeref\":5.2817675,\"symbol\":\"circle\"},\"mode\":\"markers\",\"name\":\"Andhra Pradesh\",\"orientation\":\"v\",\"showlegend\":true,\"x\":[55.328,49.489],\"xaxis\":\"x\",\"y\":[76.11,46.31],\"yaxis\":\"y\",\"type\":\"scatter\"},{\"hovertemplate\":\"state=Arunachal Pradesh<br>funds_released_against_budgetapproved(%)=%{x}<br>funds_utilised_against_budgetapproved(%)=%{y}<br>budget_approved=%{marker.size}<extra></extra>\",\"legendgroup\":\"Arunachal Pradesh\",\"marker\":{\"color\":\"#EF553B\",\"size\":[358.645,380.858],\"sizemode\":\"area\",\"sizeref\":5.2817675,\"symbol\":\"circle\"},\"mode\":\"markers\",\"name\":\"Arunachal Pradesh\",\"orientation\":\"v\",\"showlegend\":true,\"x\":[59.921,72.553],\"xaxis\":\"x\",\"y\":[81.62,79.94],\"yaxis\":\"y\",\"type\":\"scatter\"},{\"hovertemplate\":\"state=Assam<br>funds_released_against_budgetapproved(%)=%{x}<br>funds_utilised_against_budgetapproved(%)=%{y}<br>budget_approved=%{marker.size}<extra></extra>\",\"legendgroup\":\"Assam\",\"marker\":{\"color\":\"#00cc96\",\"size\":[1682.157,1676.922],\"sizemode\":\"area\",\"sizeref\":5.2817675,\"symbol\":\"circle\"},\"mode\":\"markers\",\"name\":\"Assam\",\"orientation\":\"v\",\"showlegend\":true,\"x\":[72.376,58.88],\"xaxis\":\"x\",\"y\":[69.27,63.29],\"yaxis\":\"y\",\"type\":\"scatter\"},{\"hovertemplate\":\"state=Bihar<br>funds_released_against_budgetapproved(%)=%{x}<br>funds_utilised_against_budgetapproved(%)=%{y}<br>budget_approved=%{marker.size}<extra></extra>\",\"legendgroup\":\"Bihar\",\"marker\":{\"color\":\"#ab63fa\",\"size\":[7387.148,9665.271],\"sizemode\":\"area\",\"sizeref\":5.2817675,\"symbol\":\"circle\"},\"mode\":\"markers\",\"name\":\"Bihar\",\"orientation\":\"v\",\"showlegend\":true,\"x\":[73.196,68.403],\"xaxis\":\"x\",\"y\":[78.0,66.05],\"yaxis\":\"y\",\"type\":\"scatter\"},{\"hovertemplate\":\"state=Chhattisgarh<br>funds_released_against_budgetapproved(%)=%{x}<br>funds_utilised_against_budgetapproved(%)=%{y}<br>budget_approved=%{marker.size}<extra></extra>\",\"legendgroup\":\"Chhattisgarh\",\"marker\":{\"color\":\"#FFA15A\",\"size\":[2149.343,2351.113],\"sizemode\":\"area\",\"sizeref\":5.2817675,\"symbol\":\"circle\"},\"mode\":\"markers\",\"name\":\"Chhattisgarh\",\"orientation\":\"v\",\"showlegend\":true,\"x\":[73.58597487697405,76.836],\"xaxis\":\"x\",\"y\":[68.74,72.4],\"yaxis\":\"y\",\"type\":\"scatter\"},{\"hovertemplate\":\"state=Goa<br>funds_released_against_budgetapproved(%)=%{x}<br>funds_utilised_against_budgetapproved(%)=%{y}<br>budget_approved=%{marker.size}<extra></extra>\",\"legendgroup\":\"Goa\",\"marker\":{\"color\":\"#19d3f3\",\"size\":[24.238,29.038],\"sizemode\":\"area\",\"sizeref\":5.2817675,\"symbol\":\"circle\"},\"mode\":\"markers\",\"name\":\"Goa\",\"orientation\":\"v\",\"showlegend\":true,\"x\":[50.475,67.103],\"xaxis\":\"x\",\"y\":[65.43,61.68],\"yaxis\":\"y\",\"type\":\"scatter\"},{\"hovertemplate\":\"state=Gujarat<br>funds_released_against_budgetapproved(%)=%{x}<br>funds_utilised_against_budgetapproved(%)=%{y}<br>budget_approved=%{marker.size}<extra></extra>\",\"legendgroup\":\"Gujarat\",\"marker\":{\"color\":\"#FF6692\",\"size\":[1973.598,2591.35],\"sizemode\":\"area\",\"sizeref\":5.2817675,\"symbol\":\"circle\"},\"mode\":\"markers\",\"name\":\"Gujarat\",\"orientation\":\"v\",\"showlegend\":true,\"x\":[51.755,50.0],\"xaxis\":\"x\",\"y\":[92.47,45.7],\"yaxis\":\"y\",\"type\":\"scatter\"},{\"hovertemplate\":\"state=Haryana<br>funds_released_against_budgetapproved(%)=%{x}<br>funds_utilised_against_budgetapproved(%)=%{y}<br>budget_approved=%{marker.size}<extra></extra>\",\"legendgroup\":\"Haryana\",\"marker\":{\"color\":\"#B6E880\",\"size\":[1120.583,1062.383],\"sizemode\":\"area\",\"sizeref\":5.2817675,\"symbol\":\"circle\"},\"mode\":\"markers\",\"name\":\"Haryana\",\"orientation\":\"v\",\"showlegend\":true,\"x\":[51.12173752412806,47.669],\"xaxis\":\"x\",\"y\":[47.22,64.26],\"yaxis\":\"y\",\"type\":\"scatter\"},{\"hovertemplate\":\"state=Himachal Pradesh<br>funds_released_against_budgetapproved(%)=%{x}<br>funds_utilised_against_budgetapproved(%)=%{y}<br>budget_approved=%{marker.size}<extra></extra>\",\"legendgroup\":\"Himachal Pradesh\",\"marker\":{\"color\":\"#FF97FF\",\"size\":[345.338,426.822],\"sizemode\":\"area\",\"sizeref\":5.2817675,\"symbol\":\"circle\"},\"mode\":\"markers\",\"name\":\"Himachal Pradesh\",\"orientation\":\"v\",\"showlegend\":true,\"x\":[48.524,33.387],\"xaxis\":\"x\",\"y\":[94.19,71.94],\"yaxis\":\"y\",\"type\":\"scatter\"},{\"hovertemplate\":\"state=Jharkhand<br>funds_released_against_budgetapproved(%)=%{x}<br>funds_utilised_against_budgetapproved(%)=%{y}<br>budget_approved=%{marker.size}<extra></extra>\",\"legendgroup\":\"Jharkhand\",\"marker\":{\"color\":\"#FECB52\",\"size\":[1649.303,1566.594],\"sizemode\":\"area\",\"sizeref\":5.2817675,\"symbol\":\"circle\"},\"mode\":\"markers\",\"name\":\"Jharkhand\",\"orientation\":\"v\",\"showlegend\":true,\"x\":[62.802,69.502],\"xaxis\":\"x\",\"y\":[82.21,84.25],\"yaxis\":\"y\",\"type\":\"scatter\"},{\"hovertemplate\":\"state=Karnataka<br>funds_released_against_budgetapproved(%)=%{x}<br>funds_utilised_against_budgetapproved(%)=%{y}<br>budget_approved=%{marker.size}<extra></extra>\",\"legendgroup\":\"Karnataka\",\"marker\":{\"color\":\"#636efa\",\"size\":[1545.808,1878.97],\"sizemode\":\"area\",\"sizeref\":5.2817675,\"symbol\":\"circle\"},\"mode\":\"markers\",\"name\":\"Karnataka\",\"orientation\":\"v\",\"showlegend\":true,\"x\":[63.97583011602994,44.969],\"xaxis\":\"x\",\"y\":[77.39,68.49],\"yaxis\":\"y\",\"type\":\"scatter\"},{\"hovertemplate\":\"state=Kerala<br>funds_released_against_budgetapproved(%)=%{x}<br>funds_utilised_against_budgetapproved(%)=%{y}<br>budget_approved=%{marker.size}<extra></extra>\",\"legendgroup\":\"Kerala\",\"marker\":{\"color\":\"#EF553B\",\"size\":[412.004,527.476],\"sizemode\":\"area\",\"sizeref\":5.2817675,\"symbol\":\"circle\"},\"mode\":\"markers\",\"name\":\"Kerala\",\"orientation\":\"v\",\"showlegend\":true,\"x\":[56.433,48.566],\"xaxis\":\"x\",\"y\":[62.7,60.95],\"yaxis\":\"y\",\"type\":\"scatter\"},{\"hovertemplate\":\"state=Madhya Pradesh<br>funds_released_against_budgetapproved(%)=%{x}<br>funds_utilised_against_budgetapproved(%)=%{y}<br>budget_approved=%{marker.size}<extra></extra>\",\"legendgroup\":\"Madhya Pradesh\",\"marker\":{\"color\":\"#00cc96\",\"size\":[4606.335,5223.162],\"sizemode\":\"area\",\"sizeref\":5.2817675,\"symbol\":\"circle\"},\"mode\":\"markers\",\"name\":\"Madhya Pradesh\",\"orientation\":\"v\",\"showlegend\":true,\"x\":[56.236,43.629],\"xaxis\":\"x\",\"y\":[46.15,51.1],\"yaxis\":\"y\",\"type\":\"scatter\"},{\"hovertemplate\":\"state=Maharashtra<br>funds_released_against_budgetapproved(%)=%{x}<br>funds_utilised_against_budgetapproved(%)=%{y}<br>budget_approved=%{marker.size}<extra></extra>\",\"legendgroup\":\"Maharashtra\",\"marker\":{\"color\":\"#ab63fa\",\"size\":[1574.948,2296.333],\"sizemode\":\"area\",\"sizeref\":5.2817675,\"symbol\":\"circle\"},\"mode\":\"markers\",\"name\":\"Maharashtra\",\"orientation\":\"v\",\"showlegend\":true,\"x\":[52.743,44.153],\"xaxis\":\"x\",\"y\":[53.8,83.7],\"yaxis\":\"y\",\"type\":\"scatter\"},{\"hovertemplate\":\"state=Manipur<br>funds_released_against_budgetapproved(%)=%{x}<br>funds_utilised_against_budgetapproved(%)=%{y}<br>budget_approved=%{marker.size}<extra></extra>\",\"legendgroup\":\"Manipur\",\"marker\":{\"color\":\"#FFA15A\",\"size\":[322.028,276.401],\"sizemode\":\"area\",\"sizeref\":5.2817675,\"symbol\":\"circle\"},\"mode\":\"markers\",\"name\":\"Manipur\",\"orientation\":\"v\",\"showlegend\":true,\"x\":[28.362,21.081],\"xaxis\":\"x\",\"y\":[46.68,52.04],\"yaxis\":\"y\",\"type\":\"scatter\"},{\"hovertemplate\":\"state=Meghalaya<br>funds_released_against_budgetapproved(%)=%{x}<br>funds_utilised_against_budgetapproved(%)=%{y}<br>budget_approved=%{marker.size}<extra></extra>\",\"legendgroup\":\"Meghalaya\",\"marker\":{\"color\":\"#19d3f3\",\"size\":[285.725,451.244],\"sizemode\":\"area\",\"sizeref\":5.2817675,\"symbol\":\"circle\"},\"mode\":\"markers\",\"name\":\"Meghalaya\",\"orientation\":\"v\",\"showlegend\":true,\"x\":[69.033,49.477],\"xaxis\":\"x\",\"y\":[73.51,52.13],\"yaxis\":\"y\",\"type\":\"scatter\"},{\"hovertemplate\":\"state=Mizoram<br>funds_released_against_budgetapproved(%)=%{x}<br>funds_utilised_against_budgetapproved(%)=%{y}<br>budget_approved=%{marker.size}<extra></extra>\",\"legendgroup\":\"Mizoram\",\"marker\":{\"color\":\"#FF6692\",\"size\":[207.235,196.252],\"sizemode\":\"area\",\"sizeref\":5.2817675,\"symbol\":\"circle\"},\"mode\":\"markers\",\"name\":\"Mizoram\",\"orientation\":\"v\",\"showlegend\":true,\"x\":[52.989,63.745],\"xaxis\":\"x\",\"y\":[69.4,64.53],\"yaxis\":\"y\",\"type\":\"scatter\"},{\"hovertemplate\":\"state=Nagaland<br>funds_released_against_budgetapproved(%)=%{x}<br>funds_utilised_against_budgetapproved(%)=%{y}<br>budget_approved=%{marker.size}<extra></extra>\",\"legendgroup\":\"Nagaland\",\"marker\":{\"color\":\"#B6E880\",\"size\":[314.012,300.788],\"sizemode\":\"area\",\"sizeref\":5.2817675,\"symbol\":\"circle\"},\"mode\":\"markers\",\"name\":\"Nagaland\",\"orientation\":\"v\",\"showlegend\":true,\"x\":[30.378,41.994],\"xaxis\":\"x\",\"y\":[50.77,56.52],\"yaxis\":\"y\",\"type\":\"scatter\"},{\"hovertemplate\":\"state=Odisha<br>funds_released_against_budgetapproved(%)=%{x}<br>funds_utilised_against_budgetapproved(%)=%{y}<br>budget_approved=%{marker.size}<extra></extra>\",\"legendgroup\":\"Odisha\",\"marker\":{\"color\":\"#FF97FF\",\"size\":[2321.702,2215.84],\"sizemode\":\"area\",\"sizeref\":5.2817675,\"symbol\":\"circle\"},\"mode\":\"markers\",\"name\":\"Odisha\",\"orientation\":\"v\",\"showlegend\":true,\"x\":[58.923,61.739],\"xaxis\":\"x\",\"y\":[58.1,70.57],\"yaxis\":\"y\",\"type\":\"scatter\"},{\"hovertemplate\":\"state=Punjab<br>funds_released_against_budgetapproved(%)=%{x}<br>funds_utilised_against_budgetapproved(%)=%{y}<br>budget_approved=%{marker.size}<extra></extra>\",\"legendgroup\":\"Punjab\",\"marker\":{\"color\":\"#FECB52\",\"size\":[984.739,1059.242],\"sizemode\":\"area\",\"sizeref\":5.2817675,\"symbol\":\"circle\"},\"mode\":\"markers\",\"name\":\"Punjab\",\"orientation\":\"v\",\"showlegend\":true,\"x\":[57.416,56.709],\"xaxis\":\"x\",\"y\":[66.61,56.65],\"yaxis\":\"y\",\"type\":\"scatter\"},{\"hovertemplate\":\"state=Rajasthan<br>funds_released_against_budgetapproved(%)=%{x}<br>funds_utilised_against_budgetapproved(%)=%{y}<br>budget_approved=%{marker.size}<extra></extra>\",\"legendgroup\":\"Rajasthan\",\"marker\":{\"color\":\"#636efa\",\"size\":[5026.136,5866.631],\"sizemode\":\"area\",\"sizeref\":5.2817675,\"symbol\":\"circle\"},\"mode\":\"markers\",\"name\":\"Rajasthan\",\"orientation\":\"v\",\"showlegend\":true,\"x\":[80.911,76.067],\"xaxis\":\"x\",\"y\":[84.56,77.3],\"yaxis\":\"y\",\"type\":\"scatter\"},{\"hovertemplate\":\"state=Sikkim<br>funds_released_against_budgetapproved(%)=%{x}<br>funds_utilised_against_budgetapproved(%)=%{y}<br>budget_approved=%{marker.size}<extra></extra>\",\"legendgroup\":\"Sikkim\",\"marker\":{\"color\":\"#EF553B\",\"size\":[61.206,68.511],\"sizemode\":\"area\",\"sizeref\":5.2817675,\"symbol\":\"circle\"},\"mode\":\"markers\",\"name\":\"Sikkim\",\"orientation\":\"v\",\"showlegend\":true,\"x\":[76.492,60.271],\"xaxis\":\"x\",\"y\":[84.37,73.21],\"yaxis\":\"y\",\"type\":\"scatter\"},{\"hovertemplate\":\"state=Tamil Nadu<br>funds_released_against_budgetapproved(%)=%{x}<br>funds_utilised_against_budgetapproved(%)=%{y}<br>budget_approved=%{marker.size}<extra></extra>\",\"legendgroup\":\"Tamil Nadu\",\"marker\":{\"color\":\"#00cc96\",\"size\":[1667.344,2656.035],\"sizemode\":\"area\",\"sizeref\":5.2817675,\"symbol\":\"circle\"},\"mode\":\"markers\",\"name\":\"Tamil Nadu\",\"orientation\":\"v\",\"showlegend\":true,\"x\":[82.078,51.525],\"xaxis\":\"x\",\"y\":[84.76,52.19],\"yaxis\":\"y\",\"type\":\"scatter\"},{\"hovertemplate\":\"state=Telangana<br>funds_released_against_budgetapproved(%)=%{x}<br>funds_utilised_against_budgetapproved(%)=%{y}<br>budget_approved=%{marker.size}<extra></extra>\",\"legendgroup\":\"Telangana\",\"marker\":{\"color\":\"#ab63fa\",\"size\":[2329.15,1853.716],\"sizemode\":\"area\",\"sizeref\":5.2817675,\"symbol\":\"circle\"},\"mode\":\"markers\",\"name\":\"Telangana\",\"orientation\":\"v\",\"showlegend\":true,\"x\":[29.243,63.728],\"xaxis\":\"x\",\"y\":[29.54,67.21],\"yaxis\":\"y\",\"type\":\"scatter\"},{\"hovertemplate\":\"state=Tripura<br>funds_released_against_budgetapproved(%)=%{x}<br>funds_utilised_against_budgetapproved(%)=%{y}<br>budget_approved=%{marker.size}<extra></extra>\",\"legendgroup\":\"Tripura\",\"marker\":{\"color\":\"#FFA15A\",\"size\":[261.35,293.033],\"sizemode\":\"area\",\"sizeref\":5.2817675,\"symbol\":\"circle\"},\"mode\":\"markers\",\"name\":\"Tripura\",\"orientation\":\"v\",\"showlegend\":true,\"x\":[72.289,73.537],\"xaxis\":\"x\",\"y\":[75.25,68.14],\"yaxis\":\"y\",\"type\":\"scatter\"},{\"hovertemplate\":\"state=Uttar Pradesh<br>funds_released_against_budgetapproved(%)=%{x}<br>funds_utilised_against_budgetapproved(%)=%{y}<br>budget_approved=%{marker.size}<extra></extra>\",\"legendgroup\":\"Uttar Pradesh\",\"marker\":{\"color\":\"#19d3f3\",\"size\":[15139.522,19014.363],\"sizemode\":\"area\",\"sizeref\":5.2817675,\"symbol\":\"circle\"},\"mode\":\"markers\",\"name\":\"Uttar Pradesh\",\"orientation\":\"v\",\"showlegend\":true,\"x\":[82.339,75.982],\"xaxis\":\"x\",\"y\":[79.64,76.72],\"yaxis\":\"y\",\"type\":\"scatter\"},{\"hovertemplate\":\"state=Uttarakhand<br>funds_released_against_budgetapproved(%)=%{x}<br>funds_utilised_against_budgetapproved(%)=%{y}<br>budget_approved=%{marker.size}<extra></extra>\",\"legendgroup\":\"Uttarakhand\",\"marker\":{\"color\":\"#FF6692\",\"size\":[581.731,608.266],\"sizemode\":\"area\",\"sizeref\":5.2817675,\"symbol\":\"circle\"},\"mode\":\"markers\",\"name\":\"Uttarakhand\",\"orientation\":\"v\",\"showlegend\":true,\"x\":[53.733,67.225],\"xaxis\":\"x\",\"y\":[65.55,69.44],\"yaxis\":\"y\",\"type\":\"scatter\"},{\"hovertemplate\":\"state=West Bengal<br>funds_released_against_budgetapproved(%)=%{x}<br>funds_utilised_against_budgetapproved(%)=%{y}<br>budget_approved=%{marker.size}<extra></extra>\",\"legendgroup\":\"West Bengal\",\"marker\":{\"color\":\"#B6E880\",\"size\":[4294.799,4688.491],\"sizemode\":\"area\",\"sizeref\":5.2817675,\"symbol\":\"circle\"},\"mode\":\"markers\",\"name\":\"West Bengal\",\"orientation\":\"v\",\"showlegend\":true,\"x\":[43.275,28.764],\"xaxis\":\"x\",\"y\":[39.75,37.1],\"yaxis\":\"y\",\"type\":\"scatter\"},{\"hovertemplate\":\"state=A & N Islands<br>funds_released_against_budgetapproved(%)=%{x}<br>funds_utilised_against_budgetapproved(%)=%{y}<br>budget_approved=%{marker.size}<extra></extra>\",\"legendgroup\":\"A & N Islands\",\"marker\":{\"color\":\"#FF97FF\",\"size\":[8.955,18.077],\"sizemode\":\"area\",\"sizeref\":5.2817675,\"symbol\":\"circle\"},\"mode\":\"markers\",\"name\":\"A & N Islands\",\"orientation\":\"v\",\"showlegend\":true,\"x\":[63.912,26.506],\"xaxis\":\"x\",\"y\":[77.81,46.02],\"yaxis\":\"y\",\"type\":\"scatter\"},{\"hovertemplate\":\"state=Chandigarh<br>funds_released_against_budgetapproved(%)=%{x}<br>funds_utilised_against_budgetapproved(%)=%{y}<br>budget_approved=%{marker.size}<extra></extra>\",\"legendgroup\":\"Chandigarh\",\"marker\":{\"color\":\"#FECB52\",\"size\":[59.682,65.578],\"sizemode\":\"area\",\"sizeref\":5.2817675,\"symbol\":\"circle\"},\"mode\":\"markers\",\"name\":\"Chandigarh\",\"orientation\":\"v\",\"showlegend\":true,\"x\":[82.283,50.833],\"xaxis\":\"x\",\"y\":[96.64,86.51],\"yaxis\":\"y\",\"type\":\"scatter\"},{\"hovertemplate\":\"state=Dadra & N. Haveli<br>funds_released_against_budgetapproved(%)=%{x}<br>funds_utilised_against_budgetapproved(%)=%{y}<br>budget_approved=%{marker.size}<extra></extra>\",\"legendgroup\":\"Dadra & N. Haveli\",\"marker\":{\"color\":\"#636efa\",\"size\":[21.41,31.323],\"sizemode\":\"area\",\"sizeref\":5.2817675,\"symbol\":\"circle\"},\"mode\":\"markers\",\"name\":\"Dadra & N. Haveli\",\"orientation\":\"v\",\"showlegend\":true,\"x\":[53.942,62.841],\"xaxis\":\"x\",\"y\":[79.16,63.03],\"yaxis\":\"y\",\"type\":\"scatter\"},{\"hovertemplate\":\"state=Daman & Diu<br>funds_released_against_budgetapproved(%)=%{x}<br>funds_utilised_against_budgetapproved(%)=%{y}<br>budget_approved=%{marker.size}<extra></extra>\",\"legendgroup\":\"Daman & Diu\",\"marker\":{\"color\":\"#EF553B\",\"size\":[6.036,8.293],\"sizemode\":\"area\",\"sizeref\":5.2817675,\"symbol\":\"circle\"},\"mode\":\"markers\",\"name\":\"Daman & Diu\",\"orientation\":\"v\",\"showlegend\":true,\"x\":[12.986,64.876],\"xaxis\":\"x\",\"y\":[61.97,27.8],\"yaxis\":\"y\",\"type\":\"scatter\"},{\"hovertemplate\":\"state=Delhi<br>funds_released_against_budgetapproved(%)=%{x}<br>funds_utilised_against_budgetapproved(%)=%{y}<br>budget_approved=%{marker.size}<extra></extra>\",\"legendgroup\":\"Delhi\",\"marker\":{\"color\":\"#00cc96\",\"size\":[192.023,187.27],\"sizemode\":\"area\",\"sizeref\":5.2817675,\"symbol\":\"circle\"},\"mode\":\"markers\",\"name\":\"Delhi\",\"orientation\":\"v\",\"showlegend\":true,\"x\":[61.381,44.354],\"xaxis\":\"x\",\"y\":[53.79,61.09],\"yaxis\":\"y\",\"type\":\"scatter\"},{\"hovertemplate\":\"state=Jammu & Kashmir<br>funds_released_against_budgetapproved(%)=%{x}<br>funds_utilised_against_budgetapproved(%)=%{y}<br>budget_approved=%{marker.size}<extra></extra>\",\"legendgroup\":\"Jammu & Kashmir\",\"marker\":{\"color\":\"#ab63fa\",\"size\":[2371.953,2062.554],\"sizemode\":\"area\",\"sizeref\":5.2817675,\"symbol\":\"circle\"},\"mode\":\"markers\",\"name\":\"Jammu & Kashmir\",\"orientation\":\"v\",\"showlegend\":true,\"x\":[34.177,59.084],\"xaxis\":\"x\",\"y\":[77.11,60.98],\"yaxis\":\"y\",\"type\":\"scatter\"},{\"hovertemplate\":\"state=Lakshadweep<br>funds_released_against_budgetapproved(%)=%{x}<br>funds_utilised_against_budgetapproved(%)=%{y}<br>budget_approved=%{marker.size}<extra></extra>\",\"legendgroup\":\"Lakshadweep\",\"marker\":{\"color\":\"#FFA15A\",\"size\":[3.118,3.665],\"sizemode\":\"area\",\"sizeref\":5.2817675,\"symbol\":\"circle\"},\"mode\":\"markers\",\"name\":\"Lakshadweep\",\"orientation\":\"v\",\"showlegend\":true,\"x\":[44.577,65.452],\"xaxis\":\"x\",\"y\":[75.46,68.49],\"yaxis\":\"y\",\"type\":\"scatter\"},{\"hovertemplate\":\"state=Puducherry<br>funds_released_against_budgetapproved(%)=%{x}<br>funds_utilised_against_budgetapproved(%)=%{y}<br>budget_approved=%{marker.size}<extra></extra>\",\"legendgroup\":\"Puducherry\",\"marker\":{\"color\":\"#19d3f3\",\"size\":[7.627,9.819],\"sizemode\":\"area\",\"sizeref\":5.2817675,\"symbol\":\"circle\"},\"mode\":\"markers\",\"name\":\"Puducherry\",\"orientation\":\"v\",\"showlegend\":true,\"x\":[97.108,31.031],\"xaxis\":\"x\",\"y\":[73.58,58.81],\"yaxis\":\"y\",\"type\":\"scatter\"}],                        {\"template\":{\"data\":{\"histogram2dcontour\":[{\"type\":\"histogram2dcontour\",\"colorbar\":{\"outlinewidth\":0,\"ticks\":\"\"},\"colorscale\":[[0.0,\"#0d0887\"],[0.1111111111111111,\"#46039f\"],[0.2222222222222222,\"#7201a8\"],[0.3333333333333333,\"#9c179e\"],[0.4444444444444444,\"#bd3786\"],[0.5555555555555556,\"#d8576b\"],[0.6666666666666666,\"#ed7953\"],[0.7777777777777778,\"#fb9f3a\"],[0.8888888888888888,\"#fdca26\"],[1.0,\"#f0f921\"]]}],\"choropleth\":[{\"type\":\"choropleth\",\"colorbar\":{\"outlinewidth\":0,\"ticks\":\"\"}}],\"histogram2d\":[{\"type\":\"histogram2d\",\"colorbar\":{\"outlinewidth\":0,\"ticks\":\"\"},\"colorscale\":[[0.0,\"#0d0887\"],[0.1111111111111111,\"#46039f\"],[0.2222222222222222,\"#7201a8\"],[0.3333333333333333,\"#9c179e\"],[0.4444444444444444,\"#bd3786\"],[0.5555555555555556,\"#d8576b\"],[0.6666666666666666,\"#ed7953\"],[0.7777777777777778,\"#fb9f3a\"],[0.8888888888888888,\"#fdca26\"],[1.0,\"#f0f921\"]]}],\"heatmap\":[{\"type\":\"heatmap\",\"colorbar\":{\"outlinewidth\":0,\"ticks\":\"\"},\"colorscale\":[[0.0,\"#0d0887\"],[0.1111111111111111,\"#46039f\"],[0.2222222222222222,\"#7201a8\"],[0.3333333333333333,\"#9c179e\"],[0.4444444444444444,\"#bd3786\"],[0.5555555555555556,\"#d8576b\"],[0.6666666666666666,\"#ed7953\"],[0.7777777777777778,\"#fb9f3a\"],[0.8888888888888888,\"#fdca26\"],[1.0,\"#f0f921\"]]}],\"heatmapgl\":[{\"type\":\"heatmapgl\",\"colorbar\":{\"outlinewidth\":0,\"ticks\":\"\"},\"colorscale\":[[0.0,\"#0d0887\"],[0.1111111111111111,\"#46039f\"],[0.2222222222222222,\"#7201a8\"],[0.3333333333333333,\"#9c179e\"],[0.4444444444444444,\"#bd3786\"],[0.5555555555555556,\"#d8576b\"],[0.6666666666666666,\"#ed7953\"],[0.7777777777777778,\"#fb9f3a\"],[0.8888888888888888,\"#fdca26\"],[1.0,\"#f0f921\"]]}],\"contourcarpet\":[{\"type\":\"contourcarpet\",\"colorbar\":{\"outlinewidth\":0,\"ticks\":\"\"}}],\"contour\":[{\"type\":\"contour\",\"colorbar\":{\"outlinewidth\":0,\"ticks\":\"\"},\"colorscale\":[[0.0,\"#0d0887\"],[0.1111111111111111,\"#46039f\"],[0.2222222222222222,\"#7201a8\"],[0.3333333333333333,\"#9c179e\"],[0.4444444444444444,\"#bd3786\"],[0.5555555555555556,\"#d8576b\"],[0.6666666666666666,\"#ed7953\"],[0.7777777777777778,\"#fb9f3a\"],[0.8888888888888888,\"#fdca26\"],[1.0,\"#f0f921\"]]}],\"surface\":[{\"type\":\"surface\",\"colorbar\":{\"outlinewidth\":0,\"ticks\":\"\"},\"colorscale\":[[0.0,\"#0d0887\"],[0.1111111111111111,\"#46039f\"],[0.2222222222222222,\"#7201a8\"],[0.3333333333333333,\"#9c179e\"],[0.4444444444444444,\"#bd3786\"],[0.5555555555555556,\"#d8576b\"],[0.6666666666666666,\"#ed7953\"],[0.7777777777777778,\"#fb9f3a\"],[0.8888888888888888,\"#fdca26\"],[1.0,\"#f0f921\"]]}],\"mesh3d\":[{\"type\":\"mesh3d\",\"colorbar\":{\"outlinewidth\":0,\"ticks\":\"\"}}],\"scatter\":[{\"fillpattern\":{\"fillmode\":\"overlay\",\"size\":10,\"solidity\":0.2},\"type\":\"scatter\"}],\"parcoords\":[{\"type\":\"parcoords\",\"line\":{\"colorbar\":{\"outlinewidth\":0,\"ticks\":\"\"}}}],\"scatterpolargl\":[{\"type\":\"scatterpolargl\",\"marker\":{\"colorbar\":{\"outlinewidth\":0,\"ticks\":\"\"}}}],\"bar\":[{\"error_x\":{\"color\":\"#2a3f5f\"},\"error_y\":{\"color\":\"#2a3f5f\"},\"marker\":{\"line\":{\"color\":\"#E5ECF6\",\"width\":0.5},\"pattern\":{\"fillmode\":\"overlay\",\"size\":10,\"solidity\":0.2}},\"type\":\"bar\"}],\"scattergeo\":[{\"type\":\"scattergeo\",\"marker\":{\"colorbar\":{\"outlinewidth\":0,\"ticks\":\"\"}}}],\"scatterpolar\":[{\"type\":\"scatterpolar\",\"marker\":{\"colorbar\":{\"outlinewidth\":0,\"ticks\":\"\"}}}],\"histogram\":[{\"marker\":{\"pattern\":{\"fillmode\":\"overlay\",\"size\":10,\"solidity\":0.2}},\"type\":\"histogram\"}],\"scattergl\":[{\"type\":\"scattergl\",\"marker\":{\"colorbar\":{\"outlinewidth\":0,\"ticks\":\"\"}}}],\"scatter3d\":[{\"type\":\"scatter3d\",\"line\":{\"colorbar\":{\"outlinewidth\":0,\"ticks\":\"\"}},\"marker\":{\"colorbar\":{\"outlinewidth\":0,\"ticks\":\"\"}}}],\"scattermapbox\":[{\"type\":\"scattermapbox\",\"marker\":{\"colorbar\":{\"outlinewidth\":0,\"ticks\":\"\"}}}],\"scatterternary\":[{\"type\":\"scatterternary\",\"marker\":{\"colorbar\":{\"outlinewidth\":0,\"ticks\":\"\"}}}],\"scattercarpet\":[{\"type\":\"scattercarpet\",\"marker\":{\"colorbar\":{\"outlinewidth\":0,\"ticks\":\"\"}}}],\"carpet\":[{\"aaxis\":{\"endlinecolor\":\"#2a3f5f\",\"gridcolor\":\"white\",\"linecolor\":\"white\",\"minorgridcolor\":\"white\",\"startlinecolor\":\"#2a3f5f\"},\"baxis\":{\"endlinecolor\":\"#2a3f5f\",\"gridcolor\":\"white\",\"linecolor\":\"white\",\"minorgridcolor\":\"white\",\"startlinecolor\":\"#2a3f5f\"},\"type\":\"carpet\"}],\"table\":[{\"cells\":{\"fill\":{\"color\":\"#EBF0F8\"},\"line\":{\"color\":\"white\"}},\"header\":{\"fill\":{\"color\":\"#C8D4E3\"},\"line\":{\"color\":\"white\"}},\"type\":\"table\"}],\"barpolar\":[{\"marker\":{\"line\":{\"color\":\"#E5ECF6\",\"width\":0.5},\"pattern\":{\"fillmode\":\"overlay\",\"size\":10,\"solidity\":0.2}},\"type\":\"barpolar\"}],\"pie\":[{\"automargin\":true,\"type\":\"pie\"}]},\"layout\":{\"autotypenumbers\":\"strict\",\"colorway\":[\"#636efa\",\"#EF553B\",\"#00cc96\",\"#ab63fa\",\"#FFA15A\",\"#19d3f3\",\"#FF6692\",\"#B6E880\",\"#FF97FF\",\"#FECB52\"],\"font\":{\"color\":\"#2a3f5f\"},\"hovermode\":\"closest\",\"hoverlabel\":{\"align\":\"left\"},\"paper_bgcolor\":\"white\",\"plot_bgcolor\":\"#E5ECF6\",\"polar\":{\"bgcolor\":\"#E5ECF6\",\"angularaxis\":{\"gridcolor\":\"white\",\"linecolor\":\"white\",\"ticks\":\"\"},\"radialaxis\":{\"gridcolor\":\"white\",\"linecolor\":\"white\",\"ticks\":\"\"}},\"ternary\":{\"bgcolor\":\"#E5ECF6\",\"aaxis\":{\"gridcolor\":\"white\",\"linecolor\":\"white\",\"ticks\":\"\"},\"baxis\":{\"gridcolor\":\"white\",\"linecolor\":\"white\",\"ticks\":\"\"},\"caxis\":{\"gridcolor\":\"white\",\"linecolor\":\"white\",\"ticks\":\"\"}},\"coloraxis\":{\"colorbar\":{\"outlinewidth\":0,\"ticks\":\"\"}},\"colorscale\":{\"sequential\":[[0.0,\"#0d0887\"],[0.1111111111111111,\"#46039f\"],[0.2222222222222222,\"#7201a8\"],[0.3333333333333333,\"#9c179e\"],[0.4444444444444444,\"#bd3786\"],[0.5555555555555556,\"#d8576b\"],[0.6666666666666666,\"#ed7953\"],[0.7777777777777778,\"#fb9f3a\"],[0.8888888888888888,\"#fdca26\"],[1.0,\"#f0f921\"]],\"sequentialminus\":[[0.0,\"#0d0887\"],[0.1111111111111111,\"#46039f\"],[0.2222222222222222,\"#7201a8\"],[0.3333333333333333,\"#9c179e\"],[0.4444444444444444,\"#bd3786\"],[0.5555555555555556,\"#d8576b\"],[0.6666666666666666,\"#ed7953\"],[0.7777777777777778,\"#fb9f3a\"],[0.8888888888888888,\"#fdca26\"],[1.0,\"#f0f921\"]],\"diverging\":[[0,\"#8e0152\"],[0.1,\"#c51b7d\"],[0.2,\"#de77ae\"],[0.3,\"#f1b6da\"],[0.4,\"#fde0ef\"],[0.5,\"#f7f7f7\"],[0.6,\"#e6f5d0\"],[0.7,\"#b8e186\"],[0.8,\"#7fbc41\"],[0.9,\"#4d9221\"],[1,\"#276419\"]]},\"xaxis\":{\"gridcolor\":\"white\",\"linecolor\":\"white\",\"ticks\":\"\",\"title\":{\"standoff\":15},\"zerolinecolor\":\"white\",\"automargin\":true,\"zerolinewidth\":2},\"yaxis\":{\"gridcolor\":\"white\",\"linecolor\":\"white\",\"ticks\":\"\",\"title\":{\"standoff\":15},\"zerolinecolor\":\"white\",\"automargin\":true,\"zerolinewidth\":2},\"scene\":{\"xaxis\":{\"backgroundcolor\":\"#E5ECF6\",\"gridcolor\":\"white\",\"linecolor\":\"white\",\"showbackground\":true,\"ticks\":\"\",\"zerolinecolor\":\"white\",\"gridwidth\":2},\"yaxis\":{\"backgroundcolor\":\"#E5ECF6\",\"gridcolor\":\"white\",\"linecolor\":\"white\",\"showbackground\":true,\"ticks\":\"\",\"zerolinecolor\":\"white\",\"gridwidth\":2},\"zaxis\":{\"backgroundcolor\":\"#E5ECF6\",\"gridcolor\":\"white\",\"linecolor\":\"white\",\"showbackground\":true,\"ticks\":\"\",\"zerolinecolor\":\"white\",\"gridwidth\":2}},\"shapedefaults\":{\"line\":{\"color\":\"#2a3f5f\"}},\"annotationdefaults\":{\"arrowcolor\":\"#2a3f5f\",\"arrowhead\":0,\"arrowwidth\":1},\"geo\":{\"bgcolor\":\"white\",\"landcolor\":\"#E5ECF6\",\"subunitcolor\":\"white\",\"showland\":true,\"showlakes\":true,\"lakecolor\":\"white\"},\"title\":{\"x\":0.05},\"mapbox\":{\"style\":\"light\"}}},\"xaxis\":{\"anchor\":\"y\",\"domain\":[0.0,1.0],\"title\":{\"text\":\"funds_released_against_budgetapproved(%)\"},\"type\":\"log\"},\"yaxis\":{\"anchor\":\"x\",\"domain\":[0.0,1.0],\"title\":{\"text\":\"funds_utilised_against_budgetapproved(%)\"}},\"legend\":{\"title\":{\"text\":\"state\"},\"tracegroupgap\":0,\"itemsizing\":\"constant\"},\"margin\":{\"t\":60}},                        {\"responsive\": true}                    ).then(function(){\n",
              "                            \n",
              "var gd = document.getElementById('898216f9-3e89-41d7-98cc-ebb177eeeb1d');\n",
              "var x = new MutationObserver(function (mutations, observer) {{\n",
              "        var display = window.getComputedStyle(gd).display;\n",
              "        if (!display || display === 'none') {{\n",
              "            console.log([gd, 'removed!']);\n",
              "            Plotly.purge(gd);\n",
              "            observer.disconnect();\n",
              "        }}\n",
              "}});\n",
              "\n",
              "// Listen for the removal of the full notebook cells\n",
              "var notebookContainer = gd.closest('#notebook-container');\n",
              "if (notebookContainer) {{\n",
              "    x.observe(notebookContainer, {childList: true});\n",
              "}}\n",
              "\n",
              "// Listen for the clearing of the current output cell\n",
              "var outputEl = gd.closest('.output');\n",
              "if (outputEl) {{\n",
              "    x.observe(outputEl, {childList: true});\n",
              "}}\n",
              "\n",
              "                        })                };                            </script>        </div>\n",
              "</body>\n",
              "</html>"
            ]
          },
          "metadata": {},
          "output_type": "display_data"
        }
      ],
      "source": [
        "# Comparison of funds released and funds utilized by given state/UT in the year 2015-16\n",
        "import plotly.express as px\n",
        "fig = px.scatter(ssa_2015_16, x=\"funds_released_against_budgetapproved(%)\", y=\"funds_utilised_against_budgetapproved(%)\",\n",
        "            size=\"budget_approved\", color=\"state\",\n",
        "                    log_x=True, size_max=60)\n",
        "\n",
        "fig.show()"
      ]
    },
    {
      "cell_type": "markdown",
      "metadata": {
        "id": "hZ2zq8HKhBnb"
      },
      "source": [
        "**5.2 HEATMAP**"
      ]
    },
    {
      "cell_type": "code",
      "execution_count": null,
      "metadata": {
        "colab": {
          "base_uri": "https://localhost:8080/",
          "height": 843
        },
        "id": "KKLcA5UIcYxK",
        "outputId": "ddefeead-5714-4982-9854-55ac6bf51e13"
      },
      "outputs": [
        {
          "name": "stderr",
          "output_type": "stream",
          "text": [
            "<ipython-input-34-bef154a4d2a7>:2: FutureWarning:\n",
            "\n",
            "The default value of numeric_only in DataFrame.corr is deprecated. In a future version, it will default to False. Select only valid columns or specify the value of numeric_only to silence this warning.\n",
            "\n"
          ]
        },
        {
          "data": {
            "text/plain": [
              "<Axes: >"
            ]
          },
          "execution_count": 34,
          "metadata": {},
          "output_type": "execute_result"
        },
        {
          "data": {
            "image/png": "[encoded data removed]",
            "text/plain": [
              "<Figure size 640x480 with 2 Axes>"
            ]
          },
          "metadata": {},
          "output_type": "display_data"
        }
      ],
      "source": [
        "import seaborn as sns\n",
        "sns.heatmap(df.corr(), annot = True)"
      ]
    },
    {
      "cell_type": "markdown",
      "metadata": {
        "id": "aM-UH3a3hFMB"
      },
      "source": [
        "**5.3 STACKED BAR CHART**"
      ]
    },
    {
      "cell_type": "code",
      "execution_count": null,
      "metadata": {
        "id": "yVjinvjGcYuR"
      },
      "outputs": [],
      "source": [
        "df_copy1 = df[['state', 'budget_approved','released_funds_by_goi','released_funds_by_states','total_funds_released']].groupby('state', as_index = False).sum().sort_values(by= 'total_funds_released', ascending = True)"
      ]
    },
    {
      "cell_type": "code",
      "execution_count": null,
      "metadata": {
        "colab": {
          "base_uri": "https://localhost:8080/",
          "height": 782
        },
        "id": "5Q0mzEO2gNJ4",
        "outputId": "b5e1403f-28dc-4e6d-998b-b02a9adfaa0b"
      },
      "outputs": [
        {
          "data": {
            "image/png": "[encoded data removed]",
            "text/plain": [
              "<Figure size 1600x900 with 1 Axes>"
            ]
          },
          "metadata": {},
          "output_type": "display_data"
        }
      ],
      "source": [
        "# plt.figure(figsize=[15,10])\n",
        "fig, ax = plt.subplots(figsize=(16,9))\n",
        "ax.barh(df_copy1.state, df_copy1.released_funds_by_goi, color = \"#44a5c2\",\n",
        "       edgecolor = \"black\", linewidth = 1,label='released_funds_by_goi')\n",
        "ax.barh(df_copy1.state, df_copy1.released_funds_by_states, left = df_copy1.released_funds_by_goi, color = \"#ffae49\",\n",
        "       edgecolor = \"black\", linewidth = 1,label='released_funds_by_states')\n",
        "plt.title('State wise total funds released (Government+State)')\n",
        "plt.xlabel('Funds in crores')\n",
        "plt.ylabel('States')\n",
        "plt.legend(loc='lower right')\n",
        "plt.show()"
      ]
    },
    {
      "cell_type": "markdown",
      "metadata": {
        "id": "BQuuCP33eW1M"
      },
      "source": [
        "#PART A"
      ]
    },
    {
      "cell_type": "markdown",
      "metadata": {
        "id": "X_8xcejHcrx1"
      },
      "source": [
        "**6.1 FINDING CORRELATION**"
      ]
    },
    {
      "cell_type": "code",
      "execution_count": null,
      "metadata": {
        "colab": {
          "base_uri": "https://localhost:8080/",
          "height": 425
        },
        "id": "lpTK0MhmCy4V",
        "outputId": "aea11614-6900-4d0e-ad31-51ab9b496f2a"
      },
      "outputs": [
        {
          "name": "stderr",
          "output_type": "stream",
          "text": [
            "<ipython-input-40-0784731006f6>:1: FutureWarning:\n",
            "\n",
            "The default value of numeric_only in DataFrame.corr is deprecated. In a future version, it will default to False. Select only valid columns or specify the value of numeric_only to silence this warning.\n",
            "\n"
          ]
        },
        {
          "data": {
            "text/html": [
              "<style type=\"text/css\">\n",
              "#T_481f3_row0_col0, #T_481f3_row1_col1, #T_481f3_row2_col2, #T_481f3_row3_col3, #T_481f3_row4_col4, #T_481f3_row5_col5, #T_481f3_row6_col6, #T_481f3_row7_col7, #T_481f3_row8_col8 {\n",
              "  background-color: #003c30;\n",
              "  color: #f1f1f1;\n",
              "}\n",
              "#T_481f3_row0_col1 {\n",
              "  background-color: #663a07;\n",
              "  color: #f1f1f1;\n",
              "}\n",
              "#T_481f3_row0_col2, #T_481f3_row0_col3, #T_481f3_row0_col4, #T_481f3_row0_col5, #T_481f3_row2_col0, #T_481f3_row6_col7, #T_481f3_row6_col8, #T_481f3_row8_col1, #T_481f3_row8_col6 {\n",
              "  background-color: #543005;\n",
              "  color: #f1f1f1;\n",
              "}\n",
              "#T_481f3_row0_col6, #T_481f3_row2_col7 {\n",
              "  background-color: #8f540c;\n",
              "  color: #f1f1f1;\n",
              "}\n",
              "#T_481f3_row0_col7, #T_481f3_row8_col3 {\n",
              "  background-color: #9f6317;\n",
              "  color: #f1f1f1;\n",
              "}\n",
              "#T_481f3_row0_col8, #T_481f3_row4_col8 {\n",
              "  background-color: #c58e3d;\n",
              "  color: #f1f1f1;\n",
              "}\n",
              "#T_481f3_row1_col0 {\n",
              "  background-color: #683c07;\n",
              "  color: #f1f1f1;\n",
              "}\n",
              "#T_481f3_row1_col2, #T_481f3_row2_col1 {\n",
              "  background-color: #004c42;\n",
              "  color: #f1f1f1;\n",
              "}\n",
              "#T_481f3_row1_col3 {\n",
              "  background-color: #0a6f67;\n",
              "  color: #f1f1f1;\n",
              "}\n",
              "#T_481f3_row1_col4, #T_481f3_row4_col1 {\n",
              "  background-color: #01584f;\n",
              "  color: #f1f1f1;\n",
              "}\n",
              "#T_481f3_row1_col5, #T_481f3_row5_col1 {\n",
              "  background-color: #015a50;\n",
              "  color: #f1f1f1;\n",
              "}\n",
              "#T_481f3_row1_col6 {\n",
              "  background-color: #4da89f;\n",
              "  color: #f1f1f1;\n",
              "}\n",
              "#T_481f3_row1_col7 {\n",
              "  background-color: #583305;\n",
              "  color: #f1f1f1;\n",
              "}\n",
              "#T_481f3_row1_col8 {\n",
              "  background-color: #874e0a;\n",
              "  color: #f1f1f1;\n",
              "}\n",
              "#T_481f3_row2_col3 {\n",
              "  background-color: #016058;\n",
              "  color: #f1f1f1;\n",
              "}\n",
              "#T_481f3_row2_col4, #T_481f3_row4_col2, #T_481f3_row5_col2 {\n",
              "  background-color: #00493e;\n",
              "  color: #f1f1f1;\n",
              "}\n",
              "#T_481f3_row2_col5 {\n",
              "  background-color: #004b40;\n",
              "  color: #f1f1f1;\n",
              "}\n",
              "#T_481f3_row2_col6 {\n",
              "  background-color: #52aca3;\n",
              "  color: #f1f1f1;\n",
              "}\n",
              "#T_481f3_row2_col8, #T_481f3_row3_col7, #T_481f3_row7_col2 {\n",
              "  background-color: #b17423;\n",
              "  color: #f1f1f1;\n",
              "}\n",
              "#T_481f3_row3_col0 {\n",
              "  background-color: #6a3d07;\n",
              "  color: #f1f1f1;\n",
              "}\n",
              "#T_481f3_row3_col1 {\n",
              "  background-color: #086d65;\n",
              "  color: #f1f1f1;\n",
              "}\n",
              "#T_481f3_row3_col2 {\n",
              "  background-color: #015f56;\n",
              "  color: #f1f1f1;\n",
              "}\n",
              "#T_481f3_row3_col4, #T_481f3_row4_col3 {\n",
              "  background-color: #004135;\n",
              "  color: #f1f1f1;\n",
              "}\n",
              "#T_481f3_row3_col5, #T_481f3_row5_col3 {\n",
              "  background-color: #00463b;\n",
              "  color: #f1f1f1;\n",
              "}\n",
              "#T_481f3_row3_col6, #T_481f3_row6_col1 {\n",
              "  background-color: #5eb5aa;\n",
              "  color: #f1f1f1;\n",
              "}\n",
              "#T_481f3_row3_col8 {\n",
              "  background-color: #cea053;\n",
              "  color: #f1f1f1;\n",
              "}\n",
              "#T_481f3_row4_col0, #T_481f3_row6_col0 {\n",
              "  background-color: #5f3606;\n",
              "  color: #f1f1f1;\n",
              "}\n",
              "#T_481f3_row4_col5, #T_481f3_row5_col4 {\n",
              "  background-color: #003f34;\n",
              "  color: #f1f1f1;\n",
              "}\n",
              "#T_481f3_row4_col6 {\n",
              "  background-color: #4faaa1;\n",
              "  color: #f1f1f1;\n",
              "}\n",
              "#T_481f3_row4_col7 {\n",
              "  background-color: #a5691b;\n",
              "  color: #f1f1f1;\n",
              "}\n",
              "#T_481f3_row5_col0 {\n",
              "  background-color: #613806;\n",
              "  color: #f1f1f1;\n",
              "}\n",
              "#T_481f3_row5_col6, #T_481f3_row6_col4 {\n",
              "  background-color: #67bbb0;\n",
              "  color: #000000;\n",
              "}\n",
              "#T_481f3_row5_col7 {\n",
              "  background-color: #9d6116;\n",
              "  color: #f1f1f1;\n",
              "}\n",
              "#T_481f3_row5_col8 {\n",
              "  background-color: #d1a559;\n",
              "  color: #000000;\n",
              "}\n",
              "#T_481f3_row6_col2 {\n",
              "  background-color: #64b9ae;\n",
              "  color: #f1f1f1;\n",
              "}\n",
              "#T_481f3_row6_col3 {\n",
              "  background-color: #7ccabe;\n",
              "  color: #000000;\n",
              "}\n",
              "#T_481f3_row6_col5, #T_481f3_row8_col7 {\n",
              "  background-color: #7fccc0;\n",
              "  color: #000000;\n",
              "}\n",
              "#T_481f3_row7_col0, #T_481f3_row7_col3 {\n",
              "  background-color: #c08430;\n",
              "  color: #f1f1f1;\n",
              "}\n",
              "#T_481f3_row7_col1 {\n",
              "  background-color: #804a09;\n",
              "  color: #f1f1f1;\n",
              "}\n",
              "#T_481f3_row7_col4 {\n",
              "  background-color: #bd7f2c;\n",
              "  color: #f1f1f1;\n",
              "}\n",
              "#T_481f3_row7_col5 {\n",
              "  background-color: #b57826;\n",
              "  color: #f1f1f1;\n",
              "}\n",
              "#T_481f3_row7_col6 {\n",
              "  background-color: #a96c1e;\n",
              "  color: #f1f1f1;\n",
              "}\n",
              "#T_481f3_row7_col8 {\n",
              "  background-color: #5bb3a8;\n",
              "  color: #f1f1f1;\n",
              "}\n",
              "#T_481f3_row8_col0 {\n",
              "  background-color: #a3671a;\n",
              "  color: #f1f1f1;\n",
              "}\n",
              "#T_481f3_row8_col2 {\n",
              "  background-color: #894f0a;\n",
              "  color: #f1f1f1;\n",
              "}\n",
              "#T_481f3_row8_col4 {\n",
              "  background-color: #975b12;\n",
              "  color: #f1f1f1;\n",
              "}\n",
              "#T_481f3_row8_col5 {\n",
              "  background-color: #ab6e1f;\n",
              "  color: #f1f1f1;\n",
              "}\n",
              "</style>\n",
              "<table id=\"T_481f3\" class=\"dataframe\">\n",
              "  <thead>\n",
              "    <tr>\n",
              "      <th class=\"blank level0\" >&nbsp;</th>\n",
              "      <th id=\"T_481f3_level0_col0\" class=\"col_heading level0 col0\" >code</th>\n",
              "      <th id=\"T_481f3_level0_col1\" class=\"col_heading level0 col1\" >budget_approved</th>\n",
              "      <th id=\"T_481f3_level0_col2\" class=\"col_heading level0 col2\" >released_funds_by_goi</th>\n",
              "      <th id=\"T_481f3_level0_col3\" class=\"col_heading level0 col3\" >released_funds_by_states</th>\n",
              "      <th id=\"T_481f3_level0_col4\" class=\"col_heading level0 col4\" >total_funds_released</th>\n",
              "      <th id=\"T_481f3_level0_col5\" class=\"col_heading level0 col5\" >expense_incurred_by_states</th>\n",
              "      <th id=\"T_481f3_level0_col6\" class=\"col_heading level0 col6\" >unspent_balance</th>\n",
              "      <th id=\"T_481f3_level0_col7\" class=\"col_heading level0 col7\" >funds_released_against_budgetapproved(%)</th>\n",
              "      <th id=\"T_481f3_level0_col8\" class=\"col_heading level0 col8\" >funds_utilised_against_budgetapproved(%)</th>\n",
              "    </tr>\n",
              "  </thead>\n",
              "  <tbody>\n",
              "    <tr>\n",
              "      <th id=\"T_481f3_level0_row0\" class=\"row_heading level0 row0\" >code</th>\n",
              "      <td id=\"T_481f3_row0_col0\" class=\"data row0 col0\" >1.000000</td>\n",
              "      <td id=\"T_481f3_row0_col1\" class=\"data row0 col1\" >-0.073049</td>\n",
              "      <td id=\"T_481f3_row0_col2\" class=\"data row0 col2\" >-0.115582</td>\n",
              "      <td id=\"T_481f3_row0_col3\" class=\"data row0 col3\" >-0.071515</td>\n",
              "      <td id=\"T_481f3_row0_col4\" class=\"data row0 col4\" >-0.090797</td>\n",
              "      <td id=\"T_481f3_row0_col5\" class=\"data row0 col5\" >-0.088624</td>\n",
              "      <td id=\"T_481f3_row0_col6\" class=\"data row0 col6\" >-0.091544</td>\n",
              "      <td id=\"T_481f3_row0_col7\" class=\"data row0 col7\" >0.112990</td>\n",
              "      <td id=\"T_481f3_row0_col8\" class=\"data row0 col8\" >0.046796</td>\n",
              "    </tr>\n",
              "    <tr>\n",
              "      <th id=\"T_481f3_level0_row1\" class=\"row_heading level0 row1\" >budget_approved</th>\n",
              "      <td id=\"T_481f3_row1_col0\" class=\"data row1 col0\" >-0.073049</td>\n",
              "      <td id=\"T_481f3_row1_col1\" class=\"data row1 col1\" >1.000000</td>\n",
              "      <td id=\"T_481f3_row1_col2\" class=\"data row1 col2\" >0.955101</td>\n",
              "      <td id=\"T_481f3_row1_col3\" class=\"data row1 col3\" >0.873172</td>\n",
              "      <td id=\"T_481f3_row1_col4\" class=\"data row1 col4\" >0.925944</td>\n",
              "      <td id=\"T_481f3_row1_col5\" class=\"data row1 col5\" >0.921749</td>\n",
              "      <td id=\"T_481f3_row1_col6\" class=\"data row1 col6\" >0.715281</td>\n",
              "      <td id=\"T_481f3_row1_col7\" class=\"data row1 col7\" >-0.019057</td>\n",
              "      <td id=\"T_481f3_row1_col8\" class=\"data row1 col8\" >-0.109883</td>\n",
              "    </tr>\n",
              "    <tr>\n",
              "      <th id=\"T_481f3_level0_row2\" class=\"row_heading level0 row2\" >released_funds_by_goi</th>\n",
              "      <td id=\"T_481f3_row2_col0\" class=\"data row2 col0\" >-0.115582</td>\n",
              "      <td id=\"T_481f3_row2_col1\" class=\"data row2 col1\" >0.955101</td>\n",
              "      <td id=\"T_481f3_row2_col2\" class=\"data row2 col2\" >1.000000</td>\n",
              "      <td id=\"T_481f3_row2_col3\" class=\"data row2 col3\" >0.907223</td>\n",
              "      <td id=\"T_481f3_row2_col4\" class=\"data row2 col4\" >0.965118</td>\n",
              "      <td id=\"T_481f3_row2_col5\" class=\"data row2 col5\" >0.960960</td>\n",
              "      <td id=\"T_481f3_row2_col6\" class=\"data row2 col6\" >0.705450</td>\n",
              "      <td id=\"T_481f3_row2_col7\" class=\"data row2 col7\" >0.077869</td>\n",
              "      <td id=\"T_481f3_row2_col8\" class=\"data row2 col8\" >-0.009592</td>\n",
              "    </tr>\n",
              "    <tr>\n",
              "      <th id=\"T_481f3_level0_row3\" class=\"row_heading level0 row3\" >released_funds_by_states</th>\n",
              "      <td id=\"T_481f3_row3_col0\" class=\"data row3 col0\" >-0.071515</td>\n",
              "      <td id=\"T_481f3_row3_col1\" class=\"data row3 col1\" >0.873172</td>\n",
              "      <td id=\"T_481f3_row3_col2\" class=\"data row3 col2\" >0.907223</td>\n",
              "      <td id=\"T_481f3_row3_col3\" class=\"data row3 col3\" >1.000000</td>\n",
              "      <td id=\"T_481f3_row3_col4\" class=\"data row3 col4\" >0.985710</td>\n",
              "      <td id=\"T_481f3_row3_col5\" class=\"data row3 col5\" >0.974316</td>\n",
              "      <td id=\"T_481f3_row3_col6\" class=\"data row3 col6\" >0.685063</td>\n",
              "      <td id=\"T_481f3_row3_col7\" class=\"data row3 col7\" >0.147678</td>\n",
              "      <td id=\"T_481f3_row3_col8\" class=\"data row3 col8\" >0.077896</td>\n",
              "    </tr>\n",
              "    <tr>\n",
              "      <th id=\"T_481f3_level0_row4\" class=\"row_heading level0 row4\" >total_funds_released</th>\n",
              "      <td id=\"T_481f3_row4_col0\" class=\"data row4 col0\" >-0.090797</td>\n",
              "      <td id=\"T_481f3_row4_col1\" class=\"data row4 col1\" >0.925944</td>\n",
              "      <td id=\"T_481f3_row4_col2\" class=\"data row4 col2\" >0.965118</td>\n",
              "      <td id=\"T_481f3_row4_col3\" class=\"data row4 col3\" >0.985710</td>\n",
              "      <td id=\"T_481f3_row4_col4\" class=\"data row4 col4\" >1.000000</td>\n",
              "      <td id=\"T_481f3_row4_col5\" class=\"data row4 col5\" >0.991243</td>\n",
              "      <td id=\"T_481f3_row4_col6\" class=\"data row4 col6\" >0.708890</td>\n",
              "      <td id=\"T_481f3_row4_col7\" class=\"data row4 col7\" >0.123099</td>\n",
              "      <td id=\"T_481f3_row4_col8\" class=\"data row4 col8\" >0.044642</td>\n",
              "    </tr>\n",
              "    <tr>\n",
              "      <th id=\"T_481f3_level0_row5\" class=\"row_heading level0 row5\" >expense_incurred_by_states</th>\n",
              "      <td id=\"T_481f3_row5_col0\" class=\"data row5 col0\" >-0.088624</td>\n",
              "      <td id=\"T_481f3_row5_col1\" class=\"data row5 col1\" >0.921749</td>\n",
              "      <td id=\"T_481f3_row5_col2\" class=\"data row5 col2\" >0.960960</td>\n",
              "      <td id=\"T_481f3_row5_col3\" class=\"data row5 col3\" >0.974316</td>\n",
              "      <td id=\"T_481f3_row5_col4\" class=\"data row5 col4\" >0.991243</td>\n",
              "      <td id=\"T_481f3_row5_col5\" class=\"data row5 col5\" >1.000000</td>\n",
              "      <td id=\"T_481f3_row5_col6\" class=\"data row5 col6\" >0.673004</td>\n",
              "      <td id=\"T_481f3_row5_col7\" class=\"data row5 col7\" >0.108961</td>\n",
              "      <td id=\"T_481f3_row5_col8\" class=\"data row5 col8\" >0.087424</td>\n",
              "    </tr>\n",
              "    <tr>\n",
              "      <th id=\"T_481f3_level0_row6\" class=\"row_heading level0 row6\" >unspent_balance</th>\n",
              "      <td id=\"T_481f3_row6_col0\" class=\"data row6 col0\" >-0.091544</td>\n",
              "      <td id=\"T_481f3_row6_col1\" class=\"data row6 col1\" >0.715281</td>\n",
              "      <td id=\"T_481f3_row6_col2\" class=\"data row6 col2\" >0.705450</td>\n",
              "      <td id=\"T_481f3_row6_col3\" class=\"data row6 col3\" >0.685063</td>\n",
              "      <td id=\"T_481f3_row6_col4\" class=\"data row6 col4\" >0.708890</td>\n",
              "      <td id=\"T_481f3_row6_col5\" class=\"data row6 col5\" >0.673004</td>\n",
              "      <td id=\"T_481f3_row6_col6\" class=\"data row6 col6\" >1.000000</td>\n",
              "      <td id=\"T_481f3_row6_col7\" class=\"data row6 col7\" >-0.031103</td>\n",
              "      <td id=\"T_481f3_row6_col8\" class=\"data row6 col8\" >-0.223203</td>\n",
              "    </tr>\n",
              "    <tr>\n",
              "      <th id=\"T_481f3_level0_row7\" class=\"row_heading level0 row7\" >funds_released_against_budgetapproved(%)</th>\n",
              "      <td id=\"T_481f3_row7_col0\" class=\"data row7 col0\" >0.112990</td>\n",
              "      <td id=\"T_481f3_row7_col1\" class=\"data row7 col1\" >-0.019057</td>\n",
              "      <td id=\"T_481f3_row7_col2\" class=\"data row7 col2\" >0.077869</td>\n",
              "      <td id=\"T_481f3_row7_col3\" class=\"data row7 col3\" >0.147678</td>\n",
              "      <td id=\"T_481f3_row7_col4\" class=\"data row7 col4\" >0.123099</td>\n",
              "      <td id=\"T_481f3_row7_col5\" class=\"data row7 col5\" >0.108961</td>\n",
              "      <td id=\"T_481f3_row7_col6\" class=\"data row7 col6\" >-0.031103</td>\n",
              "      <td id=\"T_481f3_row7_col7\" class=\"data row7 col7\" >1.000000</td>\n",
              "      <td id=\"T_481f3_row7_col8\" class=\"data row7 col8\" >0.690017</td>\n",
              "    </tr>\n",
              "    <tr>\n",
              "      <th id=\"T_481f3_level0_row8\" class=\"row_heading level0 row8\" >funds_utilised_against_budgetapproved(%)</th>\n",
              "      <td id=\"T_481f3_row8_col0\" class=\"data row8 col0\" >0.046796</td>\n",
              "      <td id=\"T_481f3_row8_col1\" class=\"data row8 col1\" >-0.109883</td>\n",
              "      <td id=\"T_481f3_row8_col2\" class=\"data row8 col2\" >-0.009592</td>\n",
              "      <td id=\"T_481f3_row8_col3\" class=\"data row8 col3\" >0.077896</td>\n",
              "      <td id=\"T_481f3_row8_col4\" class=\"data row8 col4\" >0.044642</td>\n",
              "      <td id=\"T_481f3_row8_col5\" class=\"data row8 col5\" >0.087424</td>\n",
              "      <td id=\"T_481f3_row8_col6\" class=\"data row8 col6\" >-0.223203</td>\n",
              "      <td id=\"T_481f3_row8_col7\" class=\"data row8 col7\" >0.690017</td>\n",
              "      <td id=\"T_481f3_row8_col8\" class=\"data row8 col8\" >1.000000</td>\n",
              "    </tr>\n",
              "  </tbody>\n",
              "</table>\n"
            ],
            "text/plain": [
              "<pandas.io.formats.style.Styler at 0x7f16a1b37fd0>"
            ]
          },
          "execution_count": 40,
          "metadata": {},
          "output_type": "execute_result"
        }
      ],
      "source": [
        "correlation = ssa.corr()\n",
        "corrr= correlation.style.background_gradient(cmap = 'BrBG')\n",
        "corrr"
      ]
    },
    {
      "cell_type": "markdown",
      "metadata": {
        "id": "FfIiMKKpcwwz"
      },
      "source": [
        "From the above correlation matrix, we will decide which features we will use for training set"
      ]
    },
    {
      "cell_type": "code",
      "execution_count": null,
      "metadata": {
        "colab": {
          "base_uri": "https://localhost:8080/",
          "height": 357
        },
        "id": "Ub3XibPM941-",
        "outputId": "99231a0d-2a81-466b-bcae-f2d75f6cb74d"
      },
      "outputs": [
        {
          "data": {
            "text/html": [
              "\n",
              "  <div id=\"df-9b9f382d-b83c-4b4a-858a-3e9b5ab83a11\">\n",
              "    <div class=\"colab-df-container\">\n",
              "      <div>\n",
              "<style scoped>\n",
              "    .dataframe tbody tr th:only-of-type {\n",
              "        vertical-align: middle;\n",
              "    }\n",
              "\n",
              "    .dataframe tbody tr th {\n",
              "        vertical-align: top;\n",
              "    }\n",
              "\n",
              "    .dataframe thead th {\n",
              "        text-align: right;\n",
              "    }\n",
              "</style>\n",
              "<table border=\"1\" class=\"dataframe\">\n",
              "  <thead>\n",
              "    <tr style=\"text-align: right;\">\n",
              "      <th></th>\n",
              "      <th>state</th>\n",
              "      <th>code</th>\n",
              "      <th>year</th>\n",
              "      <th>budget_approved</th>\n",
              "      <th>released_funds_by_goi</th>\n",
              "      <th>released_funds_by_states</th>\n",
              "      <th>total_funds_released</th>\n",
              "      <th>expense_incurred_by_states</th>\n",
              "      <th>unspent_balance</th>\n",
              "      <th>funds_released_against_budgetapproved(%)</th>\n",
              "      <th>funds_utilised_against_budgetapproved(%)</th>\n",
              "    </tr>\n",
              "  </thead>\n",
              "  <tbody>\n",
              "    <tr>\n",
              "      <th>0</th>\n",
              "      <td>Andhra Pradesh</td>\n",
              "      <td>1.0</td>\n",
              "      <td>2015-2016</td>\n",
              "      <td>2116.062</td>\n",
              "      <td>723.748</td>\n",
              "      <td>447.030</td>\n",
              "      <td>1170.778</td>\n",
              "      <td>1610.515</td>\n",
              "      <td>297.883</td>\n",
              "      <td>55.328000</td>\n",
              "      <td>76.11</td>\n",
              "    </tr>\n",
              "    <tr>\n",
              "      <th>1</th>\n",
              "      <td>Arunachal Pradesh</td>\n",
              "      <td>2.0</td>\n",
              "      <td>2015-2016</td>\n",
              "      <td>358.645</td>\n",
              "      <td>181.794</td>\n",
              "      <td>33.109</td>\n",
              "      <td>214.904</td>\n",
              "      <td>292.713</td>\n",
              "      <td>1.080</td>\n",
              "      <td>59.921000</td>\n",
              "      <td>81.62</td>\n",
              "    </tr>\n",
              "    <tr>\n",
              "      <th>2</th>\n",
              "      <td>Assam</td>\n",
              "      <td>3.0</td>\n",
              "      <td>2015-2016</td>\n",
              "      <td>1682.157</td>\n",
              "      <td>1107.840</td>\n",
              "      <td>109.630</td>\n",
              "      <td>1217.470</td>\n",
              "      <td>1165.272</td>\n",
              "      <td>33.243</td>\n",
              "      <td>72.376000</td>\n",
              "      <td>69.27</td>\n",
              "    </tr>\n",
              "    <tr>\n",
              "      <th>3</th>\n",
              "      <td>Bihar</td>\n",
              "      <td>4.0</td>\n",
              "      <td>2015-2016</td>\n",
              "      <td>7387.148</td>\n",
              "      <td>2515.573</td>\n",
              "      <td>2891.506</td>\n",
              "      <td>5407.079</td>\n",
              "      <td>5762.259</td>\n",
              "      <td>-4.126</td>\n",
              "      <td>73.196000</td>\n",
              "      <td>78.00</td>\n",
              "    </tr>\n",
              "    <tr>\n",
              "      <th>4</th>\n",
              "      <td>Chhattisgarh</td>\n",
              "      <td>5.0</td>\n",
              "      <td>2015-2016</td>\n",
              "      <td>2149.343</td>\n",
              "      <td>622.197</td>\n",
              "      <td>959.418</td>\n",
              "      <td>1581.615</td>\n",
              "      <td>1477.519</td>\n",
              "      <td>36.023</td>\n",
              "      <td>73.585975</td>\n",
              "      <td>68.74</td>\n",
              "    </tr>\n",
              "  </tbody>\n",
              "</table>\n",
              "</div>\n",
              "      <button class=\"colab-df-convert\" onclick=\"convertToInteractive('df-9b9f382d-b83c-4b4a-858a-3e9b5ab83a11')\"\n",
              "              title=\"Convert this dataframe to an interactive table.\"\n",
              "              style=\"display:none;\">\n",
              "        \n",
              "  <svg xmlns=\"http://www.w3.org/2000/svg\" height=\"24px\"viewBox=\"0 0 24 24\"\n",
              "       width=\"24px\">\n",
              "    <path d=\"M0 0h24v24H0V0z\" fill=\"none\"/>\n",
              "    <path d=\"M18.56 5.44l.94 2.06.94-2.06 2.06-.94-2.06-.94-.94-2.06-.94 2.06-2.06.94zm-11 1L8.5 8.5l.94-2.06 2.06-.94-2.06-.94L8.5 2.5l-.94 2.06-2.06.94zm10 10l.94 2.06.94-2.06 2.06-.94-2.06-.94-.94-2.06-.94 2.06-2.06.94z\"/><path d=\"M17.41 7.96l-1.37-1.37c-.4-.4-.92-.59-1.43-.59-.52 0-1.04.2-1.43.59L10.3 9.45l-7.72 7.72c-.78.78-.78 2.05 0 2.83L4 21.41c.39.39.9.59 1.41.59.51 0 1.02-.2 1.41-.59l7.78-7.78 2.81-2.81c.8-.78.8-2.07 0-2.86zM5.41 20L4 18.59l7.72-7.72 1.47 1.35L5.41 20z\"/>\n",
              "  </svg>\n",
              "      </button>\n",
              "      \n",
              "  <style>\n",
              "    .colab-df-container {\n",
              "      display:flex;\n",
              "      flex-wrap:wrap;\n",
              "      gap: 12px;\n",
              "    }\n",
              "\n",
              "    .colab-df-convert {\n",
              "      background-color: #E8F0FE;\n",
              "      border: none;\n",
              "      border-radius: 50%;\n",
              "      cursor: pointer;\n",
              "      display: none;\n",
              "      fill: #1967D2;\n",
              "      height: 32px;\n",
              "      padding: 0 0 0 0;\n",
              "      width: 32px;\n",
              "    }\n",
              "\n",
              "    .colab-df-convert:hover {\n",
              "      background-color: #E2EBFA;\n",
              "      box-shadow: 0px 1px 2px rgba(60, 64, 67, 0.3), 0px 1px 3px 1px rgba(60, 64, 67, 0.15);\n",
              "      fill: #174EA6;\n",
              "    }\n",
              "\n",
              "    [theme=dark] .colab-df-convert {\n",
              "      background-color: #3B4455;\n",
              "      fill: #D2E3FC;\n",
              "    }\n",
              "\n",
              "    [theme=dark] .colab-df-convert:hover {\n",
              "      background-color: #434B5C;\n",
              "      box-shadow: 0px 1px 3px 1px rgba(0, 0, 0, 0.15);\n",
              "      filter: drop-shadow(0px 1px 2px rgba(0, 0, 0, 0.3));\n",
              "      fill: #FFFFFF;\n",
              "    }\n",
              "  </style>\n",
              "\n",
              "      <script>\n",
              "        const buttonEl =\n",
              "          document.querySelector('#df-9b9f382d-b83c-4b4a-858a-3e9b5ab83a11 button.colab-df-convert');\n",
              "        buttonEl.style.display =\n",
              "          google.colab.kernel.accessAllowed ? 'block' : 'none';\n",
              "\n",
              "        async function convertToInteractive(key) {\n",
              "          const element = document.querySelector('#df-9b9f382d-b83c-4b4a-858a-3e9b5ab83a11');\n",
              "          const dataTable =\n",
              "            await google.colab.kernel.invokeFunction('convertToInteractive',\n",
              "                                                     [key], {});\n",
              "          if (!dataTable) return;\n",
              "\n",
              "          const docLinkHtml = 'Like what you see? Visit the ' +\n",
              "            '<a target=\"_blank\" href=https://colab.research.google.com/notebooks/data_table.ipynb>data table notebook</a>'\n",
              "            + ' to learn more about interactive tables.';\n",
              "          element.innerHTML = '';\n",
              "          dataTable['output_type'] = 'display_data';\n",
              "          await google.colab.output.renderOutput(dataTable, element);\n",
              "          const docLink = document.createElement('div');\n",
              "          docLink.innerHTML = docLinkHtml;\n",
              "          element.appendChild(docLink);\n",
              "        }\n",
              "      </script>\n",
              "    </div>\n",
              "  </div>\n",
              "  "
            ],
            "text/plain": [
              "               state  code       year  budget_approved  released_funds_by_goi  \\\n",
              "0     Andhra Pradesh   1.0  2015-2016         2116.062                723.748   \n",
              "1  Arunachal Pradesh   2.0  2015-2016          358.645                181.794   \n",
              "2              Assam   3.0  2015-2016         1682.157               1107.840   \n",
              "3              Bihar   4.0  2015-2016         7387.148               2515.573   \n",
              "4       Chhattisgarh   5.0  2015-2016         2149.343                622.197   \n",
              "\n",
              "   released_funds_by_states  total_funds_released  expense_incurred_by_states  \\\n",
              "0                   447.030              1170.778                    1610.515   \n",
              "1                    33.109               214.904                     292.713   \n",
              "2                   109.630              1217.470                    1165.272   \n",
              "3                  2891.506              5407.079                    5762.259   \n",
              "4                   959.418              1581.615                    1477.519   \n",
              "\n",
              "   unspent_balance  funds_released_against_budgetapproved(%)  \\\n",
              "0          297.883                                 55.328000   \n",
              "1            1.080                                 59.921000   \n",
              "2           33.243                                 72.376000   \n",
              "3           -4.126                                 73.196000   \n",
              "4           36.023                                 73.585975   \n",
              "\n",
              "   funds_utilised_against_budgetapproved(%)  \n",
              "0                                     76.11  \n",
              "1                                     81.62  \n",
              "2                                     69.27  \n",
              "3                                     78.00  \n",
              "4                                     68.74  "
            ]
          },
          "execution_count": 41,
          "metadata": {},
          "output_type": "execute_result"
        }
      ],
      "source": [
        "ssa.head()"
      ]
    },
    {
      "cell_type": "markdown",
      "metadata": {
        "id": "PVHc53Pydifi"
      },
      "source": [
        "**6.2 PREPROCESSING DATA FOR MODELING**"
      ]
    },
    {
      "cell_type": "code",
      "execution_count": null,
      "metadata": {
        "id": "eYcvv8Vz9_nJ"
      },
      "outputs": [],
      "source": [
        "# df = ssa.copy()\n",
        "# #encodeing for year\n",
        "# df['year'] = df['year'].str.replace('-2016', '').str.replace('-2017', '').str.replace('-2018', '')\n",
        "# df['year'] = df['year'].astype(int)"
      ]
    },
    {
      "cell_type": "code",
      "execution_count": null,
      "metadata": {
        "id": "A2EL4TiDTn5t"
      },
      "outputs": [],
      "source": [
        "# #Creating dataframe for different years\n",
        "# ssa_2015 = df.query(\"year == 2015\")\n",
        "# ssa_2016 = df.query(\"year == 2016\")\n",
        "# ssa_2017 = df.query(\"year == 2017\")\n",
        "# ssa_2015_16 = pd.concat([ssa_2015, ssa_2016])"
      ]
    },
    {
      "cell_type": "markdown",
      "metadata": {
        "id": "eGVgTIhCeJ5V"
      },
      "source": [
        "#PART B\n",
        "\n",
        "**MACHINE LEARNING MODELING**"
      ]
    },
    {
      "cell_type": "markdown",
      "metadata": {
        "id": "4dGf0-KAe3nJ"
      },
      "source": [
        "**6.3 OBJECTIVES**\n",
        "\n",
        "**OBJECTIVE 1 --> We will train data for 2 years(2015-16 to 2016-17) and will  take 'approved_budget' as test data for  2017-18 year and decide which ML model will work efficiently**\n",
        "\n",
        "**OBJECTIVE 2 --> We will take ML model from obejective 1 and train data for 3 years(2015-16 to 2017-18) and will predict 'approved_budget' for  2018-19 financial year**"
      ]
    },
    {
      "cell_type": "markdown",
      "metadata": {
        "id": "TKqC0hjsiujy"
      },
      "source": [
        "**6.3.1. USING LINEAR REGRESSION IN OBJECTIVE 1**"
      ]
    },
    {
      "cell_type": "code",
      "execution_count": null,
      "metadata": {
        "colab": {
          "base_uri": "https://localhost:8080/",
          "height": 527
        },
        "id": "fB7PghD4kcD0",
        "outputId": "0474fba6-9ee2-40bd-9a98-39fed25f99f0"
      },
      "outputs": [
        {
          "name": "stdout",
          "output_type": "stream",
          "text": [
            "Mean absolute error:   2239.904197563468\n",
            "Mse: 14509118.399689121\n",
            "RMSE: 3809.083669294903\n"
          ]
        },
        {
          "data": {
            "image/png": "[encoded data removed]",
            "text/plain": [
              "<Figure size 640x480 with 1 Axes>"
            ]
          },
          "metadata": {},
          "output_type": "display_data"
        }
      ],
      "source": [
        "from sklearn.metrics import mean_absolute_percentage_error\n",
        "from sklearn.preprocessing import StandardScaler\n",
        "from sklearn.metrics import mean_absolute_error\n",
        "import seaborn as sns\n",
        "# df = ssa.copy()\n",
        "\n",
        "\n",
        "# Select the relevant features as predictors\n",
        "predictors = ['code', 'year']\n",
        "\n",
        "# # Drop the rows with missing values in the response variable\n",
        "# df.dropna(subset=['released_funds_by_states'], inplace=True)\n",
        "\n",
        "X = df[predictors]\n",
        "y = df['budget_approved']\n",
        "# Split the dataset into training and testing sets\n",
        "X_train = ssa_2015_16[predictors]\n",
        "y_train = ssa_2015_16['budget_approved']\n",
        "X_test  = ssa_2017[predictors]\n",
        "y_test  = ssa_2017['budget_approved']\n",
        "\n",
        "\n",
        "# X_train, X_test, y_train, y_test = train_test_split(df[predictors], df['budget_approved'], test_size=0.3, random_state=42)\n",
        "\n",
        "# scale the data using StandardScaler\n",
        "scaler = StandardScaler()\n",
        "X_train = scaler.fit_transform(X_train)\n",
        "X_test = scaler.transform(X_test)\n",
        "\n",
        "# Create a linear regression model and fit it to the training data\n",
        "lr = LinearRegression()\n",
        "lr.fit(X_train, y_train)\n",
        "\n",
        "# Predict the funds released by the States/UTs for the testing set\n",
        "y_pred = lr.predict(X_test)\n",
        "\n",
        "# Evaluate the model using mean squared error\n",
        "mae = (mean_absolute_error(y_test, y_pred))\n",
        "print(\"Mean absolute error:  \", mae)\n",
        "rmse = np.sqrt(mean_squared_error(y_test, y_pred))\n",
        "mse = (mean_squared_error(y_test, y_pred))\n",
        "print(\"Mse:\",mse)\n",
        "\n",
        "print(f\"RMSE:\", rmse)\n",
        "\n",
        "\n",
        "sns.regplot(x=y_test,y=y_pred,ci=None,color ='magenta',scatter_kws={'s':50,'color':'yellow'})  #ci gives size of the confidence interval for the regression estimate\n",
        "\n",
        "plt.title('Linear Regression - Predicted vs Actual Budget Approved')\n",
        "plt.xlabel('Actual budget approved')\n",
        "plt.ylabel('Predicted budget approved')\n",
        "plt.show()"
      ]
    },
    {
      "cell_type": "code",
      "execution_count": null,
      "metadata": {
        "colab": {
          "base_uri": "https://localhost:8080/",
          "height": 472
        },
        "id": "DPUKdAV6tuwA",
        "outputId": "b8cdc149-def1-479e-ec81-c21afe1624a0"
      },
      "outputs": [
        {
          "data": {
            "image/png": "[encoded data removed]",
            "text/plain": [
              "<Figure size 640x480 with 1 Axes>"
            ]
          },
          "metadata": {},
          "output_type": "display_data"
        }
      ],
      "source": [
        "# Plot the predicted and actual budget values\n",
        "plt.plot(y_test.values, label='Actual')\n",
        "plt.plot(y_pred, label='Predicted')\n",
        "plt.legend()\n",
        "plt.title('Linear Regression - Predicted vs Actual Budget Approved')\n",
        "plt.xlabel('Index')\n",
        "plt.ylabel('Budget Approved')\n",
        "plt.show()"
      ]
    },
    {
      "cell_type": "code",
      "execution_count": null,
      "metadata": {
        "colab": {
          "base_uri": "https://localhost:8080/",
          "height": 363
        },
        "id": "U04b4UhOtp7K",
        "outputId": "fa51b055-d8ba-435e-d130-1e235518ac8b"
      },
      "outputs": [
        {
          "data": {
            "text/html": [
              "\n",
              "  <div id=\"df-a2d22842-ee6d-49ed-a74e-ac68160a4bea\">\n",
              "    <div class=\"colab-df-container\">\n",
              "      <div>\n",
              "<style scoped>\n",
              "    .dataframe tbody tr th:only-of-type {\n",
              "        vertical-align: middle;\n",
              "    }\n",
              "\n",
              "    .dataframe tbody tr th {\n",
              "        vertical-align: top;\n",
              "    }\n",
              "\n",
              "    .dataframe thead th {\n",
              "        text-align: right;\n",
              "    }\n",
              "</style>\n",
              "<table border=\"1\" class=\"dataframe\">\n",
              "  <thead>\n",
              "    <tr style=\"text-align: right;\">\n",
              "      <th></th>\n",
              "      <th>Actual Value</th>\n",
              "      <th>Predicted Value</th>\n",
              "      <th>Difference</th>\n",
              "    </tr>\n",
              "  </thead>\n",
              "  <tbody>\n",
              "    <tr>\n",
              "      <th>74</th>\n",
              "      <td>2882.482</td>\n",
              "      <td>2749.735845</td>\n",
              "      <td>132.746155</td>\n",
              "    </tr>\n",
              "    <tr>\n",
              "      <th>75</th>\n",
              "      <td>380.851</td>\n",
              "      <td>2727.732513</td>\n",
              "      <td>-2346.881513</td>\n",
              "    </tr>\n",
              "    <tr>\n",
              "      <th>76</th>\n",
              "      <td>1856.434</td>\n",
              "      <td>2705.729182</td>\n",
              "      <td>-849.295182</td>\n",
              "    </tr>\n",
              "    <tr>\n",
              "      <th>77</th>\n",
              "      <td>10558.587</td>\n",
              "      <td>2683.725851</td>\n",
              "      <td>7874.861149</td>\n",
              "    </tr>\n",
              "    <tr>\n",
              "      <th>78</th>\n",
              "      <td>2269.452</td>\n",
              "      <td>2661.722519</td>\n",
              "      <td>-392.270519</td>\n",
              "    </tr>\n",
              "    <tr>\n",
              "      <th>79</th>\n",
              "      <td>32.279</td>\n",
              "      <td>2639.719188</td>\n",
              "      <td>-2607.440188</td>\n",
              "    </tr>\n",
              "    <tr>\n",
              "      <th>80</th>\n",
              "      <td>3453.596</td>\n",
              "      <td>2617.715857</td>\n",
              "      <td>835.880143</td>\n",
              "    </tr>\n",
              "    <tr>\n",
              "      <th>81</th>\n",
              "      <td>1144.678</td>\n",
              "      <td>2595.712525</td>\n",
              "      <td>-1451.034525</td>\n",
              "    </tr>\n",
              "    <tr>\n",
              "      <th>82</th>\n",
              "      <td>473.743</td>\n",
              "      <td>2573.709194</td>\n",
              "      <td>-2099.966194</td>\n",
              "    </tr>\n",
              "    <tr>\n",
              "      <th>83</th>\n",
              "      <td>1532.189</td>\n",
              "      <td>2551.705863</td>\n",
              "      <td>-1019.516863</td>\n",
              "    </tr>\n",
              "  </tbody>\n",
              "</table>\n",
              "</div>\n",
              "      <button class=\"colab-df-convert\" onclick=\"convertToInteractive('df-a2d22842-ee6d-49ed-a74e-ac68160a4bea')\"\n",
              "              title=\"Convert this dataframe to an interactive table.\"\n",
              "              style=\"display:none;\">\n",
              "        \n",
              "  <svg xmlns=\"http://www.w3.org/2000/svg\" height=\"24px\"viewBox=\"0 0 24 24\"\n",
              "       width=\"24px\">\n",
              "    <path d=\"M0 0h24v24H0V0z\" fill=\"none\"/>\n",
              "    <path d=\"M18.56 5.44l.94 2.06.94-2.06 2.06-.94-2.06-.94-.94-2.06-.94 2.06-2.06.94zm-11 1L8.5 8.5l.94-2.06 2.06-.94-2.06-.94L8.5 2.5l-.94 2.06-2.06.94zm10 10l.94 2.06.94-2.06 2.06-.94-2.06-.94-.94-2.06-.94 2.06-2.06.94z\"/><path d=\"M17.41 7.96l-1.37-1.37c-.4-.4-.92-.59-1.43-.59-.52 0-1.04.2-1.43.59L10.3 9.45l-7.72 7.72c-.78.78-.78 2.05 0 2.83L4 21.41c.39.39.9.59 1.41.59.51 0 1.02-.2 1.41-.59l7.78-7.78 2.81-2.81c.8-.78.8-2.07 0-2.86zM5.41 20L4 18.59l7.72-7.72 1.47 1.35L5.41 20z\"/>\n",
              "  </svg>\n",
              "      </button>\n",
              "      \n",
              "  <style>\n",
              "    .colab-df-container {\n",
              "      display:flex;\n",
              "      flex-wrap:wrap;\n",
              "      gap: 12px;\n",
              "    }\n",
              "\n",
              "    .colab-df-convert {\n",
              "      background-color: #E8F0FE;\n",
              "      border: none;\n",
              "      border-radius: 50%;\n",
              "      cursor: pointer;\n",
              "      display: none;\n",
              "      fill: #1967D2;\n",
              "      height: 32px;\n",
              "      padding: 0 0 0 0;\n",
              "      width: 32px;\n",
              "    }\n",
              "\n",
              "    .colab-df-convert:hover {\n",
              "      background-color: #E2EBFA;\n",
              "      box-shadow: 0px 1px 2px rgba(60, 64, 67, 0.3), 0px 1px 3px 1px rgba(60, 64, 67, 0.15);\n",
              "      fill: #174EA6;\n",
              "    }\n",
              "\n",
              "    [theme=dark] .colab-df-convert {\n",
              "      background-color: #3B4455;\n",
              "      fill: #D2E3FC;\n",
              "    }\n",
              "\n",
              "    [theme=dark] .colab-df-convert:hover {\n",
              "      background-color: #434B5C;\n",
              "      box-shadow: 0px 1px 3px 1px rgba(0, 0, 0, 0.15);\n",
              "      filter: drop-shadow(0px 1px 2px rgba(0, 0, 0, 0.3));\n",
              "      fill: #FFFFFF;\n",
              "    }\n",
              "  </style>\n",
              "\n",
              "      <script>\n",
              "        const buttonEl =\n",
              "          document.querySelector('#df-a2d22842-ee6d-49ed-a74e-ac68160a4bea button.colab-df-convert');\n",
              "        buttonEl.style.display =\n",
              "          google.colab.kernel.accessAllowed ? 'block' : 'none';\n",
              "\n",
              "        async function convertToInteractive(key) {\n",
              "          const element = document.querySelector('#df-a2d22842-ee6d-49ed-a74e-ac68160a4bea');\n",
              "          const dataTable =\n",
              "            await google.colab.kernel.invokeFunction('convertToInteractive',\n",
              "                                                     [key], {});\n",
              "          if (!dataTable) return;\n",
              "\n",
              "          const docLinkHtml = 'Like what you see? Visit the ' +\n",
              "            '<a target=\"_blank\" href=https://colab.research.google.com/notebooks/data_table.ipynb>data table notebook</a>'\n",
              "            + ' to learn more about interactive tables.';\n",
              "          element.innerHTML = '';\n",
              "          dataTable['output_type'] = 'display_data';\n",
              "          await google.colab.output.renderOutput(dataTable, element);\n",
              "          const docLink = document.createElement('div');\n",
              "          docLink.innerHTML = docLinkHtml;\n",
              "          element.appendChild(docLink);\n",
              "        }\n",
              "      </script>\n",
              "    </div>\n",
              "  </div>\n",
              "  "
            ],
            "text/plain": [
              "    Actual Value  Predicted Value   Difference\n",
              "74      2882.482      2749.735845   132.746155\n",
              "75       380.851      2727.732513 -2346.881513\n",
              "76      1856.434      2705.729182  -849.295182\n",
              "77     10558.587      2683.725851  7874.861149\n",
              "78      2269.452      2661.722519  -392.270519\n",
              "79        32.279      2639.719188 -2607.440188\n",
              "80      3453.596      2617.715857   835.880143\n",
              "81      1144.678      2595.712525 -1451.034525\n",
              "82       473.743      2573.709194 -2099.966194\n",
              "83      1532.189      2551.705863 -1019.516863"
            ]
          },
          "execution_count": 46,
          "metadata": {},
          "output_type": "execute_result"
        }
      ],
      "source": [
        "pred_df=pd.DataFrame({'Actual Value':y_test,'Predicted Value':y_pred,'Difference':y_test-y_pred})\n",
        "pred_df.head(10)"
      ]
    },
    {
      "cell_type": "markdown",
      "metadata": {
        "id": "09C0pIWJojSo"
      },
      "source": [
        "**6.3.2 USING RANDOM FOREST IN OBJECTIVE 1**"
      ]
    },
    {
      "cell_type": "code",
      "execution_count": null,
      "metadata": {
        "colab": {
          "base_uri": "https://localhost:8080/",
          "height": 490
        },
        "id": "HLVayjvkklzo",
        "outputId": "a075d63c-f9a1-45c9-d487-5d12e3b034f7"
      },
      "outputs": [
        {
          "name": "stdout",
          "output_type": "stream",
          "text": [
            "Mean Absolute Error:  592.4466100000001\n"
          ]
        },
        {
          "data": {
            "image/png": "[encoded data removed]",
            "text/plain": [
              "<Figure size 640x480 with 1 Axes>"
            ]
          },
          "metadata": {},
          "output_type": "display_data"
        }
      ],
      "source": [
        "# Importing required libraries\n",
        "import pandas as pd\n",
        "from sklearn.ensemble import RandomForestRegressor\n",
        "from sklearn.model_selection import train_test_split\n",
        "from sklearn.metrics import mean_absolute_error\n",
        "\n",
        "\n",
        "# Creating a Random Forest regressor object and training the model on the training set\n",
        "rf_regressor = RandomForestRegressor(n_estimators=100, random_state=42)\n",
        "rf_regressor.fit(X_train, y_train)\n",
        "\n",
        "# Predicting the values of funds released for the test set\n",
        "y_pred = rf_regressor.predict(X_test)\n",
        "\n",
        "y_pred\n",
        "# Calculating the mean absolute error of the predictions\n",
        "mae = mean_absolute_error(y_test, y_pred)\n",
        "print(\"Mean Absolute Error: \", mae)\n",
        "\n",
        "sns.regplot(x=y_test,y=y_pred,ci=None,color ='blue',scatter_kws={'s':50,'color':'red'})  #ci gives size of the confidence interval for the regression estimate\n",
        "\n",
        "plt.title('Random Forest Regression - Predicted vs Actual Budget Approved')\n",
        "plt.xlabel('Actual budget approved')\n",
        "plt.ylabel('Predicted budget approved')\n",
        "plt.show()\n",
        "\n"
      ]
    },
    {
      "cell_type": "code",
      "execution_count": null,
      "metadata": {
        "colab": {
          "base_uri": "https://localhost:8080/",
          "height": 472
        },
        "id": "GtPeD9iEt73V",
        "outputId": "14aab0dc-94b2-477a-deba-724a783df697"
      },
      "outputs": [
        {
          "data": {
            "image/png": "[encoded data removed]",
            "text/plain": [
              "<Figure size 640x480 with 1 Axes>"
            ]
          },
          "metadata": {},
          "output_type": "display_data"
        }
      ],
      "source": [
        "import matplotlib.pyplot as plt\n",
        "\n",
        "# Plot the predicted and actual budget values\n",
        "plt.plot(y_test.values, label='Actual')\n",
        "plt.plot(y_pred, label='Predicted')\n",
        "plt.legend()\n",
        "plt.title('Random Forest Regression - Predicted vs Actual Budget Approved')\n",
        "plt.xlabel('Index')\n",
        "plt.ylabel('Budget Approved')\n",
        "plt.show()"
      ]
    },
    {
      "cell_type": "code",
      "execution_count": null,
      "metadata": {
        "colab": {
          "base_uri": "https://localhost:8080/",
          "height": 363
        },
        "id": "kVqsrvq5ulIw",
        "outputId": "45ff8e0d-28cb-4ea8-9227-3edc1fc73ee7"
      },
      "outputs": [
        {
          "data": {
            "text/html": [
              "\n",
              "  <div id=\"df-50063f9d-2db4-4f6d-b3b7-dd2ccfeea97e\">\n",
              "    <div class=\"colab-df-container\">\n",
              "      <div>\n",
              "<style scoped>\n",
              "    .dataframe tbody tr th:only-of-type {\n",
              "        vertical-align: middle;\n",
              "    }\n",
              "\n",
              "    .dataframe tbody tr th {\n",
              "        vertical-align: top;\n",
              "    }\n",
              "\n",
              "    .dataframe thead th {\n",
              "        text-align: right;\n",
              "    }\n",
              "</style>\n",
              "<table border=\"1\" class=\"dataframe\">\n",
              "  <thead>\n",
              "    <tr style=\"text-align: right;\">\n",
              "      <th></th>\n",
              "      <th>Actual Value</th>\n",
              "      <th>Predicted Value</th>\n",
              "      <th>Difference</th>\n",
              "    </tr>\n",
              "  </thead>\n",
              "  <tbody>\n",
              "    <tr>\n",
              "      <th>74</th>\n",
              "      <td>2882.482</td>\n",
              "      <td>2196.45653</td>\n",
              "      <td>686.02547</td>\n",
              "    </tr>\n",
              "    <tr>\n",
              "      <th>75</th>\n",
              "      <td>380.851</td>\n",
              "      <td>631.43403</td>\n",
              "      <td>-250.58303</td>\n",
              "    </tr>\n",
              "    <tr>\n",
              "      <th>76</th>\n",
              "      <td>1856.434</td>\n",
              "      <td>1578.97492</td>\n",
              "      <td>277.45908</td>\n",
              "    </tr>\n",
              "    <tr>\n",
              "      <th>77</th>\n",
              "      <td>10558.587</td>\n",
              "      <td>7898.21456</td>\n",
              "      <td>2660.37244</td>\n",
              "    </tr>\n",
              "    <tr>\n",
              "      <th>78</th>\n",
              "      <td>2269.452</td>\n",
              "      <td>2145.38327</td>\n",
              "      <td>124.06873</td>\n",
              "    </tr>\n",
              "    <tr>\n",
              "      <th>79</th>\n",
              "      <td>32.279</td>\n",
              "      <td>503.97979</td>\n",
              "      <td>-471.70079</td>\n",
              "    </tr>\n",
              "    <tr>\n",
              "      <th>80</th>\n",
              "      <td>3453.596</td>\n",
              "      <td>2071.32364</td>\n",
              "      <td>1382.27236</td>\n",
              "    </tr>\n",
              "    <tr>\n",
              "      <th>81</th>\n",
              "      <td>1144.678</td>\n",
              "      <td>1052.51006</td>\n",
              "      <td>92.16794</td>\n",
              "    </tr>\n",
              "    <tr>\n",
              "      <th>82</th>\n",
              "      <td>473.743</td>\n",
              "      <td>641.71316</td>\n",
              "      <td>-167.97016</td>\n",
              "    </tr>\n",
              "    <tr>\n",
              "      <th>83</th>\n",
              "      <td>1532.189</td>\n",
              "      <td>1646.51858</td>\n",
              "      <td>-114.32958</td>\n",
              "    </tr>\n",
              "  </tbody>\n",
              "</table>\n",
              "</div>\n",
              "      <button class=\"colab-df-convert\" onclick=\"convertToInteractive('df-50063f9d-2db4-4f6d-b3b7-dd2ccfeea97e')\"\n",
              "              title=\"Convert this dataframe to an interactive table.\"\n",
              "              style=\"display:none;\">\n",
              "        \n",
              "  <svg xmlns=\"http://www.w3.org/2000/svg\" height=\"24px\"viewBox=\"0 0 24 24\"\n",
              "       width=\"24px\">\n",
              "    <path d=\"M0 0h24v24H0V0z\" fill=\"none\"/>\n",
              "    <path d=\"M18.56 5.44l.94 2.06.94-2.06 2.06-.94-2.06-.94-.94-2.06-.94 2.06-2.06.94zm-11 1L8.5 8.5l.94-2.06 2.06-.94-2.06-.94L8.5 2.5l-.94 2.06-2.06.94zm10 10l.94 2.06.94-2.06 2.06-.94-2.06-.94-.94-2.06-.94 2.06-2.06.94z\"/><path d=\"M17.41 7.96l-1.37-1.37c-.4-.4-.92-.59-1.43-.59-.52 0-1.04.2-1.43.59L10.3 9.45l-7.72 7.72c-.78.78-.78 2.05 0 2.83L4 21.41c.39.39.9.59 1.41.59.51 0 1.02-.2 1.41-.59l7.78-7.78 2.81-2.81c.8-.78.8-2.07 0-2.86zM5.41 20L4 18.59l7.72-7.72 1.47 1.35L5.41 20z\"/>\n",
              "  </svg>\n",
              "      </button>\n",
              "      \n",
              "  <style>\n",
              "    .colab-df-container {\n",
              "      display:flex;\n",
              "      flex-wrap:wrap;\n",
              "      gap: 12px;\n",
              "    }\n",
              "\n",
              "    .colab-df-convert {\n",
              "      background-color: #E8F0FE;\n",
              "      border: none;\n",
              "      border-radius: 50%;\n",
              "      cursor: pointer;\n",
              "      display: none;\n",
              "      fill: #1967D2;\n",
              "      height: 32px;\n",
              "      padding: 0 0 0 0;\n",
              "      width: 32px;\n",
              "    }\n",
              "\n",
              "    .colab-df-convert:hover {\n",
              "      background-color: #E2EBFA;\n",
              "      box-shadow: 0px 1px 2px rgba(60, 64, 67, 0.3), 0px 1px 3px 1px rgba(60, 64, 67, 0.15);\n",
              "      fill: #174EA6;\n",
              "    }\n",
              "\n",
              "    [theme=dark] .colab-df-convert {\n",
              "      background-color: #3B4455;\n",
              "      fill: #D2E3FC;\n",
              "    }\n",
              "\n",
              "    [theme=dark] .colab-df-convert:hover {\n",
              "      background-color: #434B5C;\n",
              "      box-shadow: 0px 1px 3px 1px rgba(0, 0, 0, 0.15);\n",
              "      filter: drop-shadow(0px 1px 2px rgba(0, 0, 0, 0.3));\n",
              "      fill: #FFFFFF;\n",
              "    }\n",
              "  </style>\n",
              "\n",
              "      <script>\n",
              "        const buttonEl =\n",
              "          document.querySelector('#df-50063f9d-2db4-4f6d-b3b7-dd2ccfeea97e button.colab-df-convert');\n",
              "        buttonEl.style.display =\n",
              "          google.colab.kernel.accessAllowed ? 'block' : 'none';\n",
              "\n",
              "        async function convertToInteractive(key) {\n",
              "          const element = document.querySelector('#df-50063f9d-2db4-4f6d-b3b7-dd2ccfeea97e');\n",
              "          const dataTable =\n",
              "            await google.colab.kernel.invokeFunction('convertToInteractive',\n",
              "                                                     [key], {});\n",
              "          if (!dataTable) return;\n",
              "\n",
              "          const docLinkHtml = 'Like what you see? Visit the ' +\n",
              "            '<a target=\"_blank\" href=https://colab.research.google.com/notebooks/data_table.ipynb>data table notebook</a>'\n",
              "            + ' to learn more about interactive tables.';\n",
              "          element.innerHTML = '';\n",
              "          dataTable['output_type'] = 'display_data';\n",
              "          await google.colab.output.renderOutput(dataTable, element);\n",
              "          const docLink = document.createElement('div');\n",
              "          docLink.innerHTML = docLinkHtml;\n",
              "          element.appendChild(docLink);\n",
              "        }\n",
              "      </script>\n",
              "    </div>\n",
              "  </div>\n",
              "  "
            ],
            "text/plain": [
              "    Actual Value  Predicted Value  Difference\n",
              "74      2882.482       2196.45653   686.02547\n",
              "75       380.851        631.43403  -250.58303\n",
              "76      1856.434       1578.97492   277.45908\n",
              "77     10558.587       7898.21456  2660.37244\n",
              "78      2269.452       2145.38327   124.06873\n",
              "79        32.279        503.97979  -471.70079\n",
              "80      3453.596       2071.32364  1382.27236\n",
              "81      1144.678       1052.51006    92.16794\n",
              "82       473.743        641.71316  -167.97016\n",
              "83      1532.189       1646.51858  -114.32958"
            ]
          },
          "execution_count": 49,
          "metadata": {},
          "output_type": "execute_result"
        }
      ],
      "source": [
        "pred_df=pd.DataFrame({'Actual Value':y_test,'Predicted Value':y_pred,'Difference':y_test-y_pred})\n",
        "pred_df.head(10)"
      ]
    },
    {
      "cell_type": "markdown",
      "metadata": {
        "id": "MrTHvhjcos9n"
      },
      "source": [
        "**6.3.3 USING RANDOM FOREST IN OBJECTIVE 2**"
      ]
    },
    {
      "cell_type": "code",
      "execution_count": null,
      "metadata": {
        "id": "GCgyjnThksOV"
      },
      "outputs": [],
      "source": [
        "# create a list of numbers from 1 to 30 for state Andrapradesh to Chandigarh\n",
        "codes = list(range(1, 31))\n",
        "\n",
        "# create a list of 30 instances of the year 2018\n",
        "years = [2018] * 30\n",
        "\n",
        "# create a dictionary with the column names as keys and the lists as values\n",
        "data = {'code': codes, 'year': years}\n",
        "\n",
        "# create a Pandas dataframe from the dictionary\n",
        "X_test = pd.DataFrame(data)"
      ]
    },
    {
      "cell_type": "code",
      "execution_count": null,
      "metadata": {
        "colab": {
          "base_uri": "https://localhost:8080/"
        },
        "id": "9pAU4Fyw89Qv",
        "outputId": "a0f95d92-4fd4-4d41-e15a-1653d59c893c"
      },
      "outputs": [
        {
          "data": {
            "text/plain": [
              "array([ 2544.05732,   585.52034,  1729.43079,  9364.90411,  2411.12661,\n",
              "         585.65834,  2738.89702,  1049.17183,   601.97063,  1514.3646 ,\n",
              "        1754.81993,   864.99699,  5337.79412,  2782.07444,   544.78667,\n",
              "         412.42726,   239.54905,   323.39707,  2414.58913,  1416.42857,\n",
              "        5630.07015,   519.90838,  2496.04795,  2213.15535,   625.10314,\n",
              "       19116.70375,  1866.78506,  4404.72172,   338.45947,   100.71483])"
            ]
          },
          "execution_count": 51,
          "metadata": {},
          "output_type": "execute_result"
        }
      ],
      "source": [
        "from sklearn.metrics import mean_absolute_percentage_error\n",
        "from sklearn.preprocessing import StandardScaler\n",
        "from sklearn.metrics import mean_absolute_error\n",
        "# df = ssa.copy()\n",
        "\n",
        "\n",
        "# Select the relevant features as predictors\n",
        "# predictors = ['code','year','released_funds_by_goi', 'total_funds_released' , 'expense_incurred_by_states','funds_released_against_budgetapproved(%)','funds_utilised_against_budgetapproved(%)' ]\n",
        "predictors = ['code','year']\n",
        "\n",
        "\n",
        "X = df[predictors]\n",
        "y = df['budget_approved']\n",
        "# Split the dataset into training and testing sets\n",
        "# X_train, X_test, y_train, y_test = train_test_split(df[predictors], df['budget_approved'], test_size=0.2, random_state=42)\n",
        "\n",
        "\n",
        "X_train = df[predictors]\n",
        "y_train = df['budget_approved']\n",
        "\n",
        "\n",
        "# scale the data using StandardScaler\n",
        "scaler = StandardScaler()\n",
        "X_train = scaler.fit_transform(X_train)\n",
        "X_test = scaler.transform(X_test)\n",
        "\n",
        "# Creating a Random Forest regressor object and training the model on the training set\n",
        "rf_regressor = RandomForestRegressor(n_estimators=100, random_state=42)\n",
        "rf_regressor.fit(X_train, y_train)\n",
        "\n",
        "# Predicting the values of funds released for the test set\n",
        "y_pred = rf_regressor.predict(X_test)\n",
        "\n",
        "y_pred\n"
      ]
    },
    {
      "cell_type": "code",
      "execution_count": null,
      "metadata": {
        "id": "Mbuuy5omvc9R"
      },
      "outputs": [],
      "source": [
        "state_ = ssa['state'].unique()"
      ]
    },
    {
      "cell_type": "code",
      "execution_count": null,
      "metadata": {
        "id": "x3DSuU6UrvLj"
      },
      "outputs": [],
      "source": [
        "states = state_[0:30]"
      ]
    },
    {
      "cell_type": "code",
      "execution_count": null,
      "metadata": {
        "id": "zF26lAzqpvTF"
      },
      "outputs": [],
      "source": [
        "result = pd.DataFrame({'state': states, 'approved_budget':y_pred} )\n"
      ]
    },
    {
      "cell_type": "markdown",
      "metadata": {
        "id": "shZIo2eosOOB"
      },
      "source": [
        "**6.4 RESULT**"
      ]
    },
    {
      "cell_type": "markdown",
      "metadata": {
        "id": "xk5j2echsW0T"
      },
      "source": [
        "**Prediction for approved_budget for 2018-19**"
      ]
    },
    {
      "cell_type": "code",
      "execution_count": null,
      "metadata": {
        "colab": {
          "base_uri": "https://localhost:8080/",
          "height": 990
        },
        "id": "cZuE_boZrrDX",
        "outputId": "0ad28962-fdf1-4d55-fcf8-a2d6b99f0b2a"
      },
      "outputs": [
        {
          "data": {
            "text/html": [
              "\n",
              "  <div id=\"df-d5335561-ae45-4c45-9b8a-b72592428909\">\n",
              "    <div class=\"colab-df-container\">\n",
              "      <div>\n",
              "<style scoped>\n",
              "    .dataframe tbody tr th:only-of-type {\n",
              "        vertical-align: middle;\n",
              "    }\n",
              "\n",
              "    .dataframe tbody tr th {\n",
              "        vertical-align: top;\n",
              "    }\n",
              "\n",
              "    .dataframe thead th {\n",
              "        text-align: right;\n",
              "    }\n",
              "</style>\n",
              "<table border=\"1\" class=\"dataframe\">\n",
              "  <thead>\n",
              "    <tr style=\"text-align: right;\">\n",
              "      <th></th>\n",
              "      <th>state</th>\n",
              "      <th>approved_budget</th>\n",
              "    </tr>\n",
              "  </thead>\n",
              "  <tbody>\n",
              "    <tr>\n",
              "      <th>0</th>\n",
              "      <td>Andhra Pradesh</td>\n",
              "      <td>2544.05732</td>\n",
              "    </tr>\n",
              "    <tr>\n",
              "      <th>1</th>\n",
              "      <td>Arunachal Pradesh</td>\n",
              "      <td>585.52034</td>\n",
              "    </tr>\n",
              "    <tr>\n",
              "      <th>2</th>\n",
              "      <td>Assam</td>\n",
              "      <td>1729.43079</td>\n",
              "    </tr>\n",
              "    <tr>\n",
              "      <th>3</th>\n",
              "      <td>Bihar</td>\n",
              "      <td>9364.90411</td>\n",
              "    </tr>\n",
              "    <tr>\n",
              "      <th>4</th>\n",
              "      <td>Chhattisgarh</td>\n",
              "      <td>2411.12661</td>\n",
              "    </tr>\n",
              "    <tr>\n",
              "      <th>5</th>\n",
              "      <td>Goa</td>\n",
              "      <td>585.65834</td>\n",
              "    </tr>\n",
              "    <tr>\n",
              "      <th>6</th>\n",
              "      <td>Gujarat</td>\n",
              "      <td>2738.89702</td>\n",
              "    </tr>\n",
              "    <tr>\n",
              "      <th>7</th>\n",
              "      <td>Haryana</td>\n",
              "      <td>1049.17183</td>\n",
              "    </tr>\n",
              "    <tr>\n",
              "      <th>8</th>\n",
              "      <td>Himachal Pradesh</td>\n",
              "      <td>601.97063</td>\n",
              "    </tr>\n",
              "    <tr>\n",
              "      <th>9</th>\n",
              "      <td>Jharkhand</td>\n",
              "      <td>1514.36460</td>\n",
              "    </tr>\n",
              "    <tr>\n",
              "      <th>10</th>\n",
              "      <td>Karnataka</td>\n",
              "      <td>1754.81993</td>\n",
              "    </tr>\n",
              "    <tr>\n",
              "      <th>11</th>\n",
              "      <td>Kerala</td>\n",
              "      <td>864.99699</td>\n",
              "    </tr>\n",
              "    <tr>\n",
              "      <th>12</th>\n",
              "      <td>Madhya Pradesh</td>\n",
              "      <td>5337.79412</td>\n",
              "    </tr>\n",
              "    <tr>\n",
              "      <th>13</th>\n",
              "      <td>Maharashtra</td>\n",
              "      <td>2782.07444</td>\n",
              "    </tr>\n",
              "    <tr>\n",
              "      <th>14</th>\n",
              "      <td>Manipur</td>\n",
              "      <td>544.78667</td>\n",
              "    </tr>\n",
              "    <tr>\n",
              "      <th>15</th>\n",
              "      <td>Meghalaya</td>\n",
              "      <td>412.42726</td>\n",
              "    </tr>\n",
              "    <tr>\n",
              "      <th>16</th>\n",
              "      <td>Mizoram</td>\n",
              "      <td>239.54905</td>\n",
              "    </tr>\n",
              "    <tr>\n",
              "      <th>17</th>\n",
              "      <td>Nagaland</td>\n",
              "      <td>323.39707</td>\n",
              "    </tr>\n",
              "    <tr>\n",
              "      <th>18</th>\n",
              "      <td>Odisha</td>\n",
              "      <td>2414.58913</td>\n",
              "    </tr>\n",
              "    <tr>\n",
              "      <th>19</th>\n",
              "      <td>Punjab</td>\n",
              "      <td>1416.42857</td>\n",
              "    </tr>\n",
              "    <tr>\n",
              "      <th>20</th>\n",
              "      <td>Rajasthan</td>\n",
              "      <td>5630.07015</td>\n",
              "    </tr>\n",
              "    <tr>\n",
              "      <th>21</th>\n",
              "      <td>Sikkim</td>\n",
              "      <td>519.90838</td>\n",
              "    </tr>\n",
              "    <tr>\n",
              "      <th>22</th>\n",
              "      <td>Tamil Nadu</td>\n",
              "      <td>2496.04795</td>\n",
              "    </tr>\n",
              "    <tr>\n",
              "      <th>23</th>\n",
              "      <td>Telangana</td>\n",
              "      <td>2213.15535</td>\n",
              "    </tr>\n",
              "    <tr>\n",
              "      <th>24</th>\n",
              "      <td>Tripura</td>\n",
              "      <td>625.10314</td>\n",
              "    </tr>\n",
              "    <tr>\n",
              "      <th>25</th>\n",
              "      <td>Uttar Pradesh</td>\n",
              "      <td>19116.70375</td>\n",
              "    </tr>\n",
              "    <tr>\n",
              "      <th>26</th>\n",
              "      <td>Uttarakhand</td>\n",
              "      <td>1866.78506</td>\n",
              "    </tr>\n",
              "    <tr>\n",
              "      <th>27</th>\n",
              "      <td>West Bengal</td>\n",
              "      <td>4404.72172</td>\n",
              "    </tr>\n",
              "    <tr>\n",
              "      <th>28</th>\n",
              "      <td>A &amp; N Islands</td>\n",
              "      <td>338.45947</td>\n",
              "    </tr>\n",
              "    <tr>\n",
              "      <th>29</th>\n",
              "      <td>Chandigarh</td>\n",
              "      <td>100.71483</td>\n",
              "    </tr>\n",
              "  </tbody>\n",
              "</table>\n",
              "</div>\n",
              "      <button class=\"colab-df-convert\" onclick=\"convertToInteractive('df-d5335561-ae45-4c45-9b8a-b72592428909')\"\n",
              "              title=\"Convert this dataframe to an interactive table.\"\n",
              "              style=\"display:none;\">\n",
              "        \n",
              "  <svg xmlns=\"http://www.w3.org/2000/svg\" height=\"24px\"viewBox=\"0 0 24 24\"\n",
              "       width=\"24px\">\n",
              "    <path d=\"M0 0h24v24H0V0z\" fill=\"none\"/>\n",
              "    <path d=\"M18.56 5.44l.94 2.06.94-2.06 2.06-.94-2.06-.94-.94-2.06-.94 2.06-2.06.94zm-11 1L8.5 8.5l.94-2.06 2.06-.94-2.06-.94L8.5 2.5l-.94 2.06-2.06.94zm10 10l.94 2.06.94-2.06 2.06-.94-2.06-.94-.94-2.06-.94 2.06-2.06.94z\"/><path d=\"M17.41 7.96l-1.37-1.37c-.4-.4-.92-.59-1.43-.59-.52 0-1.04.2-1.43.59L10.3 9.45l-7.72 7.72c-.78.78-.78 2.05 0 2.83L4 21.41c.39.39.9.59 1.41.59.51 0 1.02-.2 1.41-.59l7.78-7.78 2.81-2.81c.8-.78.8-2.07 0-2.86zM5.41 20L4 18.59l7.72-7.72 1.47 1.35L5.41 20z\"/>\n",
              "  </svg>\n",
              "      </button>\n",
              "      \n",
              "  <style>\n",
              "    .colab-df-container {\n",
              "      display:flex;\n",
              "      flex-wrap:wrap;\n",
              "      gap: 12px;\n",
              "    }\n",
              "\n",
              "    .colab-df-convert {\n",
              "      background-color: #E8F0FE;\n",
              "      border: none;\n",
              "      border-radius: 50%;\n",
              "      cursor: pointer;\n",
              "      display: none;\n",
              "      fill: #1967D2;\n",
              "      height: 32px;\n",
              "      padding: 0 0 0 0;\n",
              "      width: 32px;\n",
              "    }\n",
              "\n",
              "    .colab-df-convert:hover {\n",
              "      background-color: #E2EBFA;\n",
              "      box-shadow: 0px 1px 2px rgba(60, 64, 67, 0.3), 0px 1px 3px 1px rgba(60, 64, 67, 0.15);\n",
              "      fill: #174EA6;\n",
              "    }\n",
              "\n",
              "    [theme=dark] .colab-df-convert {\n",
              "      background-color: #3B4455;\n",
              "      fill: #D2E3FC;\n",
              "    }\n",
              "\n",
              "    [theme=dark] .colab-df-convert:hover {\n",
              "      background-color: #434B5C;\n",
              "      box-shadow: 0px 1px 3px 1px rgba(0, 0, 0, 0.15);\n",
              "      filter: drop-shadow(0px 1px 2px rgba(0, 0, 0, 0.3));\n",
              "      fill: #FFFFFF;\n",
              "    }\n",
              "  </style>\n",
              "\n",
              "      <script>\n",
              "        const buttonEl =\n",
              "          document.querySelector('#df-d5335561-ae45-4c45-9b8a-b72592428909 button.colab-df-convert');\n",
              "        buttonEl.style.display =\n",
              "          google.colab.kernel.accessAllowed ? 'block' : 'none';\n",
              "\n",
              "        async function convertToInteractive(key) {\n",
              "          const element = document.querySelector('#df-d5335561-ae45-4c45-9b8a-b72592428909');\n",
              "          const dataTable =\n",
              "            await google.colab.kernel.invokeFunction('convertToInteractive',\n",
              "                                                     [key], {});\n",
              "          if (!dataTable) return;\n",
              "\n",
              "          const docLinkHtml = 'Like what you see? Visit the ' +\n",
              "            '<a target=\"_blank\" href=https://colab.research.google.com/notebooks/data_table.ipynb>data table notebook</a>'\n",
              "            + ' to learn more about interactive tables.';\n",
              "          element.innerHTML = '';\n",
              "          dataTable['output_type'] = 'display_data';\n",
              "          await google.colab.output.renderOutput(dataTable, element);\n",
              "          const docLink = document.createElement('div');\n",
              "          docLink.innerHTML = docLinkHtml;\n",
              "          element.appendChild(docLink);\n",
              "        }\n",
              "      </script>\n",
              "    </div>\n",
              "  </div>\n",
              "  "
            ],
            "text/plain": [
              "                state  approved_budget\n",
              "0      Andhra Pradesh       2544.05732\n",
              "1   Arunachal Pradesh        585.52034\n",
              "2               Assam       1729.43079\n",
              "3               Bihar       9364.90411\n",
              "4        Chhattisgarh       2411.12661\n",
              "5                 Goa        585.65834\n",
              "6             Gujarat       2738.89702\n",
              "7             Haryana       1049.17183\n",
              "8    Himachal Pradesh        601.97063\n",
              "9           Jharkhand       1514.36460\n",
              "10          Karnataka       1754.81993\n",
              "11             Kerala        864.99699\n",
              "12     Madhya Pradesh       5337.79412\n",
              "13        Maharashtra       2782.07444\n",
              "14            Manipur        544.78667\n",
              "15          Meghalaya        412.42726\n",
              "16            Mizoram        239.54905\n",
              "17           Nagaland        323.39707\n",
              "18             Odisha       2414.58913\n",
              "19             Punjab       1416.42857\n",
              "20          Rajasthan       5630.07015\n",
              "21             Sikkim        519.90838\n",
              "22         Tamil Nadu       2496.04795\n",
              "23          Telangana       2213.15535\n",
              "24            Tripura        625.10314\n",
              "25      Uttar Pradesh      19116.70375\n",
              "26        Uttarakhand       1866.78506\n",
              "27        West Bengal       4404.72172\n",
              "28      A & N Islands        338.45947\n",
              "29         Chandigarh        100.71483"
            ]
          },
          "execution_count": 55,
          "metadata": {},
          "output_type": "execute_result"
        }
      ],
      "source": [
        "result"
      ]
    }
  ],
  "metadata": {
    "colab": {
      "provenance": []
    },
    "kernelspec": {
      "display_name": "Python 3",
      "name": "python3"
    },
    "language_info": {
      "name": "python"
    }
  },
  "nbformat": 4,
  "nbformat_minor": 0
}
